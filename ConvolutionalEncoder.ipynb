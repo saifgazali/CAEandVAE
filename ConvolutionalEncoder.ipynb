{
 "cells": [
  {
   "cell_type": "code",
   "execution_count": 1,
   "metadata": {
    "id": "3ozL23_HpQOu"
   },
   "outputs": [],
   "source": [
    "import torch\n",
    "import torch.nn as nn\n",
    "import matplotlib.pyplot as plt\n",
    "\n",
    "from torchvision import datasets,transforms\n",
    "\n",
    "from torch.utils.data import DataLoader,SubsetRandomSampler,sampler\n",
    "import numpy as np\n",
    "\n",
    "import matplotlib.colors as mcolors"
   ]
  },
  {
   "cell_type": "code",
   "execution_count": 2,
   "metadata": {
    "id": "TWEGVrRdpT8S"
   },
   "outputs": [],
   "source": [
    "def get_data_loader_mnist(batch_size,num_workers=0,validation_fraction=0\n",
    "                          ,train_transforms=None,test_transforms=None):\n",
    "  if train_transforms is None:\n",
    "    train_transforms = transforms.ToTensor()\n",
    "  \n",
    "  if test_transforms is None:\n",
    "    test_transforms = transforms.ToTensor()\n",
    "\n",
    "  \n",
    "  train_dataset = datasets.MNIST(root='data',train=True,transform=train_transforms,download=True)\n",
    "\n",
    "  valid_dataset = datasets.MNIST(root='data',train=True,transform=test_transforms)\n",
    "\n",
    "  test_dataset = datasets.MNIST(root='data',train=False,transform=test_transforms) \n",
    "\n",
    "\n",
    "  if validation_fraction is not None:\n",
    "    num = int(validation_fraction * 60000)\n",
    "\n",
    "    train_indices = np.arange(0,60000-num)\n",
    "    val_indices = np.arange(60000-num,60000)\n",
    "\n",
    "    train_sampler = SubsetRandomSampler(train_indices)\n",
    "    valid_sampler = SubsetRandomSampler(val_indices)\n",
    "\n",
    "    valid_loader = DataLoader(dataset = valid_dataset,\n",
    "                              batch_size=batch_size,\n",
    "                              num_workers=num_workers,\n",
    "                              sampler=valid_sampler)\n",
    "    \n",
    "    train_loader = DataLoader(dataset = train_dataset,\n",
    "                              batch_size=batch_size,\n",
    "                              num_workers=num_workers,\n",
    "                              drop_last=True,\n",
    "                              sampler=train_sampler)\n",
    "    \n",
    "  else:\n",
    "    train_loader = DataLoader(dataset = train_dataset,\n",
    "                              batch_size=batch_size,\n",
    "                              num_workers=num_workers,\n",
    "                              shuffle=True)\n",
    "    \n",
    "  \n",
    "  test_loader = DataLoader(dataset = test_dataset,\n",
    "                              batch_size=batch_size,\n",
    "                              num_workers=num_workers,\n",
    "                            shuffle=False)\n",
    "  \n",
    "  if validation_fraction is None:\n",
    "    return train_loader,test_loader\n",
    "\n",
    "  else:\n",
    "    return train_loader,valid_loader,test_loader\n",
    "    "
   ]
  },
  {
   "cell_type": "code",
   "execution_count": 3,
   "metadata": {
    "colab": {
     "base_uri": "https://localhost:8080/",
     "height": 423,
     "referenced_widgets": [
      "27ee9039c78f49cebca85f1f324698f3",
      "7437b806235b4fb79ee3abb5e57d1d97",
      "06deea603ec245489ca02489c12ccdbf",
      "21f21c27eaf8444cb83dad2ad3c70bda",
      "75653982b0104b679ac8591ce35172c0",
      "e4f050c446cf4f76b1abd9b0c2cb2fca",
      "e4f04dbc3efe40eebabd4b9c614ac5a0",
      "a1d1158b893645a7910f81f03d028a5c",
      "176bfdc30a8347988f2ca4cac3277204",
      "ba84229d79304325878728cc22c6c382",
      "89389cf0ef6941e393a8195f33346d60",
      "e202b822fcf1440fb2c7b7597a0d30fd",
      "50b89680c3f246afae3a25811f4cf630",
      "a42d101a5e7147a0aba834c919a3326a",
      "3a6e7522e805428f98f34038080a6160",
      "0c08b2170f5a400ab3c7ca2054d2e57a",
      "1572bb0796ee4c3ba16fde6c20793c7b",
      "78b0dac66b2348369f643d382d0007d7",
      "2f87aac6dd7847429342e6d2b3c396de",
      "5e076f58f396427cb90cf721d935dd6a",
      "2ba4adcd62e7454893cd807ef463b693",
      "5b7d819bd4e34e16b1eb1070ddfa51b4",
      "856a4652bae64aa5a07ca42dde50d04e",
      "a04d9ce988354f25bff0dc150e4cb6d2",
      "31013139df8241c0a4639c062f00d3fa",
      "595fa8c17c45430ea666effa9636f56d",
      "05418183c0bb4a98926de1725ce761c2",
      "adc17a5a30ae4b9ea6d4bc10ba40a3e8",
      "428c8d5f796f4181be3738951b378436",
      "849d071e14e547049bc58109624f2d98",
      "c172c15432944ffd96f29c1617516450",
      "3d27a0c809d6485e8756f145177b2dd8",
      "7ddbe865d8f24da69ee1f8eded02d320",
      "79994b0c6e744e4b9fde50761f85d836",
      "8d3132ac696c4343a383563abd018806",
      "3850229880094401af4da0d83d917478",
      "160b15abc6694a43b9e04a8e74ebcbef",
      "f27af86b740049a7a1a38bae3dcead23",
      "cef61bac42964620af89581f08689980",
      "7fcc98967df5444bb1b4ff2d06e34653",
      "03e8432f6f7f4bab868868cf63966906",
      "8d1673d14d2b460ebcc90cf2a83f83b9",
      "394b10e621384c7594da7d0f11560f51",
      "edba6b7341574f6c9b6cf8ccce7ecc04"
     ]
    },
    "id": "GrWUXyc2pT_F",
    "outputId": "72ef339f-4f4f-49eb-ca56-4d33dce8f99e"
   },
   "outputs": [
    {
     "name": "stdout",
     "output_type": "stream",
     "text": [
      "Downloading http://yann.lecun.com/exdb/mnist/train-images-idx3-ubyte.gz\n",
      "Downloading http://yann.lecun.com/exdb/mnist/train-images-idx3-ubyte.gz to data/MNIST/raw/train-images-idx3-ubyte.gz\n"
     ]
    },
    {
     "data": {
      "application/vnd.jupyter.widget-view+json": {
       "model_id": "27ee9039c78f49cebca85f1f324698f3",
       "version_major": 2,
       "version_minor": 0
      },
      "text/plain": [
       "  0%|          | 0/9912422 [00:00<?, ?it/s]"
      ]
     },
     "metadata": {},
     "output_type": "display_data"
    },
    {
     "name": "stdout",
     "output_type": "stream",
     "text": [
      "Extracting data/MNIST/raw/train-images-idx3-ubyte.gz to data/MNIST/raw\n",
      "\n",
      "Downloading http://yann.lecun.com/exdb/mnist/train-labels-idx1-ubyte.gz\n",
      "Downloading http://yann.lecun.com/exdb/mnist/train-labels-idx1-ubyte.gz to data/MNIST/raw/train-labels-idx1-ubyte.gz\n"
     ]
    },
    {
     "data": {
      "application/vnd.jupyter.widget-view+json": {
       "model_id": "e202b822fcf1440fb2c7b7597a0d30fd",
       "version_major": 2,
       "version_minor": 0
      },
      "text/plain": [
       "  0%|          | 0/28881 [00:00<?, ?it/s]"
      ]
     },
     "metadata": {},
     "output_type": "display_data"
    },
    {
     "name": "stdout",
     "output_type": "stream",
     "text": [
      "Extracting data/MNIST/raw/train-labels-idx1-ubyte.gz to data/MNIST/raw\n",
      "\n",
      "Downloading http://yann.lecun.com/exdb/mnist/t10k-images-idx3-ubyte.gz\n",
      "Downloading http://yann.lecun.com/exdb/mnist/t10k-images-idx3-ubyte.gz to data/MNIST/raw/t10k-images-idx3-ubyte.gz\n"
     ]
    },
    {
     "data": {
      "application/vnd.jupyter.widget-view+json": {
       "model_id": "856a4652bae64aa5a07ca42dde50d04e",
       "version_major": 2,
       "version_minor": 0
      },
      "text/plain": [
       "  0%|          | 0/1648877 [00:00<?, ?it/s]"
      ]
     },
     "metadata": {},
     "output_type": "display_data"
    },
    {
     "name": "stdout",
     "output_type": "stream",
     "text": [
      "Extracting data/MNIST/raw/t10k-images-idx3-ubyte.gz to data/MNIST/raw\n",
      "\n",
      "Downloading http://yann.lecun.com/exdb/mnist/t10k-labels-idx1-ubyte.gz\n",
      "Downloading http://yann.lecun.com/exdb/mnist/t10k-labels-idx1-ubyte.gz to data/MNIST/raw/t10k-labels-idx1-ubyte.gz\n"
     ]
    },
    {
     "data": {
      "application/vnd.jupyter.widget-view+json": {
       "model_id": "79994b0c6e744e4b9fde50761f85d836",
       "version_major": 2,
       "version_minor": 0
      },
      "text/plain": [
       "  0%|          | 0/4542 [00:00<?, ?it/s]"
      ]
     },
     "metadata": {},
     "output_type": "display_data"
    },
    {
     "name": "stdout",
     "output_type": "stream",
     "text": [
      "Extracting data/MNIST/raw/t10k-labels-idx1-ubyte.gz to data/MNIST/raw\n",
      "\n"
     ]
    }
   ],
   "source": [
    "train_loader, valid_loader, test_loader = get_data_loader_mnist(\n",
    "    batch_size=256, \n",
    "    num_workers=2, \n",
    "    validation_fraction=0.)"
   ]
  },
  {
   "cell_type": "code",
   "execution_count": 4,
   "metadata": {
    "colab": {
     "base_uri": "https://localhost:8080/"
    },
    "id": "zHKo6y8gpjFm",
    "outputId": "2727f1b1-7e70-434e-f2d1-4dccb8c6bc4c"
   },
   "outputs": [
    {
     "name": "stdout",
     "output_type": "stream",
     "text": [
      "Training set:\n",
      "Image batch dimensions: torch.Size([256, 1, 28, 28])\n",
      "Image label dimensions: torch.Size([256])\n",
      "tensor([4, 4, 7, 8, 2, 1, 1, 1, 6, 8])\n",
      "Testing Set:\n",
      "Image batch dimensions: torch.Size([256, 1, 28, 28])\n",
      "Image label dimensions: torch.Size([256])\n",
      "tensor([7, 2, 1, 0, 4, 1, 4, 9, 5, 9])\n"
     ]
    }
   ],
   "source": [
    "#Checking the dataset\n",
    "print(\"Training set:\")\n",
    "for images,labels in train_loader:\n",
    "  print('Image batch dimensions:', images.size())\n",
    "  print('Image label dimensions:', labels.size())\n",
    "  print(labels[:10])\n",
    "  break\n",
    "\n",
    "\n",
    "# Checking the dataset\n",
    "print('Testing Set:')\n",
    "for images, labels in test_loader:  \n",
    "    print('Image batch dimensions:', images.size())\n",
    "    print('Image label dimensions:', labels.size())\n",
    "    print(labels[:10])\n",
    "    break\n"
   ]
  },
  {
   "cell_type": "code",
   "execution_count": null,
   "metadata": {
    "id": "0laeqphKpjIx"
   },
   "outputs": [],
   "source": [
    "class Reshape(nn.Module):\n",
    "  def __init__(self,*args):\n",
    "    super().__init__()\n",
    "    self.shape=args\n",
    "  \n",
    "  def forward(self,x):\n",
    "    #print(x.shape)\n",
    "    return x.view(self.shape)\n",
    "\n",
    "\n",
    "class Trim(nn.Module):\n",
    "  def __init__(self,*args):\n",
    "    super().__init__()\n",
    "  \n",
    "  def forward(self,x):\n",
    "    return x[:,:,:28,:28] # removing 1 pixel going from 29 to 28\n",
    "\n",
    "\n",
    "class AutoEncoder(nn.Module):\n",
    "  def __init__(self):\n",
    "    super().__init__()\n",
    "\n",
    "    self.encoder = nn.Sequential(\n",
    "        nn.Conv2d(1,32,stride=(1,1),kernel_size=(3,3),padding=1),\n",
    "        nn.LeakyReLU(0.01),\n",
    "        nn.Conv2d(32,64,stride=(2,2),kernel_size=(3,3),padding=1),\n",
    "        nn.LeakyReLU(0.01),\n",
    "        nn.Conv2d(64,64,stride=(2,2),kernel_size=(3,3),padding=1),\n",
    "        nn.LeakyReLU(0.01),\n",
    "        nn.Conv2d(64,64,stride=(1,1),kernel_size=(3,3),padding=1),\n",
    "        nn.Flatten(),\n",
    "        nn.Linear(3136,2) #only 2 hidden features as per the diagram \n",
    "        #because 3136 = 64x7x7\n",
    "    )\n",
    "\n",
    "    self.decoder = nn.Sequential(\n",
    "        nn.Linear(2,3136),\n",
    "        Reshape(-1,64,7,7),\n",
    "        nn.ConvTranspose2d(64,64,stride=(1,1),kernel_size=(3,3),padding=1),\n",
    "        nn.LeakyReLU(0.01),\n",
    "        nn.ConvTranspose2d(64,64,stride=(2,2),kernel_size=(3,3),padding=1),\n",
    "        nn.LeakyReLU(0.01),\n",
    "        nn.ConvTranspose2d(64,32,stride=(2,2),kernel_size=(3,3),padding=0),\n",
    "        nn.LeakyReLU(0.01),\n",
    "        nn.ConvTranspose2d(32,1,stride=(1,1),kernel_size=(3,3),padding=0),\n",
    "        Trim(), # 1 x 29 x 29 -> 1x28x28 \n",
    "        nn.Sigmoid() \n",
    "    )\n",
    "\n",
    "  def forward(self,x):\n",
    "    x = self.encoder(x)\n",
    "    x = self.decoder(x)\n",
    "    return x\n",
    "\n",
    "\n"
   ]
  },
  {
   "cell_type": "code",
   "execution_count": null,
   "metadata": {
    "id": "X9ipuX8KpjMP"
   },
   "outputs": [],
   "source": [
    "model = AutoEncoder()"
   ]
  },
  {
   "cell_type": "code",
   "execution_count": null,
   "metadata": {
    "colab": {
     "base_uri": "https://localhost:8080/"
    },
    "id": "Kf1yc7Zaqz9L",
    "outputId": "323e9bd5-3eb0-4c74-b9a8-929c6e3974ad"
   },
   "outputs": [
    {
     "data": {
      "text/plain": [
       "AutoEncoder(\n",
       "  (encoder): Sequential(\n",
       "    (0): Conv2d(1, 32, kernel_size=(3, 3), stride=(1, 1), padding=(1, 1))\n",
       "    (1): LeakyReLU(negative_slope=0.01)\n",
       "    (2): Conv2d(32, 64, kernel_size=(3, 3), stride=(2, 2), padding=(1, 1))\n",
       "    (3): LeakyReLU(negative_slope=0.01)\n",
       "    (4): Conv2d(64, 64, kernel_size=(3, 3), stride=(2, 2), padding=(1, 1))\n",
       "    (5): LeakyReLU(negative_slope=0.01)\n",
       "    (6): Conv2d(64, 64, kernel_size=(3, 3), stride=(1, 1), padding=(1, 1))\n",
       "    (7): Flatten(start_dim=1, end_dim=-1)\n",
       "    (8): Linear(in_features=3136, out_features=2, bias=True)\n",
       "  )\n",
       "  (decoder): Sequential(\n",
       "    (0): Linear(in_features=2, out_features=3136, bias=True)\n",
       "    (1): Reshape()\n",
       "    (2): ConvTranspose2d(64, 64, kernel_size=(3, 3), stride=(1, 1), padding=(1, 1))\n",
       "    (3): LeakyReLU(negative_slope=0.01)\n",
       "    (4): ConvTranspose2d(64, 64, kernel_size=(3, 3), stride=(2, 2), padding=(1, 1))\n",
       "    (5): LeakyReLU(negative_slope=0.01)\n",
       "    (6): ConvTranspose2d(64, 32, kernel_size=(3, 3), stride=(2, 2))\n",
       "    (7): LeakyReLU(negative_slope=0.01)\n",
       "    (8): ConvTranspose2d(32, 1, kernel_size=(3, 3), stride=(1, 1))\n",
       "    (9): Trim()\n",
       "    (10): Sigmoid()\n",
       "  )\n",
       ")"
      ]
     },
     "execution_count": 38,
     "metadata": {},
     "output_type": "execute_result"
    }
   ],
   "source": [
    "model"
   ]
  },
  {
   "cell_type": "code",
   "execution_count": 5,
   "metadata": {
    "id": "-zb7jGbWrlfx"
   },
   "outputs": [],
   "source": [
    "def compute_epoch_loss_autoencoder(model, data_loader, loss_fn):\n",
    "    model.eval()\n",
    "    curr_loss, num_examples = 0., 0\n",
    "    with torch.no_grad():\n",
    "        for features, _ in data_loader:\n",
    "            logits = model(features)\n",
    "            loss = loss_fn(logits, features, reduction='sum')\n",
    "            num_examples += features.size(0)\n",
    "            curr_loss += loss\n",
    "\n",
    "        curr_loss = curr_loss / num_examples\n",
    "        return curr_loss"
   ]
  },
  {
   "cell_type": "code",
   "execution_count": 15,
   "metadata": {
    "id": "KtJmsESKrljX"
   },
   "outputs": [],
   "source": [
    "def train_autoencoder(num_epochs, model, optimizer, train_loader,loss_fn=None,\n",
    "              logging_interval=100,skip_epoch_stats=False,\n",
    "              reconstruction_term_weight=1,\n",
    "              save_model=None):\n",
    "  \n",
    "  log_dict = {'train_loss_per_batch': []}\n",
    "\n",
    "  if loss_fn is None:\n",
    "    loss_fn = nn.functional.mse_loss\n",
    "  \n",
    "  for epoch in range(num_epochs):\n",
    "\n",
    "    model.train()\n",
    "\n",
    "    for batch_idx, (features,_) in enumerate(train_loader):\n",
    "\n",
    "      #print(features.shape)\n",
    "\n",
    "      #forward and back prop\n",
    "      logits = model(features)\n",
    "\n",
    "      # print(logits.shape)\n",
    "\n",
    "      loss = loss_fn(logits,features)\n",
    "     \n",
    "      optimizer.zero_grad()\n",
    "\n",
    "      loss.backward()\n",
    "\n",
    "      #update model parameters\n",
    "      optimizer.step()\n",
    "\n",
    "      #Logging\n",
    "      log_dict['train_loss_per_batch'].append(loss.item())\n",
    "\n",
    "      if not batch_idx % logging_interval:\n",
    "                print('Epoch: %03d/%03d | Batch %04d/%04d | Loss: %.4f'\n",
    "                      % (epoch+1, num_epochs, batch_idx,\n",
    "                          len(train_loader), loss))\n",
    "    if not skip_epoch_stats:\n",
    "            model.eval()\n",
    "            \n",
    "            with torch.set_grad_enabled(False):  # save memory during inference\n",
    "                \n",
    "                train_loss = compute_epoch_loss_autoencoder(\n",
    "                    model, train_loader, loss_fn)\n",
    "                print('***Epoch: %03d/%03d | Loss: %.3f' % (\n",
    "                      epoch+1, num_epochs, train_loss))\n",
    "                log_dict['train_combined_per_epoch'].append(train_loss.item())\n",
    "    \n",
    "  if save_model is not None:\n",
    "    torch.save(model.state_dict(), save_model)\n",
    "  \n",
    "  return log_dict\n",
    "\n"
   ]
  },
  {
   "cell_type": "code",
   "execution_count": null,
   "metadata": {
    "id": "RFRAwhT1soOI"
   },
   "outputs": [],
   "source": [
    "optimizer = torch.optim.Adam(model.parameters(),lr=0.0005)"
   ]
  },
  {
   "cell_type": "code",
   "execution_count": null,
   "metadata": {
    "colab": {
     "base_uri": "https://localhost:8080/"
    },
    "id": "c7bPh6w3rlwI",
    "outputId": "aeafa947-3b79-404a-b3be-0bf614a0cca8"
   },
   "outputs": [
    {
     "name": "stdout",
     "output_type": "stream",
     "text": [
      "Epoch: 001/010 | Batch 0000/0234 | Loss: 0.2175\n",
      "Epoch: 001/010 | Batch 0050/0234 | Loss: 0.0692\n",
      "Epoch: 001/010 | Batch 0100/0234 | Loss: 0.0664\n",
      "Epoch: 001/010 | Batch 0150/0234 | Loss: 0.0646\n",
      "Epoch: 001/010 | Batch 0200/0234 | Loss: 0.0598\n",
      "Epoch: 002/010 | Batch 0000/0234 | Loss: 0.0560\n",
      "Epoch: 002/010 | Batch 0050/0234 | Loss: 0.0565\n",
      "Epoch: 002/010 | Batch 0100/0234 | Loss: 0.0553\n",
      "Epoch: 002/010 | Batch 0150/0234 | Loss: 0.0521\n",
      "Epoch: 002/010 | Batch 0200/0234 | Loss: 0.0527\n",
      "Epoch: 003/010 | Batch 0000/0234 | Loss: 0.0514\n",
      "Epoch: 003/010 | Batch 0050/0234 | Loss: 0.0504\n",
      "Epoch: 003/010 | Batch 0100/0234 | Loss: 0.0505\n",
      "Epoch: 003/010 | Batch 0150/0234 | Loss: 0.0496\n",
      "Epoch: 003/010 | Batch 0200/0234 | Loss: 0.0498\n",
      "Epoch: 004/010 | Batch 0000/0234 | Loss: 0.0530\n",
      "Epoch: 004/010 | Batch 0050/0234 | Loss: 0.0481\n",
      "Epoch: 004/010 | Batch 0100/0234 | Loss: 0.0514\n",
      "Epoch: 004/010 | Batch 0150/0234 | Loss: 0.0460\n",
      "Epoch: 004/010 | Batch 0200/0234 | Loss: 0.0449\n",
      "Epoch: 005/010 | Batch 0000/0234 | Loss: 0.0471\n",
      "Epoch: 005/010 | Batch 0050/0234 | Loss: 0.0485\n",
      "Epoch: 005/010 | Batch 0100/0234 | Loss: 0.0481\n",
      "Epoch: 005/010 | Batch 0150/0234 | Loss: 0.0473\n",
      "Epoch: 005/010 | Batch 0200/0234 | Loss: 0.0441\n",
      "Epoch: 006/010 | Batch 0000/0234 | Loss: 0.0445\n",
      "Epoch: 006/010 | Batch 0050/0234 | Loss: 0.0436\n",
      "Epoch: 006/010 | Batch 0100/0234 | Loss: 0.0461\n",
      "Epoch: 006/010 | Batch 0150/0234 | Loss: 0.0476\n",
      "Epoch: 006/010 | Batch 0200/0234 | Loss: 0.0431\n",
      "Epoch: 007/010 | Batch 0000/0234 | Loss: 0.0432\n",
      "Epoch: 007/010 | Batch 0050/0234 | Loss: 0.0445\n",
      "Epoch: 007/010 | Batch 0100/0234 | Loss: 0.0437\n",
      "Epoch: 007/010 | Batch 0150/0234 | Loss: 0.0463\n",
      "Epoch: 007/010 | Batch 0200/0234 | Loss: 0.0445\n",
      "Epoch: 008/010 | Batch 0000/0234 | Loss: 0.0437\n",
      "Epoch: 008/010 | Batch 0050/0234 | Loss: 0.0445\n",
      "Epoch: 008/010 | Batch 0100/0234 | Loss: 0.0434\n",
      "Epoch: 008/010 | Batch 0150/0234 | Loss: 0.0427\n",
      "Epoch: 008/010 | Batch 0200/0234 | Loss: 0.0428\n",
      "Epoch: 009/010 | Batch 0000/0234 | Loss: 0.0430\n",
      "Epoch: 009/010 | Batch 0050/0234 | Loss: 0.0443\n",
      "Epoch: 009/010 | Batch 0100/0234 | Loss: 0.0407\n",
      "Epoch: 009/010 | Batch 0150/0234 | Loss: 0.0426\n",
      "Epoch: 009/010 | Batch 0200/0234 | Loss: 0.0442\n",
      "Epoch: 010/010 | Batch 0000/0234 | Loss: 0.0432\n",
      "Epoch: 010/010 | Batch 0050/0234 | Loss: 0.0424\n",
      "Epoch: 010/010 | Batch 0100/0234 | Loss: 0.0446\n",
      "Epoch: 010/010 | Batch 0150/0234 | Loss: 0.0438\n",
      "Epoch: 010/010 | Batch 0200/0234 | Loss: 0.0436\n"
     ]
    }
   ],
   "source": [
    "log_dict = train_autoencoder(num_epochs=10, model=model, \n",
    "                        optimizer=optimizer, \n",
    "                        train_loader=train_loader,\n",
    "                        skip_epoch_stats=True,\n",
    "                        logging_interval=50)"
   ]
  },
  {
   "cell_type": "code",
   "execution_count": null,
   "metadata": {
    "id": "WuH7Q0HjsnQ0"
   },
   "outputs": [],
   "source": [
    "torch.save(model, 'Encoder.pth')"
   ]
  },
  {
   "cell_type": "markdown",
   "metadata": {
    "id": "gSW6Rjonucaj"
   },
   "source": [
    "###Training Loss"
   ]
  },
  {
   "cell_type": "code",
   "execution_count": 7,
   "metadata": {
    "id": "q1dcV733tzmF"
   },
   "outputs": [],
   "source": [
    "def plot_training_loss(minibatch_losses, num_epochs, averaging_iterations=100, custom_label=''):\n",
    "\n",
    "    iter_per_epoch = len(minibatch_losses) // num_epochs\n",
    "\n",
    "    plt.figure()\n",
    "    ax1 = plt.subplot(1, 1, 1)\n",
    "    ax1.plot(range(len(minibatch_losses)),\n",
    "             (minibatch_losses), label=f'Minibatch Loss{custom_label}')\n",
    "    ax1.set_xlabel('Iterations')\n",
    "    ax1.set_ylabel('Loss')\n",
    "\n",
    "    if len(minibatch_losses) < 1000:\n",
    "        num_losses = len(minibatch_losses) // 2\n",
    "    else:\n",
    "        num_losses = 1000\n",
    "\n",
    "    ax1.set_ylim([\n",
    "        0, np.max(minibatch_losses[num_losses:])*1.5\n",
    "        ])\n",
    "\n",
    "    ax1.plot(np.convolve(minibatch_losses,\n",
    "                         np.ones(averaging_iterations,)/averaging_iterations,\n",
    "                         mode='valid'),\n",
    "             label=f'Running Average{custom_label}')\n",
    "    ax1.legend()\n",
    "\n",
    "    ###################\n",
    "    # Set second x-axis\n",
    "    ax2 = ax1.twiny()\n",
    "    newlabel = list(range(num_epochs+1))\n",
    "\n",
    "    newpos = [e*iter_per_epoch for e in newlabel]\n",
    "\n",
    "    ax2.set_xticks(newpos[::10])\n",
    "    ax2.set_xticklabels(newlabel[::10])\n",
    "\n",
    "    ax2.xaxis.set_ticks_position('bottom')\n",
    "    ax2.xaxis.set_label_position('bottom')\n",
    "    ax2.spines['bottom'].set_position(('outward', 45))\n",
    "    ax2.set_xlabel('Epochs')\n",
    "    ax2.set_xlim(ax1.get_xlim())\n",
    "    ###################\n",
    "\n",
    "    plt.tight_layout()"
   ]
  },
  {
   "cell_type": "code",
   "execution_count": null,
   "metadata": {
    "colab": {
     "base_uri": "https://localhost:8080/",
     "height": 297
    },
    "id": "WWg77QIStzz8",
    "outputId": "e3984ad8-465d-4269-f132-03145de04983"
   },
   "outputs": [
    {
     "data": {
      "image/png": "[encoded data removed]",
      "text/plain": [
       "<Figure size 432x288 with 2 Axes>"
      ]
     },
     "metadata": {
      "needs_background": "light"
     },
     "output_type": "display_data"
    }
   ],
   "source": [
    "plot_training_loss(log_dict['train_loss_per_batch'], 50)"
   ]
  },
  {
   "cell_type": "code",
   "execution_count": null,
   "metadata": {
    "id": "pfE2Mo0Xt5hg"
   },
   "outputs": [],
   "source": []
  },
  {
   "cell_type": "markdown",
   "metadata": {
    "id": "odF5SUnnuYrN"
   },
   "source": [
    "###Generate Images"
   ]
  },
  {
   "cell_type": "code",
   "execution_count": 8,
   "metadata": {
    "id": "r8rq9jZOt5kz"
   },
   "outputs": [],
   "source": [
    "def plot_generated_images(data_loader, model, \n",
    "                          unnormalizer=None,\n",
    "                          figsize=(20, 2.5), n_images=15):\n",
    "\n",
    "    fig, axes = plt.subplots(nrows=2, ncols=n_images, \n",
    "                             sharex=True, sharey=True, figsize=figsize)\n",
    "    \n",
    "    for batch_idx, (features, _) in enumerate(data_loader):\n",
    "\n",
    "        color_channels = features.shape[1]\n",
    "        image_height = features.shape[2]\n",
    "        image_width = features.shape[3]\n",
    "        \n",
    "        with torch.no_grad():\n",
    "            decoded_image = model(features)[:n_images]\n",
    "            \n",
    "        orig_images = features[:n_images]\n",
    "        break\n",
    "\n",
    "    for i in range(n_images):\n",
    "        for ax, img in zip(axes, [orig_images, decoded_image]):\n",
    "            curr_img = img[i]      \n",
    "            if unnormalizer is not None:\n",
    "                curr_img = unnormalizer(curr_img)\n",
    "\n",
    "            if color_channels > 1:\n",
    "                curr_img = np.transpose(curr_img, (1, 2, 0))\n",
    "                ax[i].imshow(curr_img)\n",
    "            else:\n",
    "                ax[i].imshow(curr_img.view((image_height, image_width)), cmap='binary')"
   ]
  },
  {
   "cell_type": "code",
   "execution_count": null,
   "metadata": {
    "colab": {
     "base_uri": "https://localhost:8080/",
     "height": 182
    },
    "id": "IomD35L7t5ns",
    "outputId": "ec878a03-ae0b-4f08-d571-8865765d5008"
   },
   "outputs": [
    {
     "data": {
      "image/png": "[encoded data removed]",
      "text/plain": [
       "<Figure size 1440x180 with 30 Axes>"
      ]
     },
     "metadata": {
      "needs_background": "light"
     },
     "output_type": "display_data"
    }
   ],
   "source": [
    "plot_generated_images(data_loader=train_loader, model=model) "
   ]
  },
  {
   "cell_type": "code",
   "execution_count": null,
   "metadata": {
    "id": "O3SphmRXt5qc"
   },
   "outputs": [],
   "source": []
  },
  {
   "cell_type": "markdown",
   "metadata": {
    "id": "lkjmm90YuVM1"
   },
   "source": [
    "###Latent Space"
   ]
  },
  {
   "cell_type": "code",
   "execution_count": 9,
   "metadata": {
    "id": "Y9oS8T9mt5t8"
   },
   "outputs": [],
   "source": [
    "def plot_latent_space_with_labels(num_classes, data_loader):\n",
    "    d = {i:[] for i in range(num_classes)}\n",
    "\n",
    "    with torch.no_grad():\n",
    "        for i, (features, targets) in enumerate(data_loader):\n",
    "            \n",
    "            embedding = model.encoder(features)\n",
    "\n",
    "            for i in range(num_classes):\n",
    "                if i in targets:\n",
    "                    mask = targets == i\n",
    "                    d[i].append(embedding[mask])\n",
    "\n",
    "    colors = list(mcolors.TABLEAU_COLORS.items())\n",
    "    for i in range(num_classes):\n",
    "        d[i] = np.concatenate(d[i])\n",
    "        plt.scatter(\n",
    "            d[i][:, 0], d[i][:, 1],\n",
    "            color=colors[i][1],\n",
    "            label=f'{i}',\n",
    "            alpha=0.5)\n",
    "\n",
    "    plt.legend()"
   ]
  },
  {
   "cell_type": "code",
   "execution_count": null,
   "metadata": {
    "colab": {
     "base_uri": "https://localhost:8080/",
     "height": 265
    },
    "id": "E4uT8Yt6uKQ-",
    "outputId": "b542f424-1d8b-4fbf-a212-f621f26ef41b"
   },
   "outputs": [
    {
     "data": {
      "image/png": "[encoded data removed]",
      "text/plain": [
       "<Figure size 432x288 with 1 Axes>"
      ]
     },
     "metadata": {
      "needs_background": "light"
     },
     "output_type": "display_data"
    }
   ],
   "source": [
    "plot_latent_space_with_labels(\n",
    "    num_classes=10,\n",
    "    data_loader=train_loader)\n",
    "\n",
    "plt.legend()\n",
    "plt.show()\n",
    "\n",
    "#The latent space is overlapped and is not continuous. \n",
    "#Not centred at a particular point.\n",
    "#Hence the model can get confused btw two classes due to overlapping latent space."
   ]
  },
  {
   "cell_type": "code",
   "execution_count": null,
   "metadata": {
    "id": "Tk85_b9QuKUa"
   },
   "outputs": [],
   "source": []
  },
  {
   "cell_type": "code",
   "execution_count": null,
   "metadata": {
    "id": "prmjJ9nzuLze"
   },
   "outputs": [],
   "source": []
  },
  {
   "cell_type": "markdown",
   "metadata": {
    "id": "M--91UzluQK9"
   },
   "source": [
    "###Generating Image for a given point"
   ]
  },
  {
   "cell_type": "code",
   "execution_count": null,
   "metadata": {
    "colab": {
     "base_uri": "https://localhost:8080/",
     "height": 265
    },
    "id": "-PjHbNqQuL2U",
    "outputId": "99b07147-694d-44d0-ad7f-9c4445f2bc0e"
   },
   "outputs": [
    {
     "data": {
      "image/png": "[encoded data removed]",
      "text/plain": [
       "<Figure size 432x288 with 1 Axes>"
      ]
     },
     "metadata": {
      "needs_background": "light"
     },
     "output_type": "display_data"
    }
   ],
   "source": [
    "with torch.no_grad():\n",
    "    new_image = model.decoder(torch.tensor([2.0, -8.0]))\n",
    "    new_image.squeeze_(0)\n",
    "    new_image.squeeze_(0)\n",
    "plt.imshow(new_image, cmap='binary')\n",
    "plt.show()"
   ]
  },
  {
   "cell_type": "code",
   "execution_count": null,
   "metadata": {
    "id": "0v0tAO0uuL53"
   },
   "outputs": [],
   "source": []
  },
  {
   "cell_type": "markdown",
   "metadata": {
    "id": "rCC7Qe500fIu"
   },
   "source": [
    "###Making the encoder output bigger dimensions"
   ]
  },
  {
   "cell_type": "code",
   "execution_count": 31,
   "metadata": {
    "id": "4eh9Py3luKdQ"
   },
   "outputs": [],
   "source": [
    "class Reshape(nn.Module):\n",
    "  def __init__(self,*args):\n",
    "    super().__init__()\n",
    "    self.shape=args\n",
    "  \n",
    "  def forward(self,x):\n",
    "    #print(x.shape)\n",
    "    return x.view(self.shape)\n",
    "\n",
    "\n",
    "class Trim(nn.Module):\n",
    "  def __init__(self,*args):\n",
    "    super().__init__()\n",
    "  \n",
    "  def forward(self,x):\n",
    "    return x[:,:,:28,:28] # removing 1 pixel going from 29 to 28\n",
    "\n",
    "\n",
    "class AutoEncoder_v2(nn.Module):\n",
    "  def __init__(self):\n",
    "    super().__init__()\n",
    "\n",
    "    self.encoder = nn.Sequential(\n",
    "        nn.Conv2d(1,32,stride=(1,1),kernel_size=(3,3),padding=1),\n",
    "        nn.LeakyReLU(0.01),\n",
    "        nn.Conv2d(32,64,stride=(2,2),kernel_size=(3,3),padding=1),\n",
    "        nn.LeakyReLU(0.01),\n",
    "        nn.Conv2d(64,64,stride=(2,2),kernel_size=(3,3),padding=1),\n",
    "        nn.LeakyReLU(0.01),\n",
    "        nn.Conv2d(64,64,stride=(1,1),kernel_size=(3,3),padding=1),\n",
    "        nn.Flatten(),\n",
    "        nn.Linear(3136,4) #only 2 hidden features as per the diagram \n",
    "        #because 3136 = 64x7x7\n",
    "    )\n",
    "\n",
    "    self.decoder = nn.Sequential(\n",
    "        nn.Linear(4,3136),\n",
    "        Reshape(-1,64,7,7),\n",
    "        nn.ConvTranspose2d(64,64,stride=(1,1),kernel_size=(3,3),padding=1),\n",
    "        nn.LeakyReLU(0.01),\n",
    "        nn.ConvTranspose2d(64,64,stride=(2,2),kernel_size=(3,3),padding=1),\n",
    "        nn.LeakyReLU(0.01),\n",
    "        nn.ConvTranspose2d(64,32,stride=(2,2),kernel_size=(3,3),padding=0),\n",
    "        nn.LeakyReLU(0.01),\n",
    "        nn.ConvTranspose2d(32,1,stride=(1,1),kernel_size=(3,3),padding=0),\n",
    "        Trim(), # 1 x 29 x 29 -> 1x28x28 \n",
    "        nn.Sigmoid() \n",
    "    )\n",
    "\n",
    "  def forward(self,x):\n",
    "    x = self.encoder(x)\n",
    "    x = self.decoder(x)\n",
    "    return x\n",
    "\n",
    "\n"
   ]
  },
  {
   "cell_type": "code",
   "execution_count": 32,
   "metadata": {
    "id": "4dBTy7sb0ebK"
   },
   "outputs": [],
   "source": [
    "model = AutoEncoder_v2()"
   ]
  },
  {
   "cell_type": "code",
   "execution_count": 33,
   "metadata": {
    "colab": {
     "base_uri": "https://localhost:8080/"
    },
    "id": "fSxem4f80eeO",
    "outputId": "5efe3a37-25f6-4fe3-f097-31f0bce12dc0"
   },
   "outputs": [
    {
     "data": {
      "text/plain": [
       "AutoEncoder_v2(\n",
       "  (encoder): Sequential(\n",
       "    (0): Conv2d(1, 32, kernel_size=(3, 3), stride=(1, 1), padding=(1, 1))\n",
       "    (1): LeakyReLU(negative_slope=0.01)\n",
       "    (2): Conv2d(32, 64, kernel_size=(3, 3), stride=(2, 2), padding=(1, 1))\n",
       "    (3): LeakyReLU(negative_slope=0.01)\n",
       "    (4): Conv2d(64, 64, kernel_size=(3, 3), stride=(2, 2), padding=(1, 1))\n",
       "    (5): LeakyReLU(negative_slope=0.01)\n",
       "    (6): Conv2d(64, 64, kernel_size=(3, 3), stride=(1, 1), padding=(1, 1))\n",
       "    (7): Flatten(start_dim=1, end_dim=-1)\n",
       "    (8): Linear(in_features=3136, out_features=4, bias=True)\n",
       "  )\n",
       "  (decoder): Sequential(\n",
       "    (0): Linear(in_features=4, out_features=3136, bias=True)\n",
       "    (1): Reshape()\n",
       "    (2): ConvTranspose2d(64, 64, kernel_size=(3, 3), stride=(1, 1), padding=(1, 1))\n",
       "    (3): LeakyReLU(negative_slope=0.01)\n",
       "    (4): ConvTranspose2d(64, 64, kernel_size=(3, 3), stride=(2, 2), padding=(1, 1))\n",
       "    (5): LeakyReLU(negative_slope=0.01)\n",
       "    (6): ConvTranspose2d(64, 32, kernel_size=(3, 3), stride=(2, 2))\n",
       "    (7): LeakyReLU(negative_slope=0.01)\n",
       "    (8): ConvTranspose2d(32, 1, kernel_size=(3, 3), stride=(1, 1))\n",
       "    (9): Trim()\n",
       "    (10): Sigmoid()\n",
       "  )\n",
       ")"
      ]
     },
     "execution_count": 33,
     "metadata": {},
     "output_type": "execute_result"
    }
   ],
   "source": [
    "model"
   ]
  },
  {
   "cell_type": "code",
   "execution_count": 34,
   "metadata": {
    "id": "i1B6O1L90ehs"
   },
   "outputs": [],
   "source": [
    "optimizer = torch.optim.Adam(model.parameters(),lr=0.0005)"
   ]
  },
  {
   "cell_type": "code",
   "execution_count": 35,
   "metadata": {
    "colab": {
     "base_uri": "https://localhost:8080/"
    },
    "id": "oldE8_Lr1Pjk",
    "outputId": "fb605e54-f3a3-42d5-d774-051b728eee06"
   },
   "outputs": [
    {
     "name": "stdout",
     "output_type": "stream",
     "text": [
      "Epoch: 001/010 | Batch 0000/0234 | Loss: 0.2578\n",
      "Epoch: 001/010 | Batch 0050/0234 | Loss: 0.0764\n",
      "Epoch: 001/010 | Batch 0100/0234 | Loss: 0.0680\n",
      "Epoch: 001/010 | Batch 0150/0234 | Loss: 0.0656\n",
      "Epoch: 001/010 | Batch 0200/0234 | Loss: 0.0526\n",
      "Epoch: 002/010 | Batch 0000/0234 | Loss: 0.0464\n",
      "Epoch: 002/010 | Batch 0050/0234 | Loss: 0.0456\n",
      "Epoch: 002/010 | Batch 0100/0234 | Loss: 0.0460\n",
      "Epoch: 002/010 | Batch 0150/0234 | Loss: 0.0426\n",
      "Epoch: 002/010 | Batch 0200/0234 | Loss: 0.0395\n",
      "Epoch: 003/010 | Batch 0000/0234 | Loss: 0.0372\n",
      "Epoch: 003/010 | Batch 0050/0234 | Loss: 0.0373\n",
      "Epoch: 003/010 | Batch 0100/0234 | Loss: 0.0388\n",
      "Epoch: 003/010 | Batch 0150/0234 | Loss: 0.0384\n",
      "Epoch: 003/010 | Batch 0200/0234 | Loss: 0.0363\n",
      "Epoch: 004/010 | Batch 0000/0234 | Loss: 0.0339\n",
      "Epoch: 004/010 | Batch 0050/0234 | Loss: 0.0374\n",
      "Epoch: 004/010 | Batch 0100/0234 | Loss: 0.0348\n",
      "Epoch: 004/010 | Batch 0150/0234 | Loss: 0.0336\n",
      "Epoch: 004/010 | Batch 0200/0234 | Loss: 0.0331\n",
      "Epoch: 005/010 | Batch 0000/0234 | Loss: 0.0331\n",
      "Epoch: 005/010 | Batch 0050/0234 | Loss: 0.0325\n",
      "Epoch: 005/010 | Batch 0100/0234 | Loss: 0.0321\n",
      "Epoch: 005/010 | Batch 0150/0234 | Loss: 0.0352\n",
      "Epoch: 005/010 | Batch 0200/0234 | Loss: 0.0314\n",
      "Epoch: 006/010 | Batch 0000/0234 | Loss: 0.0352\n",
      "Epoch: 006/010 | Batch 0050/0234 | Loss: 0.0305\n",
      "Epoch: 006/010 | Batch 0100/0234 | Loss: 0.0322\n",
      "Epoch: 006/010 | Batch 0150/0234 | Loss: 0.0305\n",
      "Epoch: 006/010 | Batch 0200/0234 | Loss: 0.0326\n",
      "Epoch: 007/010 | Batch 0000/0234 | Loss: 0.0330\n",
      "Epoch: 007/010 | Batch 0050/0234 | Loss: 0.0312\n",
      "Epoch: 007/010 | Batch 0100/0234 | Loss: 0.0328\n",
      "Epoch: 007/010 | Batch 0150/0234 | Loss: 0.0317\n",
      "Epoch: 007/010 | Batch 0200/0234 | Loss: 0.0298\n",
      "Epoch: 008/010 | Batch 0000/0234 | Loss: 0.0299\n",
      "Epoch: 008/010 | Batch 0050/0234 | Loss: 0.0326\n",
      "Epoch: 008/010 | Batch 0100/0234 | Loss: 0.0302\n",
      "Epoch: 008/010 | Batch 0150/0234 | Loss: 0.0310\n",
      "Epoch: 008/010 | Batch 0200/0234 | Loss: 0.0333\n",
      "Epoch: 009/010 | Batch 0000/0234 | Loss: 0.0306\n",
      "Epoch: 009/010 | Batch 0050/0234 | Loss: 0.0326\n",
      "Epoch: 009/010 | Batch 0100/0234 | Loss: 0.0319\n",
      "Epoch: 009/010 | Batch 0150/0234 | Loss: 0.0311\n",
      "Epoch: 009/010 | Batch 0200/0234 | Loss: 0.0302\n",
      "Epoch: 010/010 | Batch 0000/0234 | Loss: 0.0284\n",
      "Epoch: 010/010 | Batch 0050/0234 | Loss: 0.0302\n",
      "Epoch: 010/010 | Batch 0100/0234 | Loss: 0.0310\n",
      "Epoch: 010/010 | Batch 0150/0234 | Loss: 0.0293\n",
      "Epoch: 010/010 | Batch 0200/0234 | Loss: 0.0287\n"
     ]
    }
   ],
   "source": [
    "log_dict = train_autoencoder(num_epochs=10, model=model, \n",
    "                        optimizer=optimizer, \n",
    "                        train_loader=train_loader,\n",
    "                        skip_epoch_stats=True,\n",
    "                        logging_interval=50)"
   ]
  },
  {
   "cell_type": "code",
   "execution_count": 41,
   "metadata": {
    "colab": {
     "base_uri": "https://localhost:8080/"
    },
    "id": "kQKjWiWv1PnJ",
    "outputId": "a58d88cc-9c78-4ef1-e57f-6f11d644322a"
   },
   "outputs": [
    {
     "name": "stdout",
     "output_type": "stream",
     "text": [
      "Epoch: 001/005 | Batch 0000/0234 | Loss: 0.0297\n",
      "Epoch: 001/005 | Batch 0050/0234 | Loss: 0.0288\n",
      "Epoch: 001/005 | Batch 0100/0234 | Loss: 0.0290\n",
      "Epoch: 001/005 | Batch 0150/0234 | Loss: 0.0289\n",
      "Epoch: 001/005 | Batch 0200/0234 | Loss: 0.0294\n",
      "Epoch: 002/005 | Batch 0000/0234 | Loss: 0.0302\n",
      "Epoch: 002/005 | Batch 0050/0234 | Loss: 0.0305\n",
      "Epoch: 002/005 | Batch 0100/0234 | Loss: 0.0296\n",
      "Epoch: 002/005 | Batch 0150/0234 | Loss: 0.0292\n",
      "Epoch: 002/005 | Batch 0200/0234 | Loss: 0.0318\n",
      "Epoch: 003/005 | Batch 0000/0234 | Loss: 0.0282\n",
      "Epoch: 003/005 | Batch 0050/0234 | Loss: 0.0302\n",
      "Epoch: 003/005 | Batch 0100/0234 | Loss: 0.0265\n",
      "Epoch: 003/005 | Batch 0150/0234 | Loss: 0.0296\n",
      "Epoch: 003/005 | Batch 0200/0234 | Loss: 0.0318\n",
      "Epoch: 004/005 | Batch 0000/0234 | Loss: 0.0303\n",
      "Epoch: 004/005 | Batch 0050/0234 | Loss: 0.0284\n",
      "Epoch: 004/005 | Batch 0100/0234 | Loss: 0.0299\n",
      "Epoch: 004/005 | Batch 0150/0234 | Loss: 0.0299\n",
      "Epoch: 004/005 | Batch 0200/0234 | Loss: 0.0294\n",
      "Epoch: 005/005 | Batch 0000/0234 | Loss: 0.0289\n",
      "Epoch: 005/005 | Batch 0050/0234 | Loss: 0.0289\n",
      "Epoch: 005/005 | Batch 0100/0234 | Loss: 0.0291\n",
      "Epoch: 005/005 | Batch 0150/0234 | Loss: 0.0288\n",
      "Epoch: 005/005 | Batch 0200/0234 | Loss: 0.0305\n"
     ]
    }
   ],
   "source": [
    "log_dict1 = train_autoencoder(num_epochs=5, model=model, \n",
    "                        optimizer=optimizer, \n",
    "                        train_loader=train_loader,\n",
    "                        skip_epoch_stats=True,\n",
    "                        logging_interval=50)"
   ]
  },
  {
   "cell_type": "code",
   "execution_count": 42,
   "metadata": {
    "id": "YBMYICP3LggB"
   },
   "outputs": [],
   "source": [
    "torch.save(model, 'EncoderWith4DimensionOutput.pth')"
   ]
  },
  {
   "cell_type": "code",
   "execution_count": 43,
   "metadata": {
    "colab": {
     "base_uri": "https://localhost:8080/",
     "height": 182
    },
    "id": "02v0RbaK-pU0",
    "outputId": "4bc0871a-8acb-45ff-d00b-19a60aec2057"
   },
   "outputs": [
    {
     "data": {
      "image/png": "[encoded data removed]",
      "text/plain": [
       "<Figure size 1440x180 with 30 Axes>"
      ]
     },
     "metadata": {
      "needs_background": "light"
     },
     "output_type": "display_data"
    }
   ],
   "source": [
    "plot_generated_images(data_loader=train_loader, model=model) "
   ]
  },
  {
   "cell_type": "code",
   "execution_count": 44,
   "metadata": {
    "colab": {
     "base_uri": "https://localhost:8080/",
     "height": 265
    },
    "id": "XFukftCy-pXj",
    "outputId": "00b6b116-bb33-4660-8103-643a43f76e60"
   },
   "outputs": [
    {
     "data": {
      "image/png": "[encoded data removed]",
      "text/plain": [
       "<Figure size 432x288 with 1 Axes>"
      ]
     },
     "metadata": {
      "needs_background": "light"
     },
     "output_type": "display_data"
    }
   ],
   "source": [
    "plot_latent_space_with_labels(\n",
    "    num_classes=10,\n",
    "    data_loader=train_loader)\n",
    "\n",
    "plt.legend()\n",
    "plt.show()"
   ]
  },
  {
   "cell_type": "code",
   "execution_count": 45,
   "metadata": {
    "colab": {
     "base_uri": "https://localhost:8080/",
     "height": 265
    },
    "id": "OlVZWY_7-paY",
    "outputId": "927e9dec-95a7-4562-ecc0-be1fffcd834d"
   },
   "outputs": [
    {
     "data": {
      "image/png": "[encoded data removed]",
      "text/plain": [
       "<Figure size 432x288 with 1 Axes>"
      ]
     },
     "metadata": {
      "needs_background": "light"
     },
     "output_type": "display_data"
    }
   ],
   "source": [
    "import random\n",
    "with torch.no_grad():\n",
    "    new_image = model.decoder(torch.tensor([2.0,-2.0,0.0,0.0]))\n",
    "    new_image.squeeze_(0)\n",
    "    new_image.squeeze_(0)\n",
    "plt.imshow(new_image, cmap='binary')\n",
    "plt.show()"
   ]
  },
  {
   "cell_type": "code",
   "execution_count": null,
   "metadata": {
    "id": "VuPyvrcU-pd0"
   },
   "outputs": [],
   "source": []
  },
  {
   "cell_type": "code",
   "execution_count": null,
   "metadata": {
    "id": "gp9r5WGCMgGe"
   },
   "outputs": [],
   "source": []
  },
  {
   "cell_type": "code",
   "execution_count": null,
   "metadata": {
    "id": "FqIr45jiL7AH"
   },
   "outputs": [],
   "source": []
  }
 ],
 "metadata": {
  "accelerator": "GPU",
  "colab": {
   "provenance": []
  },
  "gpuClass": "standard",
  "kernelspec": {
   "display_name": "Python 3 (ipykernel)",
   "language": "python",
   "name": "python3"
  },
  "language_info": {
   "codemirror_mode": {
    "name": "ipython",
    "version": 3
   },
   "file_extension": ".py",
   "mimetype": "text/x-python",
   "name": "python",
   "nbconvert_exporter": "python",
   "pygments_lexer": "ipython3",
   "version": "3.9.12"
  },
  "widgets": {
   "application/vnd.jupyter.widget-state+json": {
    "03e8432f6f7f4bab868868cf63966906": {
     "model_module": "@jupyter-widgets/base",
     "model_module_version": "1.2.0",
     "model_name": "LayoutModel",
     "state": {
      "_model_module": "@jupyter-widgets/base",
      "_model_module_version": "1.2.0",
      "_model_name": "LayoutModel",
      "_view_count": null,
      "_view_module": "@jupyter-widgets/base",
      "_view_module_version": "1.2.0",
      "_view_name": "LayoutView",
      "align_content": null,
      "align_items": null,
      "align_self": null,
      "border": null,
      "bottom": null,
      "display": null,
      "flex": null,
      "flex_flow": null,
      "grid_area": null,
      "grid_auto_columns": null,
      "grid_auto_flow": null,
      "grid_auto_rows": null,
      "grid_column": null,
      "grid_gap": null,
      "grid_row": null,
      "grid_template_areas": null,
      "grid_template_columns": null,
      "grid_template_rows": null,
      "height": null,
      "justify_content": null,
      "justify_items": null,
      "left": null,
      "margin": null,
      "max_height": null,
      "max_width": null,
      "min_height": null,
      "min_width": null,
      "object_fit": null,
      "object_position": null,
      "order": null,
      "overflow": null,
      "overflow_x": null,
      "overflow_y": null,
      "padding": null,
      "right": null,
      "top": null,
      "visibility": null,
      "width": null
     }
    },
    "05418183c0bb4a98926de1725ce761c2": {
     "model_module": "@jupyter-widgets/base",
     "model_module_version": "1.2.0",
     "model_name": "LayoutModel",
     "state": {
      "_model_module": "@jupyter-widgets/base",
      "_model_module_version": "1.2.0",
      "_model_name": "LayoutModel",
      "_view_count": null,
      "_view_module": "@jupyter-widgets/base",
      "_view_module_version": "1.2.0",
      "_view_name": "LayoutView",
      "align_content": null,
      "align_items": null,
      "align_self": null,
      "border": null,
      "bottom": null,
      "display": null,
      "flex": null,
      "flex_flow": null,
      "grid_area": null,
      "grid_auto_columns": null,
      "grid_auto_flow": null,
      "grid_auto_rows": null,
      "grid_column": null,
      "grid_gap": null,
      "grid_row": null,
      "grid_template_areas": null,
      "grid_template_columns": null,
      "grid_template_rows": null,
      "height": null,
      "justify_content": null,
      "justify_items": null,
      "left": null,
      "margin": null,
      "max_height": null,
      "max_width": null,
      "min_height": null,
      "min_width": null,
      "object_fit": null,
      "object_position": null,
      "order": null,
      "overflow": null,
      "overflow_x": null,
      "overflow_y": null,
      "padding": null,
      "right": null,
      "top": null,
      "visibility": null,
      "width": null
     }
    },
    "06deea603ec245489ca02489c12ccdbf": {
     "model_module": "@jupyter-widgets/controls",
     "model_module_version": "1.5.0",
     "model_name": "FloatProgressModel",
     "state": {
      "_dom_classes": [],
      "_model_module": "@jupyter-widgets/controls",
      "_model_module_version": "1.5.0",
      "_model_name": "FloatProgressModel",
      "_view_count": null,
      "_view_module": "@jupyter-widgets/controls",
      "_view_module_version": "1.5.0",
      "_view_name": "ProgressView",
      "bar_style": "success",
      "description": "",
      "description_tooltip": null,
      "layout": "IPY_MODEL_a1d1158b893645a7910f81f03d028a5c",
      "max": 9912422,
      "min": 0,
      "orientation": "horizontal",
      "style": "IPY_MODEL_176bfdc30a8347988f2ca4cac3277204",
      "value": 9912422
     }
    },
    "0c08b2170f5a400ab3c7ca2054d2e57a": {
     "model_module": "@jupyter-widgets/base",
     "model_module_version": "1.2.0",
     "model_name": "LayoutModel",
     "state": {
      "_model_module": "@jupyter-widgets/base",
      "_model_module_version": "1.2.0",
      "_model_name": "LayoutModel",
      "_view_count": null,
      "_view_module": "@jupyter-widgets/base",
      "_view_module_version": "1.2.0",
      "_view_name": "LayoutView",
      "align_content": null,
      "align_items": null,
      "align_self": null,
      "border": null,
      "bottom": null,
      "display": null,
      "flex": null,
      "flex_flow": null,
      "grid_area": null,
      "grid_auto_columns": null,
      "grid_auto_flow": null,
      "grid_auto_rows": null,
      "grid_column": null,
      "grid_gap": null,
      "grid_row": null,
      "grid_template_areas": null,
      "grid_template_columns": null,
      "grid_template_rows": null,
      "height": null,
      "justify_content": null,
      "justify_items": null,
      "left": null,
      "margin": null,
      "max_height": null,
      "max_width": null,
      "min_height": null,
      "min_width": null,
      "object_fit": null,
      "object_position": null,
      "order": null,
      "overflow": null,
      "overflow_x": null,
      "overflow_y": null,
      "padding": null,
      "right": null,
      "top": null,
      "visibility": null,
      "width": null
     }
    },
    "1572bb0796ee4c3ba16fde6c20793c7b": {
     "model_module": "@jupyter-widgets/base",
     "model_module_version": "1.2.0",
     "model_name": "LayoutModel",
     "state": {
      "_model_module": "@jupyter-widgets/base",
      "_model_module_version": "1.2.0",
      "_model_name": "LayoutModel",
      "_view_count": null,
      "_view_module": "@jupyter-widgets/base",
      "_view_module_version": "1.2.0",
      "_view_name": "LayoutView",
      "align_content": null,
      "align_items": null,
      "align_self": null,
      "border": null,
      "bottom": null,
      "display": null,
      "flex": null,
      "flex_flow": null,
      "grid_area": null,
      "grid_auto_columns": null,
      "grid_auto_flow": null,
      "grid_auto_rows": null,
      "grid_column": null,
      "grid_gap": null,
      "grid_row": null,
      "grid_template_areas": null,
      "grid_template_columns": null,
      "grid_template_rows": null,
      "height": null,
      "justify_content": null,
      "justify_items": null,
      "left": null,
      "margin": null,
      "max_height": null,
      "max_width": null,
      "min_height": null,
      "min_width": null,
      "object_fit": null,
      "object_position": null,
      "order": null,
      "overflow": null,
      "overflow_x": null,
      "overflow_y": null,
      "padding": null,
      "right": null,
      "top": null,
      "visibility": null,
      "width": null
     }
    },
    "160b15abc6694a43b9e04a8e74ebcbef": {
     "model_module": "@jupyter-widgets/controls",
     "model_module_version": "1.5.0",
     "model_name": "HTMLModel",
     "state": {
      "_dom_classes": [],
      "_model_module": "@jupyter-widgets/controls",
      "_model_module_version": "1.5.0",
      "_model_name": "HTMLModel",
      "_view_count": null,
      "_view_module": "@jupyter-widgets/controls",
      "_view_module_version": "1.5.0",
      "_view_name": "HTMLView",
      "description": "",
      "description_tooltip": null,
      "layout": "IPY_MODEL_394b10e621384c7594da7d0f11560f51",
      "placeholder": "​",
      "style": "IPY_MODEL_edba6b7341574f6c9b6cf8ccce7ecc04",
      "value": " 4542/4542 [00:00&lt;00:00, 80803.04it/s]"
     }
    },
    "176bfdc30a8347988f2ca4cac3277204": {
     "model_module": "@jupyter-widgets/controls",
     "model_module_version": "1.5.0",
     "model_name": "ProgressStyleModel",
     "state": {
      "_model_module": "@jupyter-widgets/controls",
      "_model_module_version": "1.5.0",
      "_model_name": "ProgressStyleModel",
      "_view_count": null,
      "_view_module": "@jupyter-widgets/base",
      "_view_module_version": "1.2.0",
      "_view_name": "StyleView",
      "bar_color": null,
      "description_width": ""
     }
    },
    "21f21c27eaf8444cb83dad2ad3c70bda": {
     "model_module": "@jupyter-widgets/controls",
     "model_module_version": "1.5.0",
     "model_name": "HTMLModel",
     "state": {
      "_dom_classes": [],
      "_model_module": "@jupyter-widgets/controls",
      "_model_module_version": "1.5.0",
      "_model_name": "HTMLModel",
      "_view_count": null,
      "_view_module": "@jupyter-widgets/controls",
      "_view_module_version": "1.5.0",
      "_view_name": "HTMLView",
      "description": "",
      "description_tooltip": null,
      "layout": "IPY_MODEL_ba84229d79304325878728cc22c6c382",
      "placeholder": "​",
      "style": "IPY_MODEL_89389cf0ef6941e393a8195f33346d60",
      "value": " 9912422/9912422 [00:00&lt;00:00, 142399641.20it/s]"
     }
    },
    "27ee9039c78f49cebca85f1f324698f3": {
     "model_module": "@jupyter-widgets/controls",
     "model_module_version": "1.5.0",
     "model_name": "HBoxModel",
     "state": {
      "_dom_classes": [],
      "_model_module": "@jupyter-widgets/controls",
      "_model_module_version": "1.5.0",
      "_model_name": "HBoxModel",
      "_view_count": null,
      "_view_module": "@jupyter-widgets/controls",
      "_view_module_version": "1.5.0",
      "_view_name": "HBoxView",
      "box_style": "",
      "children": [
       "IPY_MODEL_7437b806235b4fb79ee3abb5e57d1d97",
       "IPY_MODEL_06deea603ec245489ca02489c12ccdbf",
       "IPY_MODEL_21f21c27eaf8444cb83dad2ad3c70bda"
      ],
      "layout": "IPY_MODEL_75653982b0104b679ac8591ce35172c0"
     }
    },
    "2ba4adcd62e7454893cd807ef463b693": {
     "model_module": "@jupyter-widgets/base",
     "model_module_version": "1.2.0",
     "model_name": "LayoutModel",
     "state": {
      "_model_module": "@jupyter-widgets/base",
      "_model_module_version": "1.2.0",
      "_model_name": "LayoutModel",
      "_view_count": null,
      "_view_module": "@jupyter-widgets/base",
      "_view_module_version": "1.2.0",
      "_view_name": "LayoutView",
      "align_content": null,
      "align_items": null,
      "align_self": null,
      "border": null,
      "bottom": null,
      "display": null,
      "flex": null,
      "flex_flow": null,
      "grid_area": null,
      "grid_auto_columns": null,
      "grid_auto_flow": null,
      "grid_auto_rows": null,
      "grid_column": null,
      "grid_gap": null,
      "grid_row": null,
      "grid_template_areas": null,
      "grid_template_columns": null,
      "grid_template_rows": null,
      "height": null,
      "justify_content": null,
      "justify_items": null,
      "left": null,
      "margin": null,
      "max_height": null,
      "max_width": null,
      "min_height": null,
      "min_width": null,
      "object_fit": null,
      "object_position": null,
      "order": null,
      "overflow": null,
      "overflow_x": null,
      "overflow_y": null,
      "padding": null,
      "right": null,
      "top": null,
      "visibility": null,
      "width": null
     }
    },
    "2f87aac6dd7847429342e6d2b3c396de": {
     "model_module": "@jupyter-widgets/base",
     "model_module_version": "1.2.0",
     "model_name": "LayoutModel",
     "state": {
      "_model_module": "@jupyter-widgets/base",
      "_model_module_version": "1.2.0",
      "_model_name": "LayoutModel",
      "_view_count": null,
      "_view_module": "@jupyter-widgets/base",
      "_view_module_version": "1.2.0",
      "_view_name": "LayoutView",
      "align_content": null,
      "align_items": null,
      "align_self": null,
      "border": null,
      "bottom": null,
      "display": null,
      "flex": null,
      "flex_flow": null,
      "grid_area": null,
      "grid_auto_columns": null,
      "grid_auto_flow": null,
      "grid_auto_rows": null,
      "grid_column": null,
      "grid_gap": null,
      "grid_row": null,
      "grid_template_areas": null,
      "grid_template_columns": null,
      "grid_template_rows": null,
      "height": null,
      "justify_content": null,
      "justify_items": null,
      "left": null,
      "margin": null,
      "max_height": null,
      "max_width": null,
      "min_height": null,
      "min_width": null,
      "object_fit": null,
      "object_position": null,
      "order": null,
      "overflow": null,
      "overflow_x": null,
      "overflow_y": null,
      "padding": null,
      "right": null,
      "top": null,
      "visibility": null,
      "width": null
     }
    },
    "31013139df8241c0a4639c062f00d3fa": {
     "model_module": "@jupyter-widgets/controls",
     "model_module_version": "1.5.0",
     "model_name": "FloatProgressModel",
     "state": {
      "_dom_classes": [],
      "_model_module": "@jupyter-widgets/controls",
      "_model_module_version": "1.5.0",
      "_model_name": "FloatProgressModel",
      "_view_count": null,
      "_view_module": "@jupyter-widgets/controls",
      "_view_module_version": "1.5.0",
      "_view_name": "ProgressView",
      "bar_style": "success",
      "description": "",
      "description_tooltip": null,
      "layout": "IPY_MODEL_849d071e14e547049bc58109624f2d98",
      "max": 1648877,
      "min": 0,
      "orientation": "horizontal",
      "style": "IPY_MODEL_c172c15432944ffd96f29c1617516450",
      "value": 1648877
     }
    },
    "3850229880094401af4da0d83d917478": {
     "model_module": "@jupyter-widgets/controls",
     "model_module_version": "1.5.0",
     "model_name": "FloatProgressModel",
     "state": {
      "_dom_classes": [],
      "_model_module": "@jupyter-widgets/controls",
      "_model_module_version": "1.5.0",
      "_model_name": "FloatProgressModel",
      "_view_count": null,
      "_view_module": "@jupyter-widgets/controls",
      "_view_module_version": "1.5.0",
      "_view_name": "ProgressView",
      "bar_style": "success",
      "description": "",
      "description_tooltip": null,
      "layout": "IPY_MODEL_03e8432f6f7f4bab868868cf63966906",
      "max": 4542,
      "min": 0,
      "orientation": "horizontal",
      "style": "IPY_MODEL_8d1673d14d2b460ebcc90cf2a83f83b9",
      "value": 4542
     }
    },
    "394b10e621384c7594da7d0f11560f51": {
     "model_module": "@jupyter-widgets/base",
     "model_module_version": "1.2.0",
     "model_name": "LayoutModel",
     "state": {
      "_model_module": "@jupyter-widgets/base",
      "_model_module_version": "1.2.0",
      "_model_name": "LayoutModel",
      "_view_count": null,
      "_view_module": "@jupyter-widgets/base",
      "_view_module_version": "1.2.0",
      "_view_name": "LayoutView",
      "align_content": null,
      "align_items": null,
      "align_self": null,
      "border": null,
      "bottom": null,
      "display": null,
      "flex": null,
      "flex_flow": null,
      "grid_area": null,
      "grid_auto_columns": null,
      "grid_auto_flow": null,
      "grid_auto_rows": null,
      "grid_column": null,
      "grid_gap": null,
      "grid_row": null,
      "grid_template_areas": null,
      "grid_template_columns": null,
      "grid_template_rows": null,
      "height": null,
      "justify_content": null,
      "justify_items": null,
      "left": null,
      "margin": null,
      "max_height": null,
      "max_width": null,
      "min_height": null,
      "min_width": null,
      "object_fit": null,
      "object_position": null,
      "order": null,
      "overflow": null,
      "overflow_x": null,
      "overflow_y": null,
      "padding": null,
      "right": null,
      "top": null,
      "visibility": null,
      "width": null
     }
    },
    "3a6e7522e805428f98f34038080a6160": {
     "model_module": "@jupyter-widgets/controls",
     "model_module_version": "1.5.0",
     "model_name": "HTMLModel",
     "state": {
      "_dom_classes": [],
      "_model_module": "@jupyter-widgets/controls",
      "_model_module_version": "1.5.0",
      "_model_name": "HTMLModel",
      "_view_count": null,
      "_view_module": "@jupyter-widgets/controls",
      "_view_module_version": "1.5.0",
      "_view_name": "HTMLView",
      "description": "",
      "description_tooltip": null,
      "layout": "IPY_MODEL_2ba4adcd62e7454893cd807ef463b693",
      "placeholder": "​",
      "style": "IPY_MODEL_5b7d819bd4e34e16b1eb1070ddfa51b4",
      "value": " 28881/28881 [00:00&lt;00:00, 334537.50it/s]"
     }
    },
    "3d27a0c809d6485e8756f145177b2dd8": {
     "model_module": "@jupyter-widgets/base",
     "model_module_version": "1.2.0",
     "model_name": "LayoutModel",
     "state": {
      "_model_module": "@jupyter-widgets/base",
      "_model_module_version": "1.2.0",
      "_model_name": "LayoutModel",
      "_view_count": null,
      "_view_module": "@jupyter-widgets/base",
      "_view_module_version": "1.2.0",
      "_view_name": "LayoutView",
      "align_content": null,
      "align_items": null,
      "align_self": null,
      "border": null,
      "bottom": null,
      "display": null,
      "flex": null,
      "flex_flow": null,
      "grid_area": null,
      "grid_auto_columns": null,
      "grid_auto_flow": null,
      "grid_auto_rows": null,
      "grid_column": null,
      "grid_gap": null,
      "grid_row": null,
      "grid_template_areas": null,
      "grid_template_columns": null,
      "grid_template_rows": null,
      "height": null,
      "justify_content": null,
      "justify_items": null,
      "left": null,
      "margin": null,
      "max_height": null,
      "max_width": null,
      "min_height": null,
      "min_width": null,
      "object_fit": null,
      "object_position": null,
      "order": null,
      "overflow": null,
      "overflow_x": null,
      "overflow_y": null,
      "padding": null,
      "right": null,
      "top": null,
      "visibility": null,
      "width": null
     }
    },
    "428c8d5f796f4181be3738951b378436": {
     "model_module": "@jupyter-widgets/controls",
     "model_module_version": "1.5.0",
     "model_name": "DescriptionStyleModel",
     "state": {
      "_model_module": "@jupyter-widgets/controls",
      "_model_module_version": "1.5.0",
      "_model_name": "DescriptionStyleModel",
      "_view_count": null,
      "_view_module": "@jupyter-widgets/base",
      "_view_module_version": "1.2.0",
      "_view_name": "StyleView",
      "description_width": ""
     }
    },
    "50b89680c3f246afae3a25811f4cf630": {
     "model_module": "@jupyter-widgets/controls",
     "model_module_version": "1.5.0",
     "model_name": "HTMLModel",
     "state": {
      "_dom_classes": [],
      "_model_module": "@jupyter-widgets/controls",
      "_model_module_version": "1.5.0",
      "_model_name": "HTMLModel",
      "_view_count": null,
      "_view_module": "@jupyter-widgets/controls",
      "_view_module_version": "1.5.0",
      "_view_name": "HTMLView",
      "description": "",
      "description_tooltip": null,
      "layout": "IPY_MODEL_1572bb0796ee4c3ba16fde6c20793c7b",
      "placeholder": "​",
      "style": "IPY_MODEL_78b0dac66b2348369f643d382d0007d7",
      "value": "100%"
     }
    },
    "595fa8c17c45430ea666effa9636f56d": {
     "model_module": "@jupyter-widgets/controls",
     "model_module_version": "1.5.0",
     "model_name": "HTMLModel",
     "state": {
      "_dom_classes": [],
      "_model_module": "@jupyter-widgets/controls",
      "_model_module_version": "1.5.0",
      "_model_name": "HTMLModel",
      "_view_count": null,
      "_view_module": "@jupyter-widgets/controls",
      "_view_module_version": "1.5.0",
      "_view_name": "HTMLView",
      "description": "",
      "description_tooltip": null,
      "layout": "IPY_MODEL_3d27a0c809d6485e8756f145177b2dd8",
      "placeholder": "​",
      "style": "IPY_MODEL_7ddbe865d8f24da69ee1f8eded02d320",
      "value": " 1648877/1648877 [00:00&lt;00:00, 16768764.89it/s]"
     }
    },
    "5b7d819bd4e34e16b1eb1070ddfa51b4": {
     "model_module": "@jupyter-widgets/controls",
     "model_module_version": "1.5.0",
     "model_name": "DescriptionStyleModel",
     "state": {
      "_model_module": "@jupyter-widgets/controls",
      "_model_module_version": "1.5.0",
      "_model_name": "DescriptionStyleModel",
      "_view_count": null,
      "_view_module": "@jupyter-widgets/base",
      "_view_module_version": "1.2.0",
      "_view_name": "StyleView",
      "description_width": ""
     }
    },
    "5e076f58f396427cb90cf721d935dd6a": {
     "model_module": "@jupyter-widgets/controls",
     "model_module_version": "1.5.0",
     "model_name": "ProgressStyleModel",
     "state": {
      "_model_module": "@jupyter-widgets/controls",
      "_model_module_version": "1.5.0",
      "_model_name": "ProgressStyleModel",
      "_view_count": null,
      "_view_module": "@jupyter-widgets/base",
      "_view_module_version": "1.2.0",
      "_view_name": "StyleView",
      "bar_color": null,
      "description_width": ""
     }
    },
    "7437b806235b4fb79ee3abb5e57d1d97": {
     "model_module": "@jupyter-widgets/controls",
     "model_module_version": "1.5.0",
     "model_name": "HTMLModel",
     "state": {
      "_dom_classes": [],
      "_model_module": "@jupyter-widgets/controls",
      "_model_module_version": "1.5.0",
      "_model_name": "HTMLModel",
      "_view_count": null,
      "_view_module": "@jupyter-widgets/controls",
      "_view_module_version": "1.5.0",
      "_view_name": "HTMLView",
      "description": "",
      "description_tooltip": null,
      "layout": "IPY_MODEL_e4f050c446cf4f76b1abd9b0c2cb2fca",
      "placeholder": "​",
      "style": "IPY_MODEL_e4f04dbc3efe40eebabd4b9c614ac5a0",
      "value": "100%"
     }
    },
    "75653982b0104b679ac8591ce35172c0": {
     "model_module": "@jupyter-widgets/base",
     "model_module_version": "1.2.0",
     "model_name": "LayoutModel",
     "state": {
      "_model_module": "@jupyter-widgets/base",
      "_model_module_version": "1.2.0",
      "_model_name": "LayoutModel",
      "_view_count": null,
      "_view_module": "@jupyter-widgets/base",
      "_view_module_version": "1.2.0",
      "_view_name": "LayoutView",
      "align_content": null,
      "align_items": null,
      "align_self": null,
      "border": null,
      "bottom": null,
      "display": null,
      "flex": null,
      "flex_flow": null,
      "grid_area": null,
      "grid_auto_columns": null,
      "grid_auto_flow": null,
      "grid_auto_rows": null,
      "grid_column": null,
      "grid_gap": null,
      "grid_row": null,
      "grid_template_areas": null,
      "grid_template_columns": null,
      "grid_template_rows": null,
      "height": null,
      "justify_content": null,
      "justify_items": null,
      "left": null,
      "margin": null,
      "max_height": null,
      "max_width": null,
      "min_height": null,
      "min_width": null,
      "object_fit": null,
      "object_position": null,
      "order": null,
      "overflow": null,
      "overflow_x": null,
      "overflow_y": null,
      "padding": null,
      "right": null,
      "top": null,
      "visibility": null,
      "width": null
     }
    },
    "78b0dac66b2348369f643d382d0007d7": {
     "model_module": "@jupyter-widgets/controls",
     "model_module_version": "1.5.0",
     "model_name": "DescriptionStyleModel",
     "state": {
      "_model_module": "@jupyter-widgets/controls",
      "_model_module_version": "1.5.0",
      "_model_name": "DescriptionStyleModel",
      "_view_count": null,
      "_view_module": "@jupyter-widgets/base",
      "_view_module_version": "1.2.0",
      "_view_name": "StyleView",
      "description_width": ""
     }
    },
    "79994b0c6e744e4b9fde50761f85d836": {
     "model_module": "@jupyter-widgets/controls",
     "model_module_version": "1.5.0",
     "model_name": "HBoxModel",
     "state": {
      "_dom_classes": [],
      "_model_module": "@jupyter-widgets/controls",
      "_model_module_version": "1.5.0",
      "_model_name": "HBoxModel",
      "_view_count": null,
      "_view_module": "@jupyter-widgets/controls",
      "_view_module_version": "1.5.0",
      "_view_name": "HBoxView",
      "box_style": "",
      "children": [
       "IPY_MODEL_8d3132ac696c4343a383563abd018806",
       "IPY_MODEL_3850229880094401af4da0d83d917478",
       "IPY_MODEL_160b15abc6694a43b9e04a8e74ebcbef"
      ],
      "layout": "IPY_MODEL_f27af86b740049a7a1a38bae3dcead23"
     }
    },
    "7ddbe865d8f24da69ee1f8eded02d320": {
     "model_module": "@jupyter-widgets/controls",
     "model_module_version": "1.5.0",
     "model_name": "DescriptionStyleModel",
     "state": {
      "_model_module": "@jupyter-widgets/controls",
      "_model_module_version": "1.5.0",
      "_model_name": "DescriptionStyleModel",
      "_view_count": null,
      "_view_module": "@jupyter-widgets/base",
      "_view_module_version": "1.2.0",
      "_view_name": "StyleView",
      "description_width": ""
     }
    },
    "7fcc98967df5444bb1b4ff2d06e34653": {
     "model_module": "@jupyter-widgets/controls",
     "model_module_version": "1.5.0",
     "model_name": "DescriptionStyleModel",
     "state": {
      "_model_module": "@jupyter-widgets/controls",
      "_model_module_version": "1.5.0",
      "_model_name": "DescriptionStyleModel",
      "_view_count": null,
      "_view_module": "@jupyter-widgets/base",
      "_view_module_version": "1.2.0",
      "_view_name": "StyleView",
      "description_width": ""
     }
    },
    "849d071e14e547049bc58109624f2d98": {
     "model_module": "@jupyter-widgets/base",
     "model_module_version": "1.2.0",
     "model_name": "LayoutModel",
     "state": {
      "_model_module": "@jupyter-widgets/base",
      "_model_module_version": "1.2.0",
      "_model_name": "LayoutModel",
      "_view_count": null,
      "_view_module": "@jupyter-widgets/base",
      "_view_module_version": "1.2.0",
      "_view_name": "LayoutView",
      "align_content": null,
      "align_items": null,
      "align_self": null,
      "border": null,
      "bottom": null,
      "display": null,
      "flex": null,
      "flex_flow": null,
      "grid_area": null,
      "grid_auto_columns": null,
      "grid_auto_flow": null,
      "grid_auto_rows": null,
      "grid_column": null,
      "grid_gap": null,
      "grid_row": null,
      "grid_template_areas": null,
      "grid_template_columns": null,
      "grid_template_rows": null,
      "height": null,
      "justify_content": null,
      "justify_items": null,
      "left": null,
      "margin": null,
      "max_height": null,
      "max_width": null,
      "min_height": null,
      "min_width": null,
      "object_fit": null,
      "object_position": null,
      "order": null,
      "overflow": null,
      "overflow_x": null,
      "overflow_y": null,
      "padding": null,
      "right": null,
      "top": null,
      "visibility": null,
      "width": null
     }
    },
    "856a4652bae64aa5a07ca42dde50d04e": {
     "model_module": "@jupyter-widgets/controls",
     "model_module_version": "1.5.0",
     "model_name": "HBoxModel",
     "state": {
      "_dom_classes": [],
      "_model_module": "@jupyter-widgets/controls",
      "_model_module_version": "1.5.0",
      "_model_name": "HBoxModel",
      "_view_count": null,
      "_view_module": "@jupyter-widgets/controls",
      "_view_module_version": "1.5.0",
      "_view_name": "HBoxView",
      "box_style": "",
      "children": [
       "IPY_MODEL_a04d9ce988354f25bff0dc150e4cb6d2",
       "IPY_MODEL_31013139df8241c0a4639c062f00d3fa",
       "IPY_MODEL_595fa8c17c45430ea666effa9636f56d"
      ],
      "layout": "IPY_MODEL_05418183c0bb4a98926de1725ce761c2"
     }
    },
    "89389cf0ef6941e393a8195f33346d60": {
     "model_module": "@jupyter-widgets/controls",
     "model_module_version": "1.5.0",
     "model_name": "DescriptionStyleModel",
     "state": {
      "_model_module": "@jupyter-widgets/controls",
      "_model_module_version": "1.5.0",
      "_model_name": "DescriptionStyleModel",
      "_view_count": null,
      "_view_module": "@jupyter-widgets/base",
      "_view_module_version": "1.2.0",
      "_view_name": "StyleView",
      "description_width": ""
     }
    },
    "8d1673d14d2b460ebcc90cf2a83f83b9": {
     "model_module": "@jupyter-widgets/controls",
     "model_module_version": "1.5.0",
     "model_name": "ProgressStyleModel",
     "state": {
      "_model_module": "@jupyter-widgets/controls",
      "_model_module_version": "1.5.0",
      "_model_name": "ProgressStyleModel",
      "_view_count": null,
      "_view_module": "@jupyter-widgets/base",
      "_view_module_version": "1.2.0",
      "_view_name": "StyleView",
      "bar_color": null,
      "description_width": ""
     }
    },
    "8d3132ac696c4343a383563abd018806": {
     "model_module": "@jupyter-widgets/controls",
     "model_module_version": "1.5.0",
     "model_name": "HTMLModel",
     "state": {
      "_dom_classes": [],
      "_model_module": "@jupyter-widgets/controls",
      "_model_module_version": "1.5.0",
      "_model_name": "HTMLModel",
      "_view_count": null,
      "_view_module": "@jupyter-widgets/controls",
      "_view_module_version": "1.5.0",
      "_view_name": "HTMLView",
      "description": "",
      "description_tooltip": null,
      "layout": "IPY_MODEL_cef61bac42964620af89581f08689980",
      "placeholder": "​",
      "style": "IPY_MODEL_7fcc98967df5444bb1b4ff2d06e34653",
      "value": "100%"
     }
    },
    "a04d9ce988354f25bff0dc150e4cb6d2": {
     "model_module": "@jupyter-widgets/controls",
     "model_module_version": "1.5.0",
     "model_name": "HTMLModel",
     "state": {
      "_dom_classes": [],
      "_model_module": "@jupyter-widgets/controls",
      "_model_module_version": "1.5.0",
      "_model_name": "HTMLModel",
      "_view_count": null,
      "_view_module": "@jupyter-widgets/controls",
      "_view_module_version": "1.5.0",
      "_view_name": "HTMLView",
      "description": "",
      "description_tooltip": null,
      "layout": "IPY_MODEL_adc17a5a30ae4b9ea6d4bc10ba40a3e8",
      "placeholder": "​",
      "style": "IPY_MODEL_428c8d5f796f4181be3738951b378436",
      "value": "100%"
     }
    },
    "a1d1158b893645a7910f81f03d028a5c": {
     "model_module": "@jupyter-widgets/base",
     "model_module_version": "1.2.0",
     "model_name": "LayoutModel",
     "state": {
      "_model_module": "@jupyter-widgets/base",
      "_model_module_version": "1.2.0",
      "_model_name": "LayoutModel",
      "_view_count": null,
      "_view_module": "@jupyter-widgets/base",
      "_view_module_version": "1.2.0",
      "_view_name": "LayoutView",
      "align_content": null,
      "align_items": null,
      "align_self": null,
      "border": null,
      "bottom": null,
      "display": null,
      "flex": null,
      "flex_flow": null,
      "grid_area": null,
      "grid_auto_columns": null,
      "grid_auto_flow": null,
      "grid_auto_rows": null,
      "grid_column": null,
      "grid_gap": null,
      "grid_row": null,
      "grid_template_areas": null,
      "grid_template_columns": null,
      "grid_template_rows": null,
      "height": null,
      "justify_content": null,
      "justify_items": null,
      "left": null,
      "margin": null,
      "max_height": null,
      "max_width": null,
      "min_height": null,
      "min_width": null,
      "object_fit": null,
      "object_position": null,
      "order": null,
      "overflow": null,
      "overflow_x": null,
      "overflow_y": null,
      "padding": null,
      "right": null,
      "top": null,
      "visibility": null,
      "width": null
     }
    },
    "a42d101a5e7147a0aba834c919a3326a": {
     "model_module": "@jupyter-widgets/controls",
     "model_module_version": "1.5.0",
     "model_name": "FloatProgressModel",
     "state": {
      "_dom_classes": [],
      "_model_module": "@jupyter-widgets/controls",
      "_model_module_version": "1.5.0",
      "_model_name": "FloatProgressModel",
      "_view_count": null,
      "_view_module": "@jupyter-widgets/controls",
      "_view_module_version": "1.5.0",
      "_view_name": "ProgressView",
      "bar_style": "success",
      "description": "",
      "description_tooltip": null,
      "layout": "IPY_MODEL_2f87aac6dd7847429342e6d2b3c396de",
      "max": 28881,
      "min": 0,
      "orientation": "horizontal",
      "style": "IPY_MODEL_5e076f58f396427cb90cf721d935dd6a",
      "value": 28881
     }
    },
    "adc17a5a30ae4b9ea6d4bc10ba40a3e8": {
     "model_module": "@jupyter-widgets/base",
     "model_module_version": "1.2.0",
     "model_name": "LayoutModel",
     "state": {
      "_model_module": "@jupyter-widgets/base",
      "_model_module_version": "1.2.0",
      "_model_name": "LayoutModel",
      "_view_count": null,
      "_view_module": "@jupyter-widgets/base",
      "_view_module_version": "1.2.0",
      "_view_name": "LayoutView",
      "align_content": null,
      "align_items": null,
      "align_self": null,
      "border": null,
      "bottom": null,
      "display": null,
      "flex": null,
      "flex_flow": null,
      "grid_area": null,
      "grid_auto_columns": null,
      "grid_auto_flow": null,
      "grid_auto_rows": null,
      "grid_column": null,
      "grid_gap": null,
      "grid_row": null,
      "grid_template_areas": null,
      "grid_template_columns": null,
      "grid_template_rows": null,
      "height": null,
      "justify_content": null,
      "justify_items": null,
      "left": null,
      "margin": null,
      "max_height": null,
      "max_width": null,
      "min_height": null,
      "min_width": null,
      "object_fit": null,
      "object_position": null,
      "order": null,
      "overflow": null,
      "overflow_x": null,
      "overflow_y": null,
      "padding": null,
      "right": null,
      "top": null,
      "visibility": null,
      "width": null
     }
    },
    "ba84229d79304325878728cc22c6c382": {
     "model_module": "@jupyter-widgets/base",
     "model_module_version": "1.2.0",
     "model_name": "LayoutModel",
     "state": {
      "_model_module": "@jupyter-widgets/base",
      "_model_module_version": "1.2.0",
      "_model_name": "LayoutModel",
      "_view_count": null,
      "_view_module": "@jupyter-widgets/base",
      "_view_module_version": "1.2.0",
      "_view_name": "LayoutView",
      "align_content": null,
      "align_items": null,
      "align_self": null,
      "border": null,
      "bottom": null,
      "display": null,
      "flex": null,
      "flex_flow": null,
      "grid_area": null,
      "grid_auto_columns": null,
      "grid_auto_flow": null,
      "grid_auto_rows": null,
      "grid_column": null,
      "grid_gap": null,
      "grid_row": null,
      "grid_template_areas": null,
      "grid_template_columns": null,
      "grid_template_rows": null,
      "height": null,
      "justify_content": null,
      "justify_items": null,
      "left": null,
      "margin": null,
      "max_height": null,
      "max_width": null,
      "min_height": null,
      "min_width": null,
      "object_fit": null,
      "object_position": null,
      "order": null,
      "overflow": null,
      "overflow_x": null,
      "overflow_y": null,
      "padding": null,
      "right": null,
      "top": null,
      "visibility": null,
      "width": null
     }
    },
    "c172c15432944ffd96f29c1617516450": {
     "model_module": "@jupyter-widgets/controls",
     "model_module_version": "1.5.0",
     "model_name": "ProgressStyleModel",
     "state": {
      "_model_module": "@jupyter-widgets/controls",
      "_model_module_version": "1.5.0",
      "_model_name": "ProgressStyleModel",
      "_view_count": null,
      "_view_module": "@jupyter-widgets/base",
      "_view_module_version": "1.2.0",
      "_view_name": "StyleView",
      "bar_color": null,
      "description_width": ""
     }
    },
    "cef61bac42964620af89581f08689980": {
     "model_module": "@jupyter-widgets/base",
     "model_module_version": "1.2.0",
     "model_name": "LayoutModel",
     "state": {
      "_model_module": "@jupyter-widgets/base",
      "_model_module_version": "1.2.0",
      "_model_name": "LayoutModel",
      "_view_count": null,
      "_view_module": "@jupyter-widgets/base",
      "_view_module_version": "1.2.0",
      "_view_name": "LayoutView",
      "align_content": null,
      "align_items": null,
      "align_self": null,
      "border": null,
      "bottom": null,
      "display": null,
      "flex": null,
      "flex_flow": null,
      "grid_area": null,
      "grid_auto_columns": null,
      "grid_auto_flow": null,
      "grid_auto_rows": null,
      "grid_column": null,
      "grid_gap": null,
      "grid_row": null,
      "grid_template_areas": null,
      "grid_template_columns": null,
      "grid_template_rows": null,
      "height": null,
      "justify_content": null,
      "justify_items": null,
      "left": null,
      "margin": null,
      "max_height": null,
      "max_width": null,
      "min_height": null,
      "min_width": null,
      "object_fit": null,
      "object_position": null,
      "order": null,
      "overflow": null,
      "overflow_x": null,
      "overflow_y": null,
      "padding": null,
      "right": null,
      "top": null,
      "visibility": null,
      "width": null
     }
    },
    "e202b822fcf1440fb2c7b7597a0d30fd": {
     "model_module": "@jupyter-widgets/controls",
     "model_module_version": "1.5.0",
     "model_name": "HBoxModel",
     "state": {
      "_dom_classes": [],
      "_model_module": "@jupyter-widgets/controls",
      "_model_module_version": "1.5.0",
      "_model_name": "HBoxModel",
      "_view_count": null,
      "_view_module": "@jupyter-widgets/controls",
      "_view_module_version": "1.5.0",
      "_view_name": "HBoxView",
      "box_style": "",
      "children": [
       "IPY_MODEL_50b89680c3f246afae3a25811f4cf630",
       "IPY_MODEL_a42d101a5e7147a0aba834c919a3326a",
       "IPY_MODEL_3a6e7522e805428f98f34038080a6160"
      ],
      "layout": "IPY_MODEL_0c08b2170f5a400ab3c7ca2054d2e57a"
     }
    },
    "e4f04dbc3efe40eebabd4b9c614ac5a0": {
     "model_module": "@jupyter-widgets/controls",
     "model_module_version": "1.5.0",
     "model_name": "DescriptionStyleModel",
     "state": {
      "_model_module": "@jupyter-widgets/controls",
      "_model_module_version": "1.5.0",
      "_model_name": "DescriptionStyleModel",
      "_view_count": null,
      "_view_module": "@jupyter-widgets/base",
      "_view_module_version": "1.2.0",
      "_view_name": "StyleView",
      "description_width": ""
     }
    },
    "e4f050c446cf4f76b1abd9b0c2cb2fca": {
     "model_module": "@jupyter-widgets/base",
     "model_module_version": "1.2.0",
     "model_name": "LayoutModel",
     "state": {
      "_model_module": "@jupyter-widgets/base",
      "_model_module_version": "1.2.0",
      "_model_name": "LayoutModel",
      "_view_count": null,
      "_view_module": "@jupyter-widgets/base",
      "_view_module_version": "1.2.0",
      "_view_name": "LayoutView",
      "align_content": null,
      "align_items": null,
      "align_self": null,
      "border": null,
      "bottom": null,
      "display": null,
      "flex": null,
      "flex_flow": null,
      "grid_area": null,
      "grid_auto_columns": null,
      "grid_auto_flow": null,
      "grid_auto_rows": null,
      "grid_column": null,
      "grid_gap": null,
      "grid_row": null,
      "grid_template_areas": null,
      "grid_template_columns": null,
      "grid_template_rows": null,
      "height": null,
      "justify_content": null,
      "justify_items": null,
      "left": null,
      "margin": null,
      "max_height": null,
      "max_width": null,
      "min_height": null,
      "min_width": null,
      "object_fit": null,
      "object_position": null,
      "order": null,
      "overflow": null,
      "overflow_x": null,
      "overflow_y": null,
      "padding": null,
      "right": null,
      "top": null,
      "visibility": null,
      "width": null
     }
    },
    "edba6b7341574f6c9b6cf8ccce7ecc04": {
     "model_module": "@jupyter-widgets/controls",
     "model_module_version": "1.5.0",
     "model_name": "DescriptionStyleModel",
     "state": {
      "_model_module": "@jupyter-widgets/controls",
      "_model_module_version": "1.5.0",
      "_model_name": "DescriptionStyleModel",
      "_view_count": null,
      "_view_module": "@jupyter-widgets/base",
      "_view_module_version": "1.2.0",
      "_view_name": "StyleView",
      "description_width": ""
     }
    },
    "f27af86b740049a7a1a38bae3dcead23": {
     "model_module": "@jupyter-widgets/base",
     "model_module_version": "1.2.0",
     "model_name": "LayoutModel",
     "state": {
      "_model_module": "@jupyter-widgets/base",
      "_model_module_version": "1.2.0",
      "_model_name": "LayoutModel",
      "_view_count": null,
      "_view_module": "@jupyter-widgets/base",
      "_view_module_version": "1.2.0",
      "_view_name": "LayoutView",
      "align_content": null,
      "align_items": null,
      "align_self": null,
      "border": null,
      "bottom": null,
      "display": null,
      "flex": null,
      "flex_flow": null,
      "grid_area": null,
      "grid_auto_columns": null,
      "grid_auto_flow": null,
      "grid_auto_rows": null,
      "grid_column": null,
      "grid_gap": null,
      "grid_row": null,
      "grid_template_areas": null,
      "grid_template_columns": null,
      "grid_template_rows": null,
      "height": null,
      "justify_content": null,
      "justify_items": null,
      "left": null,
      "margin": null,
      "max_height": null,
      "max_width": null,
      "min_height": null,
      "min_width": null,
      "object_fit": null,
      "object_position": null,
      "order": null,
      "overflow": null,
      "overflow_x": null,
      "overflow_y": null,
      "padding": null,
      "right": null,
      "top": null,
      "visibility": null,
      "width": null
     }
    }
   }
  }
 },
 "nbformat": 4,
 "nbformat_minor": 1
}
