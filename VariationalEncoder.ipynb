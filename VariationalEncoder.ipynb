{
 "cells": [
  {
   "cell_type": "code",
   "execution_count": 1,
   "metadata": {
    "id": "s_VDNVQ9XRoi"
   },
   "outputs": [],
   "source": [
    "import torch\n",
    "import torch.nn as nn\n",
    "import matplotlib.pyplot as plt\n",
    "\n",
    "from torchvision import datasets,transforms\n",
    "\n",
    "from torch.utils.data import DataLoader,SubsetRandomSampler,sampler\n",
    "import numpy as np\n",
    "\n",
    "import matplotlib.colors as mcolors"
   ]
  },
  {
   "cell_type": "code",
   "execution_count": 2,
   "metadata": {
    "id": "ZwL9SBR8XUPj"
   },
   "outputs": [],
   "source": [
    "def get_data_loader_mnist(batch_size,num_workers=0,validation_fraction=0\n",
    "                          ,train_transforms=None,test_transforms=None):\n",
    "  if train_transforms is None:\n",
    "    train_transforms = transforms.ToTensor()\n",
    "  \n",
    "  if test_transforms is None:\n",
    "    test_transforms = transforms.ToTensor()\n",
    "\n",
    "  \n",
    "  train_dataset = datasets.MNIST(root='data',train=True,transform=train_transforms,download=True)\n",
    "\n",
    "  valid_dataset = datasets.MNIST(root='data',train=True,transform=test_transforms)\n",
    "\n",
    "  test_dataset = datasets.MNIST(root='data',train=False,transform=test_transforms) \n",
    "\n",
    "\n",
    "  if validation_fraction is not None:\n",
    "    num = int(validation_fraction * 60000)\n",
    "\n",
    "    train_indices = np.arange(0,60000-num)\n",
    "    val_indices = np.arange(60000-num,60000)\n",
    "\n",
    "    train_sampler = SubsetRandomSampler(train_indices)\n",
    "    valid_sampler = SubsetRandomSampler(val_indices)\n",
    "\n",
    "    valid_loader = DataLoader(dataset = valid_dataset,\n",
    "                              batch_size=batch_size,\n",
    "                              num_workers=num_workers,\n",
    "                              sampler=valid_sampler)\n",
    "    \n",
    "    train_loader = DataLoader(dataset = train_dataset,\n",
    "                              batch_size=batch_size,\n",
    "                              num_workers=num_workers,\n",
    "                              drop_last=True,\n",
    "                              sampler=train_sampler)\n",
    "    \n",
    "  else:\n",
    "    train_loader = DataLoader(dataset = train_dataset,\n",
    "                              batch_size=batch_size,\n",
    "                              num_workers=num_workers,\n",
    "                              shuffle=True)\n",
    "    \n",
    "  \n",
    "  test_loader = DataLoader(dataset = test_dataset,\n",
    "                              batch_size=batch_size,\n",
    "                              num_workers=num_workers,\n",
    "                            shuffle=False)\n",
    "  \n",
    "  if validation_fraction is None:\n",
    "    return train_loader,test_loader\n",
    "\n",
    "  else:\n",
    "    return train_loader,valid_loader,test_loader\n",
    "    \n",
    "  \n",
    "\n",
    "\n"
   ]
  },
  {
   "cell_type": "code",
   "execution_count": 3,
   "metadata": {
    "colab": {
     "base_uri": "https://localhost:8080/",
     "height": 423,
     "referenced_widgets": [
      "4ebb8690032c406790d1a14f2e1b8af9",
      "babe65360e44423b9c94e4c59a568e96",
      "989b2eee4adf42faa1c03ab509b77f45",
      "ec3df6b9f96f4ec3a569db1c441d241d",
      "d0f4f46c426f48bba0dee6fb49b1c9ad",
      "bb5ad0c649924113b9d42999cd8256e5",
      "18bcb2c4234a4887b99f3f7dc7f2b823",
      "60cc1ef91ed8478389af68ae6a634427",
      "3a8671f8ad124be38cb9d027c5e2c877",
      "c10d2e7ae23e4daa94bb2c74eb3a8fc4",
      "6e3b2b550dcf4d298f64c8cca5b6adb7",
      "3457bb399bbb490b817d8c29cd03a817",
      "90f1f8f49b634016a03a8e77b17784aa",
      "158606d5323e463d81f2edaad2ff476c",
      "b18e2c394c6341deaf96e29df9554980",
      "7c50a76868c14024845b645f3140ae8a",
      "27e40b04241c4a2fa3f9a77406f4c89f",
      "935402c87cf04d74a34a98576a51ac63",
      "6750a93dabc947e080027319c4d39800",
      "d128d195e2094597ba5e1f7d1899d234",
      "6ab8890bdda34c9db8a037c909e83e23",
      "edea475c03c640e0b5d581c38d0f3011",
      "34da56323a3f47a1938b8673fd00eaf9",
      "a7d16e9b6aa148dea8a54f64d360cd66",
      "138621cf97df4baaae644efae8d38e8f",
      "777b513b7d3b4f828e7b35f79a6bda54",
      "014e594742cf4021bb383e76d2a37ac9",
      "65959cd133c741f7a039711c22402cbc",
      "9fd6b9ecb1b7438b9843bfe107b7a3e4",
      "bf0270662cab4b9d8a4b79579a27a133",
      "4cffcc5b808c45c4989e0d3c5a46a0b5",
      "7c288a06f7df49f7a7404c5c81f475de",
      "f6779dc374e345d0b64ffaa31c4262e5",
      "21bcd759ddaf43d9a6ae6097e1d24ca9",
      "72aa4261b5654468a31cba2d92504fed",
      "59ce90b63d364a9fbca603fbca325a87",
      "d051ab546e284672860960292835f9c7",
      "05a9efd4816a45c5b1b637ecb07611cc",
      "a8fd2546c80b4982947413149bd72bd9",
      "be8f11e587ec4cb19dcd5136c4f33db7",
      "59afb1c8d9e74d12a906942483a1400d",
      "0e98dbd5f5424540bbc8b3e763b14963",
      "f13708992cd74a838e5146eedbfb845e",
      "8866734c6dfe4471b2542cd680370801"
     ]
    },
    "id": "pmrJ5xuaXUSg",
    "outputId": "f7946a64-46da-4b06-970a-6de7cffdfe1b"
   },
   "outputs": [
    {
     "name": "stdout",
     "output_type": "stream",
     "text": [
      "Downloading http://yann.lecun.com/exdb/mnist/train-images-idx3-ubyte.gz\n",
      "Downloading http://yann.lecun.com/exdb/mnist/train-images-idx3-ubyte.gz to data/MNIST/raw/train-images-idx3-ubyte.gz\n"
     ]
    },
    {
     "data": {
      "application/vnd.jupyter.widget-view+json": {
       "model_id": "4ebb8690032c406790d1a14f2e1b8af9",
       "version_major": 2,
       "version_minor": 0
      },
      "text/plain": [
       "  0%|          | 0/9912422 [00:00<?, ?it/s]"
      ]
     },
     "metadata": {},
     "output_type": "display_data"
    },
    {
     "name": "stdout",
     "output_type": "stream",
     "text": [
      "Extracting data/MNIST/raw/train-images-idx3-ubyte.gz to data/MNIST/raw\n",
      "\n",
      "Downloading http://yann.lecun.com/exdb/mnist/train-labels-idx1-ubyte.gz\n",
      "Downloading http://yann.lecun.com/exdb/mnist/train-labels-idx1-ubyte.gz to data/MNIST/raw/train-labels-idx1-ubyte.gz\n"
     ]
    },
    {
     "data": {
      "application/vnd.jupyter.widget-view+json": {
       "model_id": "3457bb399bbb490b817d8c29cd03a817",
       "version_major": 2,
       "version_minor": 0
      },
      "text/plain": [
       "  0%|          | 0/28881 [00:00<?, ?it/s]"
      ]
     },
     "metadata": {},
     "output_type": "display_data"
    },
    {
     "name": "stdout",
     "output_type": "stream",
     "text": [
      "Extracting data/MNIST/raw/train-labels-idx1-ubyte.gz to data/MNIST/raw\n",
      "\n",
      "Downloading http://yann.lecun.com/exdb/mnist/t10k-images-idx3-ubyte.gz\n",
      "Downloading http://yann.lecun.com/exdb/mnist/t10k-images-idx3-ubyte.gz to data/MNIST/raw/t10k-images-idx3-ubyte.gz\n"
     ]
    },
    {
     "data": {
      "application/vnd.jupyter.widget-view+json": {
       "model_id": "34da56323a3f47a1938b8673fd00eaf9",
       "version_major": 2,
       "version_minor": 0
      },
      "text/plain": [
       "  0%|          | 0/1648877 [00:00<?, ?it/s]"
      ]
     },
     "metadata": {},
     "output_type": "display_data"
    },
    {
     "name": "stdout",
     "output_type": "stream",
     "text": [
      "Extracting data/MNIST/raw/t10k-images-idx3-ubyte.gz to data/MNIST/raw\n",
      "\n",
      "Downloading http://yann.lecun.com/exdb/mnist/t10k-labels-idx1-ubyte.gz\n",
      "Downloading http://yann.lecun.com/exdb/mnist/t10k-labels-idx1-ubyte.gz to data/MNIST/raw/t10k-labels-idx1-ubyte.gz\n"
     ]
    },
    {
     "data": {
      "application/vnd.jupyter.widget-view+json": {
       "model_id": "21bcd759ddaf43d9a6ae6097e1d24ca9",
       "version_major": 2,
       "version_minor": 0
      },
      "text/plain": [
       "  0%|          | 0/4542 [00:00<?, ?it/s]"
      ]
     },
     "metadata": {},
     "output_type": "display_data"
    },
    {
     "name": "stdout",
     "output_type": "stream",
     "text": [
      "Extracting data/MNIST/raw/t10k-labels-idx1-ubyte.gz to data/MNIST/raw\n",
      "\n"
     ]
    }
   ],
   "source": [
    "train_loader, valid_loader, test_loader = get_data_loader_mnist(\n",
    "    batch_size=256, \n",
    "    num_workers=2, \n",
    "    validation_fraction=0.)"
   ]
  },
  {
   "cell_type": "code",
   "execution_count": 4,
   "metadata": {
    "colab": {
     "base_uri": "https://localhost:8080/"
    },
    "id": "0-yLWO_DXUVl",
    "outputId": "8b879c03-2f27-444d-b859-45a8a85771f7"
   },
   "outputs": [
    {
     "name": "stdout",
     "output_type": "stream",
     "text": [
      "Training set:\n",
      "Image batch dimensions: torch.Size([256, 1, 28, 28])\n",
      "Image label dimensions: torch.Size([256])\n",
      "tensor([1, 7, 1, 6, 0, 9, 3, 4, 1, 2])\n",
      "Testing Set:\n",
      "Image batch dimensions: torch.Size([256, 1, 28, 28])\n",
      "Image label dimensions: torch.Size([256])\n",
      "tensor([7, 2, 1, 0, 4, 1, 4, 9, 5, 9])\n"
     ]
    }
   ],
   "source": [
    "#Checking the dataset\n",
    "print(\"Training set:\")\n",
    "for images,labels in train_loader:\n",
    "  print('Image batch dimensions:', images.size())\n",
    "  print('Image label dimensions:', labels.size())\n",
    "  print(labels[:10])\n",
    "  break\n",
    "\n",
    "\n",
    "# Checking the dataset\n",
    "print('Testing Set:')\n",
    "for images, labels in test_loader:  \n",
    "    print('Image batch dimensions:', images.size())\n",
    "    print('Image label dimensions:', labels.size())\n",
    "    print(labels[:10])\n",
    "    break\n"
   ]
  },
  {
   "cell_type": "code",
   "execution_count": null,
   "metadata": {
    "id": "zke00cO9XUYa"
   },
   "outputs": [],
   "source": []
  },
  {
   "cell_type": "markdown",
   "metadata": {
    "id": "ID0kmDL0eiEK"
   },
   "source": [
    "Model"
   ]
  },
  {
   "cell_type": "code",
   "execution_count": 29,
   "metadata": {
    "id": "vhaUVzavXUb9"
   },
   "outputs": [],
   "source": [
    "class Reshape(nn.Module):\n",
    "  def __init__(self,*args):\n",
    "    super().__init__()\n",
    "    self.shape=args\n",
    "  \n",
    "  def forward(self,x):\n",
    "    #print(x.shape)\n",
    "    return x.view(self.shape)\n",
    "\n",
    "\n",
    "class Trim(nn.Module):\n",
    "  def __init__(self,*args):\n",
    "    super().__init__()\n",
    "  \n",
    "  def forward(self,x):\n",
    "    return x[:,:,:28,:28]\n",
    "\n",
    "\n",
    "class VAE(nn.Module):\n",
    "  def __init__(self):\n",
    "    super().__init__()\n",
    "\n",
    "    self.encoder = nn.Sequential(\n",
    "        nn.Conv2d(1,32,stride=(1,1),kernel_size=(3,3),padding=1),\n",
    "        nn.LeakyReLU(0.01),\n",
    "        nn.Conv2d(32,64,stride=(2,2),kernel_size=(3,3),padding=1),\n",
    "        nn.LeakyReLU(0.01),\n",
    "        nn.Conv2d(64,64,stride=(2,2),kernel_size=(3,3),padding=1),\n",
    "        nn.LeakyReLU(0.01),\n",
    "        nn.Conv2d(64,64,stride=(1,1),kernel_size=(3,3),padding=1),\n",
    "        nn.Flatten(),\n",
    "    )\n",
    "\n",
    "    self.z_mean = nn.Linear(3136,2)\n",
    "    self.z_log_var = nn.Linear(3136,2)\n",
    "\n",
    "    self.decoder = nn.Sequential(\n",
    "        nn.Linear(2,3136),\n",
    "        Reshape(-1,64,7,7),\n",
    "        nn.ConvTranspose2d(64,64,stride=(1,1),kernel_size=(3,3),padding=1),\n",
    "        nn.LeakyReLU(0.01),\n",
    "        nn.ConvTranspose2d(64,64,stride=(2,2),kernel_size=(3,3),padding=1),\n",
    "        nn.LeakyReLU(0.01),\n",
    "        nn.ConvTranspose2d(64,32,stride=(2,2),kernel_size=(3,3),padding=0),\n",
    "        nn.LeakyReLU(0.01),\n",
    "        nn.ConvTranspose2d(32,1,stride=(1,1),kernel_size=(3,3),padding=0),\n",
    "        Trim(), # 1 x 29 x 29 -> 1x28x28\n",
    "        nn.Sigmoid() \n",
    "    )\n",
    "\n",
    "  #Used while plotting latent spaces\n",
    "  def encoding_fn(self, x):\n",
    "        x = self.encoder(x)\n",
    "        z_mean, z_log_var = self.z_mean(x), self.z_log_var(x)\n",
    "        encoded = self.reparameterize(z_mean, z_log_var)\n",
    "        return encoded\n",
    "  \n",
    "  def reparametrize(self, z_mu,z_log_var):\n",
    "    eps = torch.randn(z_mu.size(0),z_mu.size(1)).to(z_mu)\n",
    "    z = z_mu + eps * torch.exp(z_log_var/2.)\n",
    "    return z\n",
    "\n",
    "  def forward(self,x):\n",
    "    x = self.encoder(x)\n",
    "    z_mean,z_log_var = self.z_mean(x),self.z_log_var(x)\n",
    "    encoded = self.reparametrize(z_mean,z_log_var)\n",
    "    #print(encoded.shape)\n",
    "    decoded = self.decoder(encoded)\n",
    "    return encoded, z_mean, z_log_var, decoded\n",
    "\n",
    "\n"
   ]
  },
  {
   "cell_type": "code",
   "execution_count": 8,
   "metadata": {
    "id": "_tzxxnZTejeD"
   },
   "outputs": [],
   "source": [
    "model = VAE()"
   ]
  },
  {
   "cell_type": "code",
   "execution_count": 9,
   "metadata": {
    "colab": {
     "base_uri": "https://localhost:8080/"
    },
    "id": "J5l7iHCrejhG",
    "outputId": "a8974ef7-dbfd-404b-9d30-1a475d5210ac"
   },
   "outputs": [
    {
     "data": {
      "text/plain": [
       "VAE(\n",
       "  (encoder): Sequential(\n",
       "    (0): Conv2d(1, 32, kernel_size=(3, 3), stride=(1, 1), padding=(1, 1))\n",
       "    (1): LeakyReLU(negative_slope=0.01)\n",
       "    (2): Conv2d(32, 64, kernel_size=(3, 3), stride=(2, 2), padding=(1, 1))\n",
       "    (3): LeakyReLU(negative_slope=0.01)\n",
       "    (4): Conv2d(64, 64, kernel_size=(3, 3), stride=(2, 2), padding=(1, 1))\n",
       "    (5): LeakyReLU(negative_slope=0.01)\n",
       "    (6): Conv2d(64, 64, kernel_size=(3, 3), stride=(1, 1), padding=(1, 1))\n",
       "    (7): Flatten(start_dim=1, end_dim=-1)\n",
       "  )\n",
       "  (z_mean): Linear(in_features=3136, out_features=2, bias=True)\n",
       "  (z_log_var): Linear(in_features=3136, out_features=2, bias=True)\n",
       "  (decoder): Sequential(\n",
       "    (0): Linear(in_features=2, out_features=3136, bias=True)\n",
       "    (1): Reshape()\n",
       "    (2): ConvTranspose2d(64, 64, kernel_size=(3, 3), stride=(1, 1), padding=(1, 1))\n",
       "    (3): LeakyReLU(negative_slope=0.01)\n",
       "    (4): ConvTranspose2d(64, 64, kernel_size=(3, 3), stride=(2, 2), padding=(1, 1))\n",
       "    (5): LeakyReLU(negative_slope=0.01)\n",
       "    (6): ConvTranspose2d(64, 32, kernel_size=(3, 3), stride=(2, 2))\n",
       "    (7): LeakyReLU(negative_slope=0.01)\n",
       "    (8): ConvTranspose2d(32, 1, kernel_size=(3, 3), stride=(1, 1))\n",
       "    (9): Trim()\n",
       "    (10): Sigmoid()\n",
       "  )\n",
       ")"
      ]
     },
     "execution_count": 9,
     "metadata": {},
     "output_type": "execute_result"
    }
   ],
   "source": [
    "model"
   ]
  },
  {
   "cell_type": "code",
   "execution_count": 10,
   "metadata": {
    "id": "1Blp4IYLk17s"
   },
   "outputs": [],
   "source": [
    "optimizer = torch.optim.Adam(model.parameters(),lr=0.0005)"
   ]
  },
  {
   "cell_type": "code",
   "execution_count": 5,
   "metadata": {
    "id": "yjQGHXx-zPTS"
   },
   "outputs": [],
   "source": [
    "def compute_epoch_loss_autoencoder(model, data_loader, loss_fn):\n",
    "    model.eval()\n",
    "    curr_loss, num_examples = 0., 0\n",
    "    with torch.no_grad():\n",
    "        for features, _ in data_loader:\n",
    "            logits = model(features)\n",
    "            loss = loss_fn(logits, features, reduction='sum')\n",
    "            num_examples += features.size(0)\n",
    "            curr_loss += loss\n",
    "\n",
    "        curr_loss = curr_loss / num_examples\n",
    "        return curr_loss"
   ]
  },
  {
   "cell_type": "code",
   "execution_count": 6,
   "metadata": {
    "id": "vlaNb0Fjk1-a"
   },
   "outputs": [],
   "source": [
    "def train_vae(num_epochs, model, optimizer, train_loader,loss_fn=None,\n",
    "              logging_interval=100,skip_epoch_stats=False,\n",
    "              reconstruction_term_weight=1,\n",
    "              save_model=None):\n",
    "  \n",
    "  log_dict = {'train_combined_loss_per_batch': [],\n",
    "                'train_combined_loss_per_epoch': [],\n",
    "                'train_reconstruction_loss_per_batch': [],\n",
    "                'train_kl_loss_per_batch': []}\n",
    "\n",
    "  if loss_fn is None:\n",
    "    loss_fn = nn.functional.mse_loss\n",
    "  \n",
    "  for epoch in range(num_epochs):\n",
    "\n",
    "    model.train()\n",
    "\n",
    "    for batch_idx, (features,_) in enumerate(train_loader):\n",
    "\n",
    "      #print(features.shape)\n",
    "\n",
    "      #forward and back prop\n",
    "      encoded, z_mean, z_log_var, decoded = model(features)\n",
    "\n",
    "      #total loss = reconstruction_loss + kl_divergence\n",
    "      #kl_divergence = (0.5 * (z_mean**2 + torch.exp(z_logvar) - z_log_var -1)).sum()\n",
    "      kl_div = -0.5 * torch.sum(1 + z_log_var \n",
    "                                - z_mean**2 - torch.exp(z_log_var),axis=1) #sum over latent dimension\n",
    "\n",
    "      batch_size = kl_div.size(0)\n",
    "      kl_div = kl_div.mean() # average over batch dimension\n",
    "\n",
    "      pixelwise = loss_fn(decoded,features,reduction='none')\n",
    "      pixelwise = pixelwise.view(batch_size,-1).sum(axis=1) #sum over pixels\n",
    "      pixelwise = pixelwise.mean() # average over batch dimension\n",
    "\n",
    "      loss = reconstruction_term_weight*pixelwise + kl_div\n",
    "\n",
    "      optimizer.zero_grad()\n",
    "\n",
    "      loss.backward()\n",
    "\n",
    "      #update model parameters\n",
    "      optimizer.step()\n",
    "\n",
    "      #Logging\n",
    "      log_dict['train_combined_loss_per_batch'].append(loss.item())\n",
    "      log_dict['train_reconstruction_loss_per_batch'].append(pixelwise.item())\n",
    "      log_dict['train_kl_loss_per_batch'].append(kl_div.item())\n",
    "\n",
    "      if not batch_idx % logging_interval:\n",
    "                print('Epoch: %03d/%03d | Batch %04d/%04d | Loss: %.4f'\n",
    "                      % (epoch+1, num_epochs, batch_idx,\n",
    "                          len(train_loader), loss))\n",
    "    if not skip_epoch_stats:\n",
    "            model.eval()\n",
    "            \n",
    "            with torch.set_grad_enabled(False):  # save memory during inference\n",
    "                \n",
    "                train_loss = compute_epoch_loss_autoencoder(\n",
    "                    model, train_loader, loss_fn)\n",
    "                print('***Epoch: %03d/%03d | Loss: %.3f' % (\n",
    "                      epoch+1, num_epochs, train_loss))\n",
    "                log_dict['train_combined_per_epoch'].append(train_loss.item())\n",
    "    \n",
    "  if save_model is not None:\n",
    "    torch.save(model.state_dict(), save_model)\n",
    "  \n",
    "  return log_dict\n",
    "\n"
   ]
  },
  {
   "cell_type": "code",
   "execution_count": 13,
   "metadata": {
    "colab": {
     "base_uri": "https://localhost:8080/"
    },
    "id": "g8AEgfy_k2Bw",
    "outputId": "7ecacb47-33a2-4c5b-8dba-5df21f24002c"
   },
   "outputs": [
    {
     "name": "stdout",
     "output_type": "stream",
     "text": [
      "Epoch: 001/020 | Batch 0000/0234 | Loss: 198.0801\n",
      "Epoch: 001/020 | Batch 0050/0234 | Loss: 58.4076\n",
      "Epoch: 001/020 | Batch 0100/0234 | Loss: 53.3530\n",
      "Epoch: 001/020 | Batch 0150/0234 | Loss: 52.5919\n",
      "Epoch: 001/020 | Batch 0200/0234 | Loss: 47.6984\n",
      "Epoch: 002/020 | Batch 0000/0234 | Loss: 48.5106\n",
      "Epoch: 002/020 | Batch 0050/0234 | Loss: 44.8618\n",
      "Epoch: 002/020 | Batch 0100/0234 | Loss: 45.1502\n",
      "Epoch: 002/020 | Batch 0150/0234 | Loss: 44.8051\n",
      "Epoch: 002/020 | Batch 0200/0234 | Loss: 44.4232\n",
      "Epoch: 003/020 | Batch 0000/0234 | Loss: 42.9938\n",
      "Epoch: 003/020 | Batch 0050/0234 | Loss: 40.2272\n",
      "Epoch: 003/020 | Batch 0100/0234 | Loss: 42.4664\n",
      "Epoch: 003/020 | Batch 0150/0234 | Loss: 41.7188\n",
      "Epoch: 003/020 | Batch 0200/0234 | Loss: 41.4975\n",
      "Epoch: 004/020 | Batch 0000/0234 | Loss: 41.8233\n",
      "Epoch: 004/020 | Batch 0050/0234 | Loss: 41.7825\n",
      "Epoch: 004/020 | Batch 0100/0234 | Loss: 40.0352\n",
      "Epoch: 004/020 | Batch 0150/0234 | Loss: 39.8242\n",
      "Epoch: 004/020 | Batch 0200/0234 | Loss: 42.2790\n",
      "Epoch: 005/020 | Batch 0000/0234 | Loss: 40.4365\n",
      "Epoch: 005/020 | Batch 0050/0234 | Loss: 40.2319\n",
      "Epoch: 005/020 | Batch 0100/0234 | Loss: 39.8153\n",
      "Epoch: 005/020 | Batch 0150/0234 | Loss: 40.0886\n",
      "Epoch: 005/020 | Batch 0200/0234 | Loss: 41.2661\n",
      "Epoch: 006/020 | Batch 0000/0234 | Loss: 39.5698\n",
      "Epoch: 006/020 | Batch 0050/0234 | Loss: 39.8848\n",
      "Epoch: 006/020 | Batch 0100/0234 | Loss: 40.5462\n",
      "Epoch: 006/020 | Batch 0150/0234 | Loss: 40.1706\n",
      "Epoch: 006/020 | Batch 0200/0234 | Loss: 39.1774\n",
      "Epoch: 007/020 | Batch 0000/0234 | Loss: 39.1028\n",
      "Epoch: 007/020 | Batch 0050/0234 | Loss: 39.4756\n",
      "Epoch: 007/020 | Batch 0100/0234 | Loss: 39.6496\n",
      "Epoch: 007/020 | Batch 0150/0234 | Loss: 38.3708\n",
      "Epoch: 007/020 | Batch 0200/0234 | Loss: 39.3250\n",
      "Epoch: 008/020 | Batch 0000/0234 | Loss: 37.6678\n",
      "Epoch: 008/020 | Batch 0050/0234 | Loss: 39.5337\n",
      "Epoch: 008/020 | Batch 0100/0234 | Loss: 37.5218\n",
      "Epoch: 008/020 | Batch 0150/0234 | Loss: 39.3134\n",
      "Epoch: 008/020 | Batch 0200/0234 | Loss: 40.6924\n",
      "Epoch: 009/020 | Batch 0000/0234 | Loss: 38.0936\n",
      "Epoch: 009/020 | Batch 0050/0234 | Loss: 38.8951\n",
      "Epoch: 009/020 | Batch 0100/0234 | Loss: 40.1607\n",
      "Epoch: 009/020 | Batch 0150/0234 | Loss: 38.2393\n",
      "Epoch: 009/020 | Batch 0200/0234 | Loss: 37.3036\n",
      "Epoch: 010/020 | Batch 0000/0234 | Loss: 37.4121\n",
      "Epoch: 010/020 | Batch 0050/0234 | Loss: 39.4858\n",
      "Epoch: 010/020 | Batch 0100/0234 | Loss: 39.2013\n",
      "Epoch: 010/020 | Batch 0150/0234 | Loss: 39.2737\n",
      "Epoch: 010/020 | Batch 0200/0234 | Loss: 39.3571\n",
      "Epoch: 011/020 | Batch 0000/0234 | Loss: 37.7805\n",
      "Epoch: 011/020 | Batch 0050/0234 | Loss: 39.3213\n",
      "Epoch: 011/020 | Batch 0100/0234 | Loss: 37.8175\n",
      "Epoch: 011/020 | Batch 0150/0234 | Loss: 39.4933\n",
      "Epoch: 011/020 | Batch 0200/0234 | Loss: 39.0873\n",
      "Epoch: 012/020 | Batch 0000/0234 | Loss: 37.8180\n",
      "Epoch: 012/020 | Batch 0050/0234 | Loss: 38.2642\n",
      "Epoch: 012/020 | Batch 0100/0234 | Loss: 38.4024\n",
      "Epoch: 012/020 | Batch 0150/0234 | Loss: 38.4614\n",
      "Epoch: 012/020 | Batch 0200/0234 | Loss: 40.3524\n",
      "Epoch: 013/020 | Batch 0000/0234 | Loss: 38.8837\n",
      "Epoch: 013/020 | Batch 0050/0234 | Loss: 38.3164\n",
      "Epoch: 013/020 | Batch 0100/0234 | Loss: 37.0739\n",
      "Epoch: 013/020 | Batch 0150/0234 | Loss: 37.1242\n",
      "Epoch: 013/020 | Batch 0200/0234 | Loss: 36.6563\n",
      "Epoch: 014/020 | Batch 0000/0234 | Loss: 39.4345\n",
      "Epoch: 014/020 | Batch 0050/0234 | Loss: 38.4595\n",
      "Epoch: 014/020 | Batch 0100/0234 | Loss: 37.6688\n",
      "Epoch: 014/020 | Batch 0150/0234 | Loss: 37.6586\n",
      "Epoch: 014/020 | Batch 0200/0234 | Loss: 38.2956\n",
      "Epoch: 015/020 | Batch 0000/0234 | Loss: 38.2625\n",
      "Epoch: 015/020 | Batch 0050/0234 | Loss: 36.1165\n",
      "Epoch: 015/020 | Batch 0100/0234 | Loss: 38.2254\n",
      "Epoch: 015/020 | Batch 0150/0234 | Loss: 36.5078\n",
      "Epoch: 015/020 | Batch 0200/0234 | Loss: 38.0157\n",
      "Epoch: 016/020 | Batch 0000/0234 | Loss: 38.7963\n",
      "Epoch: 016/020 | Batch 0050/0234 | Loss: 37.8998\n",
      "Epoch: 016/020 | Batch 0100/0234 | Loss: 36.8951\n",
      "Epoch: 016/020 | Batch 0150/0234 | Loss: 37.8623\n",
      "Epoch: 016/020 | Batch 0200/0234 | Loss: 37.7998\n",
      "Epoch: 017/020 | Batch 0000/0234 | Loss: 37.2756\n",
      "Epoch: 017/020 | Batch 0050/0234 | Loss: 39.0911\n",
      "Epoch: 017/020 | Batch 0100/0234 | Loss: 36.1459\n",
      "Epoch: 017/020 | Batch 0150/0234 | Loss: 36.4276\n",
      "Epoch: 017/020 | Batch 0200/0234 | Loss: 37.7311\n",
      "Epoch: 018/020 | Batch 0000/0234 | Loss: 37.2123\n",
      "Epoch: 018/020 | Batch 0050/0234 | Loss: 37.9431\n",
      "Epoch: 018/020 | Batch 0100/0234 | Loss: 37.1664\n",
      "Epoch: 018/020 | Batch 0150/0234 | Loss: 37.1558\n",
      "Epoch: 018/020 | Batch 0200/0234 | Loss: 40.0468\n",
      "Epoch: 019/020 | Batch 0000/0234 | Loss: 37.2179\n",
      "Epoch: 019/020 | Batch 0050/0234 | Loss: 38.0437\n",
      "Epoch: 019/020 | Batch 0100/0234 | Loss: 38.2539\n",
      "Epoch: 019/020 | Batch 0150/0234 | Loss: 37.7165\n",
      "Epoch: 019/020 | Batch 0200/0234 | Loss: 36.7901\n",
      "Epoch: 020/020 | Batch 0000/0234 | Loss: 35.8779\n",
      "Epoch: 020/020 | Batch 0050/0234 | Loss: 37.2945\n",
      "Epoch: 020/020 | Batch 0100/0234 | Loss: 35.1721\n",
      "Epoch: 020/020 | Batch 0150/0234 | Loss: 36.7298\n",
      "Epoch: 020/020 | Batch 0200/0234 | Loss: 36.7319\n"
     ]
    }
   ],
   "source": [
    "log_dict = train_vae(num_epochs=20, model=model, \n",
    "                        optimizer=optimizer, \n",
    "                        train_loader=train_loader,\n",
    "                        skip_epoch_stats=True,\n",
    "                        logging_interval=50)"
   ]
  },
  {
   "cell_type": "code",
   "execution_count": 24,
   "metadata": {
    "id": "Y_cWyBHLRq8I"
   },
   "outputs": [],
   "source": [
    "torch.save(model, 'chkpoint.pth')"
   ]
  },
  {
   "cell_type": "markdown",
   "metadata": {
    "id": "OhjcZHaiH-rr"
   },
   "source": [
    "###Training Loss"
   ]
  },
  {
   "cell_type": "code",
   "execution_count": 7,
   "metadata": {
    "id": "ClVHq9Ls0s2_"
   },
   "outputs": [],
   "source": [
    "def plot_training_loss(minibatch_losses, num_epochs, averaging_iterations=100, custom_label=''):\n",
    "\n",
    "    iter_per_epoch = len(minibatch_losses) // num_epochs\n",
    "\n",
    "    plt.figure()\n",
    "    ax1 = plt.subplot(1, 1, 1)\n",
    "    ax1.plot(range(len(minibatch_losses)),\n",
    "             (minibatch_losses), label=f'Minibatch Loss{custom_label}')\n",
    "    ax1.set_xlabel('Iterations')\n",
    "    ax1.set_ylabel('Loss')\n",
    "\n",
    "    if len(minibatch_losses) < 1000:\n",
    "        num_losses = len(minibatch_losses) // 2\n",
    "    else:\n",
    "        num_losses = 1000\n",
    "\n",
    "    ax1.set_ylim([\n",
    "        0, np.max(minibatch_losses[num_losses:])*1.5\n",
    "        ])\n",
    "\n",
    "    ax1.plot(np.convolve(minibatch_losses,\n",
    "                         np.ones(averaging_iterations,)/averaging_iterations,\n",
    "                         mode='valid'),\n",
    "             label=f'Running Average{custom_label}')\n",
    "    ax1.legend()\n",
    "\n",
    "    ###################\n",
    "    # Set second x-axis\n",
    "    ax2 = ax1.twiny()\n",
    "    newlabel = list(range(num_epochs+1))\n",
    "\n",
    "    newpos = [e*iter_per_epoch for e in newlabel]\n",
    "\n",
    "    ax2.set_xticks(newpos[::10])\n",
    "    ax2.set_xticklabels(newlabel[::10])\n",
    "\n",
    "    ax2.xaxis.set_ticks_position('bottom')\n",
    "    ax2.xaxis.set_label_position('bottom')\n",
    "    ax2.spines['bottom'].set_position(('outward', 45))\n",
    "    ax2.set_xlabel('Epochs')\n",
    "    ax2.set_xlim(ax1.get_xlim())\n",
    "    ###################\n",
    "\n",
    "    plt.tight_layout()"
   ]
  },
  {
   "cell_type": "code",
   "execution_count": 15,
   "metadata": {
    "colab": {
     "base_uri": "https://localhost:8080/",
     "height": 857
    },
    "id": "IYhgaqf-0s5P",
    "outputId": "65e0af51-5bbb-4eab-f560-75f5b7e6f8d4"
   },
   "outputs": [
    {
     "data": {
      "image/png": "[encoded data removed]",
      "text/plain": [
       "<Figure size 432x288 with 2 Axes>"
      ]
     },
     "metadata": {
      "needs_background": "light"
     },
     "output_type": "display_data"
    },
    {
     "data": {
      "image/png": "[encoded data removed]",
      "text/plain": [
       "<Figure size 432x288 with 2 Axes>"
      ]
     },
     "metadata": {
      "needs_background": "light"
     },
     "output_type": "display_data"
    },
    {
     "data": {
      "image/png": "[encoded data removed]",
      "text/plain": [
       "<Figure size 432x288 with 2 Axes>"
      ]
     },
     "metadata": {
      "needs_background": "light"
     },
     "output_type": "display_data"
    }
   ],
   "source": [
    "plot_training_loss(log_dict['train_reconstruction_loss_per_batch'], 50, custom_label=\" (reconstruction)\")\n",
    "plot_training_loss(log_dict['train_kl_loss_per_batch'], 50, custom_label=\" (KL)\")\n",
    "plot_training_loss(log_dict['train_combined_loss_per_batch'], 50, custom_label=\" (combined)\")\n",
    "plt.show()"
   ]
  },
  {
   "cell_type": "markdown",
   "metadata": {
    "id": "sGDycEP6INN9"
   },
   "source": [
    "###Generate Images"
   ]
  },
  {
   "cell_type": "code",
   "execution_count": 8,
   "metadata": {
    "id": "3nVQslyX0s8s"
   },
   "outputs": [],
   "source": [
    "def plot_generated_images(data_loader, model, \n",
    "                          unnormalizer=None,\n",
    "                          figsize=(20, 2.5), n_images=15):\n",
    "\n",
    "    fig, axes = plt.subplots(nrows=2, ncols=n_images, \n",
    "                             sharex=True, sharey=True, figsize=figsize)\n",
    "    \n",
    "    for batch_idx, (features, _) in enumerate(data_loader):\n",
    "\n",
    "        color_channels = features.shape[1]\n",
    "        image_height = features.shape[2]\n",
    "        image_width = features.shape[3]\n",
    "        \n",
    "        with torch.no_grad():\n",
    "            encoded, z_mean, z_log_var, decoded_images = model(features)[:n_images]\n",
    "            \n",
    "        orig_images = features[:n_images]\n",
    "        break\n",
    "\n",
    "    for i in range(n_images):\n",
    "        for ax, img in zip(axes, [orig_images, decoded_images]):\n",
    "            curr_img = img[i]      \n",
    "            if unnormalizer is not None:\n",
    "                curr_img = unnormalizer(curr_img)\n",
    "\n",
    "            if color_channels > 1:\n",
    "                curr_img = np.transpose(curr_img, (1, 2, 0))\n",
    "                ax[i].imshow(curr_img)\n",
    "            else:\n",
    "                ax[i].imshow(curr_img.view((image_height, image_width)), cmap='binary')"
   ]
  },
  {
   "cell_type": "code",
   "execution_count": 26,
   "metadata": {
    "colab": {
     "base_uri": "https://localhost:8080/",
     "height": 182
    },
    "id": "tYmKm8mFEvGh",
    "outputId": "ebc12ca0-0edd-4462-dfa5-ad3c1075feef"
   },
   "outputs": [
    {
     "data": {
      "image/png": "[encoded data removed]",
      "text/plain": [
       "<Figure size 1440x180 with 30 Axes>"
      ]
     },
     "metadata": {
      "needs_background": "light"
     },
     "output_type": "display_data"
    }
   ],
   "source": [
    "plot_generated_images(data_loader=train_loader, model=model) \n",
    "\n",
    "#Images are very blurry because our encoded outputs a 2-dimensional image. that is \n",
    "#we are condesing a lot of info into a very small dimension.\n",
    "#hence recreating it from such a less amount of info is always challenging.\n",
    "#It leads to some mistakes as well."
   ]
  },
  {
   "cell_type": "code",
   "execution_count": null,
   "metadata": {
    "id": "W41X_8GPEvJV"
   },
   "outputs": [],
   "source": []
  },
  {
   "cell_type": "markdown",
   "metadata": {
    "id": "UBk6bd8UHtoA"
   },
   "source": [
    "###Latent Space"
   ]
  },
  {
   "cell_type": "code",
   "execution_count": 9,
   "metadata": {
    "id": "8ghJ9MrqEvMW"
   },
   "outputs": [],
   "source": [
    "def plot_latent_space_with_labels(num_classes, data_loader, encoding_fn):\n",
    "    d = {i:[] for i in range(num_classes)}\n",
    "\n",
    "    with torch.no_grad():\n",
    "        for i, (features, targets) in enumerate(data_loader):\n",
    "            \n",
    "            embedding = encoding_fn(features)\n",
    "\n",
    "            for i in range(num_classes):\n",
    "                if i in targets:\n",
    "                    mask = targets == i\n",
    "                    d[i].append(embedding[mask])\n",
    "\n",
    "    colors = list(mcolors.TABLEAU_COLORS.items())\n",
    "    for i in range(num_classes):\n",
    "        d[i] = np.concatenate(d[i])\n",
    "        plt.scatter(\n",
    "            d[i][:, 0], d[i][:, 1],\n",
    "            color=colors[i][1],\n",
    "            label=f'{i}',\n",
    "            alpha=0.5)\n",
    "\n",
    "    plt.legend()"
   ]
  },
  {
   "cell_type": "code",
   "execution_count": 51,
   "metadata": {
    "colab": {
     "base_uri": "https://localhost:8080/",
     "height": 265
    },
    "id": "lnWm4f2kEvPu",
    "outputId": "a4b7ce7a-fe11-4bca-a631-2d0529f035a3"
   },
   "outputs": [
    {
     "data": {
      "image/png": "[encoded data removed]",
      "text/plain": [
       "<Figure size 432x288 with 1 Axes>"
      ]
     },
     "metadata": {
      "needs_background": "light"
     },
     "output_type": "display_data"
    }
   ],
   "source": [
    "plot_latent_space_with_labels(\n",
    "    num_classes=10,\n",
    "    data_loader=train_loader,\n",
    "    encoding_fn=model.encoding_fn)\n",
    "\n",
    "plt.legend()\n",
    "plt.show()"
   ]
  },
  {
   "cell_type": "code",
   "execution_count": null,
   "metadata": {
    "id": "LKxn8enJHqiZ"
   },
   "outputs": [],
   "source": []
  },
  {
   "cell_type": "markdown",
   "metadata": {
    "id": "-zROpUx5H0Hm"
   },
   "source": [
    "###Generating image for a given point"
   ]
  },
  {
   "cell_type": "code",
   "execution_count": 54,
   "metadata": {
    "colab": {
     "base_uri": "https://localhost:8080/",
     "height": 265
    },
    "id": "8GPEpV8HHqlQ",
    "outputId": "2e6ea4d0-4f9e-4313-8349-fb2be81d4f45"
   },
   "outputs": [
    {
     "data": {
      "image/png": "[encoded data removed]",
      "text/plain": [
       "<Figure size 432x288 with 1 Axes>"
      ]
     },
     "metadata": {
      "needs_background": "light"
     },
     "output_type": "display_data"
    }
   ],
   "source": [
    "with torch.no_grad():\n",
    "    new_image = model.decoder(torch.tensor([-3.0, 0.0]))\n",
    "    new_image.squeeze_(0)\n",
    "    new_image.squeeze_(0)\n",
    "plt.imshow(new_image, cmap='binary')\n",
    "plt.show()"
   ]
  },
  {
   "cell_type": "code",
   "execution_count": null,
   "metadata": {
    "id": "5mXv8XQNHqoc"
   },
   "outputs": [],
   "source": []
  },
  {
   "cell_type": "code",
   "execution_count": null,
   "metadata": {
    "id": "zJycvZVzKx5X"
   },
   "outputs": [],
   "source": []
  },
  {
   "cell_type": "code",
   "execution_count": null,
   "metadata": {
    "id": "tCLhM9nxKx8M"
   },
   "outputs": [],
   "source": []
  },
  {
   "cell_type": "markdown",
   "metadata": {
    "id": "vC0mL2SEKywc"
   },
   "source": [
    "##Increasing encoder output dimension"
   ]
  },
  {
   "cell_type": "code",
   "execution_count": 18,
   "metadata": {
    "id": "8TpvBuahHqsB"
   },
   "outputs": [],
   "source": [
    "class Reshape(nn.Module):\n",
    "  def __init__(self,*args):\n",
    "    super().__init__()\n",
    "    self.shape=args\n",
    "  \n",
    "  def forward(self,x):\n",
    "    #print(x.shape)\n",
    "    return x.view(self.shape)\n",
    "\n",
    "\n",
    "class Trim(nn.Module):\n",
    "  def __init__(self,*args):\n",
    "    super().__init__()\n",
    "  \n",
    "  def forward(self,x):\n",
    "    return x[:,:,:28,:28]\n",
    "\n",
    "\n",
    "class VAE_v2(nn.Module):\n",
    "  def __init__(self):\n",
    "    super().__init__()\n",
    "\n",
    "    self.encoder = nn.Sequential(\n",
    "        nn.Conv2d(1,32,stride=(1,1),kernel_size=(3,3),padding=1),\n",
    "        nn.LeakyReLU(0.01),\n",
    "        nn.Conv2d(32,64,stride=(2,2),kernel_size=(3,3),padding=1),\n",
    "        nn.LeakyReLU(0.01),\n",
    "        nn.Conv2d(64,64,stride=(2,2),kernel_size=(3,3),padding=1),\n",
    "        nn.LeakyReLU(0.01),\n",
    "        nn.Conv2d(64,64,stride=(1,1),kernel_size=(3,3),padding=1),\n",
    "        nn.Flatten(),\n",
    "    )\n",
    "\n",
    "    self.z_mean = nn.Linear(3136,4)\n",
    "    self.z_log_var = nn.Linear(3136,4)\n",
    "\n",
    "    self.decoder = nn.Sequential(\n",
    "        nn.Linear(4,3136),\n",
    "        Reshape(-1,64,7,7),\n",
    "        nn.ConvTranspose2d(64,64,stride=(1,1),kernel_size=(3,3),padding=1),\n",
    "        nn.LeakyReLU(0.01),\n",
    "        nn.ConvTranspose2d(64,64,stride=(2,2),kernel_size=(3,3),padding=1),\n",
    "        nn.LeakyReLU(0.01),\n",
    "        nn.ConvTranspose2d(64,32,stride=(2,2),kernel_size=(3,3),padding=0),\n",
    "        nn.LeakyReLU(0.01),\n",
    "        nn.ConvTranspose2d(32,1,stride=(1,1),kernel_size=(3,3),padding=0),\n",
    "        Trim(), # 1 x 29 x 29 -> 1x28x28\n",
    "        nn.Sigmoid() \n",
    "    )\n",
    "\n",
    "  #Used while plotting latent spaces\n",
    "  def encoding_fn(self, x):\n",
    "        x = self.encoder(x)\n",
    "        z_mean, z_log_var = self.z_mean(x), self.z_log_var(x)\n",
    "        encoded = self.reparametrize(z_mean, z_log_var)\n",
    "        return encoded\n",
    "  \n",
    "  def reparametrize(self, z_mu,z_log_var):\n",
    "    eps = torch.randn(z_mu.size(0),z_mu.size(1)).to(z_mu)\n",
    "    z = z_mu + eps * torch.exp(z_log_var/2.)\n",
    "    return z\n",
    "\n",
    "  def forward(self,x):\n",
    "    x = self.encoder(x)\n",
    "    z_mean,z_log_var = self.z_mean(x),self.z_log_var(x)\n",
    "    encoded = self.reparametrize(z_mean,z_log_var)\n",
    "    #print(encoded.shape)\n",
    "    decoded = self.decoder(encoded)\n",
    "    return encoded, z_mean, z_log_var, decoded\n",
    "\n",
    "\n"
   ]
  },
  {
   "cell_type": "code",
   "execution_count": 19,
   "metadata": {
    "id": "aeTzN1M4M304"
   },
   "outputs": [],
   "source": [
    "model = VAE_v2()"
   ]
  },
  {
   "cell_type": "code",
   "execution_count": 20,
   "metadata": {
    "id": "r52UiRLqNP-p"
   },
   "outputs": [],
   "source": [
    "optimizer = torch.optim.Adam(model.parameters(),lr=0.0005)"
   ]
  },
  {
   "cell_type": "code",
   "execution_count": 21,
   "metadata": {
    "colab": {
     "base_uri": "https://localhost:8080/"
    },
    "id": "_qH3O42zNI9O",
    "outputId": "0d5e52cb-dc90-4522-e6c3-160f8c9b1c7b"
   },
   "outputs": [
    {
     "name": "stdout",
     "output_type": "stream",
     "text": [
      "Epoch: 001/007 | Batch 0000/0234 | Loss: 224.1050\n",
      "Epoch: 001/007 | Batch 0050/0234 | Loss: 56.7571\n",
      "Epoch: 001/007 | Batch 0100/0234 | Loss: 53.0451\n",
      "Epoch: 001/007 | Batch 0150/0234 | Loss: 50.6079\n",
      "Epoch: 001/007 | Batch 0200/0234 | Loss: 46.2529\n",
      "Epoch: 002/007 | Batch 0000/0234 | Loss: 42.5534\n",
      "Epoch: 002/007 | Batch 0050/0234 | Loss: 41.8111\n",
      "Epoch: 002/007 | Batch 0100/0234 | Loss: 39.1878\n",
      "Epoch: 002/007 | Batch 0150/0234 | Loss: 38.3300\n",
      "Epoch: 002/007 | Batch 0200/0234 | Loss: 37.5832\n",
      "Epoch: 003/007 | Batch 0000/0234 | Loss: 35.4457\n",
      "Epoch: 003/007 | Batch 0050/0234 | Loss: 36.4497\n",
      "Epoch: 003/007 | Batch 0100/0234 | Loss: 36.9699\n",
      "Epoch: 003/007 | Batch 0150/0234 | Loss: 36.7363\n",
      "Epoch: 003/007 | Batch 0200/0234 | Loss: 36.8294\n",
      "Epoch: 004/007 | Batch 0000/0234 | Loss: 33.5447\n",
      "Epoch: 004/007 | Batch 0050/0234 | Loss: 36.8370\n",
      "Epoch: 004/007 | Batch 0100/0234 | Loss: 34.7759\n",
      "Epoch: 004/007 | Batch 0150/0234 | Loss: 35.6107\n",
      "Epoch: 004/007 | Batch 0200/0234 | Loss: 35.3759\n",
      "Epoch: 005/007 | Batch 0000/0234 | Loss: 34.6583\n",
      "Epoch: 005/007 | Batch 0050/0234 | Loss: 35.1617\n",
      "Epoch: 005/007 | Batch 0100/0234 | Loss: 34.8812\n",
      "Epoch: 005/007 | Batch 0150/0234 | Loss: 34.0207\n",
      "Epoch: 005/007 | Batch 0200/0234 | Loss: 34.0881\n",
      "Epoch: 006/007 | Batch 0000/0234 | Loss: 33.9855\n",
      "Epoch: 006/007 | Batch 0050/0234 | Loss: 33.1229\n",
      "Epoch: 006/007 | Batch 0100/0234 | Loss: 32.8543\n",
      "Epoch: 006/007 | Batch 0150/0234 | Loss: 33.0804\n",
      "Epoch: 006/007 | Batch 0200/0234 | Loss: 34.6550\n",
      "Epoch: 007/007 | Batch 0000/0234 | Loss: 34.7742\n",
      "Epoch: 007/007 | Batch 0050/0234 | Loss: 33.2714\n",
      "Epoch: 007/007 | Batch 0100/0234 | Loss: 34.2462\n",
      "Epoch: 007/007 | Batch 0150/0234 | Loss: 32.7375\n",
      "Epoch: 007/007 | Batch 0200/0234 | Loss: 34.3191\n"
     ]
    }
   ],
   "source": [
    "log_dict = train_vae(num_epochs=7, model=model, \n",
    "                        optimizer=optimizer, \n",
    "                        train_loader=train_loader,\n",
    "                        skip_epoch_stats=True,\n",
    "                        logging_interval=50)"
   ]
  },
  {
   "cell_type": "code",
   "execution_count": 22,
   "metadata": {
    "id": "GWhfLPknMoJf"
   },
   "outputs": [],
   "source": [
    "torch.save(model, 'VAEWith4OutputDimension.pth')"
   ]
  },
  {
   "cell_type": "code",
   "execution_count": 23,
   "metadata": {
    "colab": {
     "base_uri": "https://localhost:8080/",
     "height": 857
    },
    "id": "XcD6Kd83MoMn",
    "outputId": "1b4144ae-c45f-4792-c3c9-9ca7998418c3"
   },
   "outputs": [
    {
     "data": {
      "image/png": "[encoded data removed]",
      "text/plain": [
       "<Figure size 432x288 with 2 Axes>"
      ]
     },
     "metadata": {
      "needs_background": "light"
     },
     "output_type": "display_data"
    },
    {
     "data": {
      "image/png": "[encoded data removed]",
      "text/plain": [
       "<Figure size 432x288 with 2 Axes>"
      ]
     },
     "metadata": {
      "needs_background": "light"
     },
     "output_type": "display_data"
    },
    {
     "data": {
      "image/png": "[encoded data removed]",
      "text/plain": [
       "<Figure size 432x288 with 2 Axes>"
      ]
     },
     "metadata": {
      "needs_background": "light"
     },
     "output_type": "display_data"
    }
   ],
   "source": [
    "plot_training_loss(log_dict['train_reconstruction_loss_per_batch'], 50, custom_label=\" (reconstruction)\")\n",
    "plot_training_loss(log_dict['train_kl_loss_per_batch'], 50, custom_label=\" (KL)\")\n",
    "plot_training_loss(log_dict['train_combined_loss_per_batch'], 50, custom_label=\" (combined)\")\n",
    "plt.show()"
   ]
  },
  {
   "cell_type": "code",
   "execution_count": 24,
   "metadata": {
    "colab": {
     "base_uri": "https://localhost:8080/",
     "height": 182
    },
    "id": "089OouGNMoP0",
    "outputId": "77e64563-10d7-438c-fe36-949ae0c76dfe"
   },
   "outputs": [
    {
     "data": {
      "image/png": "[encoded data removed]",
      "text/plain": [
       "<Figure size 1440x180 with 30 Axes>"
      ]
     },
     "metadata": {
      "needs_background": "light"
     },
     "output_type": "display_data"
    }
   ],
   "source": [
    "plot_generated_images(data_loader=train_loader, model=model)"
   ]
  },
  {
   "cell_type": "code",
   "execution_count": 25,
   "metadata": {
    "colab": {
     "base_uri": "https://localhost:8080/",
     "height": 265
    },
    "id": "kphZlnNAM_yj",
    "outputId": "c383b8b2-c050-4584-e053-8e7e031f7004"
   },
   "outputs": [
    {
     "data": {
      "image/png": "[encoded data removed]",
      "text/plain": [
       "<Figure size 432x288 with 1 Axes>"
      ]
     },
     "metadata": {
      "needs_background": "light"
     },
     "output_type": "display_data"
    }
   ],
   "source": [
    "plot_latent_space_with_labels(\n",
    "    num_classes=10,\n",
    "    data_loader=train_loader,\n",
    "    encoding_fn=model.encoding_fn)\n",
    "\n",
    "plt.legend()\n",
    "plt.show()"
   ]
  },
  {
   "cell_type": "code",
   "execution_count": 27,
   "metadata": {
    "colab": {
     "base_uri": "https://localhost:8080/",
     "height": 265
    },
    "id": "93cwTPl9M_1x",
    "outputId": "e802065e-0ee7-4bf2-ba86-2dff73dab6db"
   },
   "outputs": [
    {
     "data": {
      "image/png": "[encoded data removed]",
      "text/plain": [
       "<Figure size 432x288 with 1 Axes>"
      ]
     },
     "metadata": {
      "needs_background": "light"
     },
     "output_type": "display_data"
    }
   ],
   "source": [
    "with torch.no_grad():\n",
    "    new_image = model.decoder(torch.tensor([-3.0, 0.0,0.0,1]))\n",
    "    new_image.squeeze_(0)\n",
    "    new_image.squeeze_(0)\n",
    "plt.imshow(new_image, cmap='binary')\n",
    "plt.show()"
   ]
  },
  {
   "cell_type": "code",
   "execution_count": null,
   "metadata": {
    "id": "7_bQY083M_5J"
   },
   "outputs": [],
   "source": []
  },
  {
   "cell_type": "code",
   "execution_count": null,
   "metadata": {
    "id": "uWu3gvVsVAlT"
   },
   "outputs": [],
   "source": []
  },
  {
   "cell_type": "code",
   "execution_count": null,
   "metadata": {
    "id": "HsgjUnH4MoTx"
   },
   "outputs": [],
   "source": []
  },
  {
   "cell_type": "markdown",
   "metadata": {
    "id": "yABH7VJn0tdG"
   },
   "source": []
  },
  {
   "cell_type": "markdown",
   "metadata": {
    "id": "swDMrWHl0tgl"
   },
   "source": [
    "###Rough Work"
   ]
  },
  {
   "cell_type": "code",
   "execution_count": 1,
   "metadata": {
    "colab": {
     "base_uri": "https://localhost:8080/"
    },
    "id": "mMPMufDeejks",
    "outputId": "58df0bd5-a00e-437d-d38a-94cbf8541358"
   },
   "outputs": [
    {
     "data": {
      "text/plain": [
       "3136"
      ]
     },
     "execution_count": 1,
     "metadata": {},
     "output_type": "execute_result"
    }
   ],
   "source": [
    "64*7*7"
   ]
  },
  {
   "cell_type": "code",
   "execution_count": 72,
   "metadata": {
    "colab": {
     "base_uri": "https://localhost:8080/"
    },
    "id": "oEKi2H4Bxom8",
    "outputId": "34cc8f88-2531-4195-db13-eb678e1965d1"
   },
   "outputs": [
    {
     "data": {
      "text/plain": [
       "800256"
      ]
     },
     "execution_count": 72,
     "metadata": {},
     "output_type": "execute_result"
    }
   ],
   "source": [
    "3126 * 256"
   ]
  },
  {
   "cell_type": "code",
   "execution_count": 36,
   "metadata": {
    "id": "8R8p0CVvt9qJ"
   },
   "outputs": [],
   "source": [
    "for batch_idx, data in enumerate(train_loader, 0):\n",
    "    x, y = data "
   ]
  },
  {
   "cell_type": "code",
   "execution_count": 38,
   "metadata": {
    "colab": {
     "base_uri": "https://localhost:8080/"
    },
    "id": "P_IzRHRZt9tq",
    "outputId": "d3038e37-49cb-447f-d6e0-6d9011c09fd2"
   },
   "outputs": [
    {
     "data": {
      "text/plain": [
       "torch.Size([256, 1, 28, 28])"
      ]
     },
     "execution_count": 38,
     "metadata": {},
     "output_type": "execute_result"
    }
   ],
   "source": [
    "x.shape"
   ]
  },
  {
   "cell_type": "code",
   "execution_count": 39,
   "metadata": {
    "colab": {
     "base_uri": "https://localhost:8080/",
     "height": 312
    },
    "id": "CAe7v1Bwufoa",
    "outputId": "dd617925-43c3-4bad-ae7c-c22ae0cc900d"
   },
   "outputs": [
    {
     "ename": "RuntimeError",
     "evalue": "ignored",
     "output_type": "error",
     "traceback": [
      "\u001b[0;31m---------------------------------------------------------------------------\u001b[0m",
      "\u001b[0;31mRuntimeError\u001b[0m                              Traceback (most recent call last)",
      "\u001b[0;32m<ipython-input-39-bd0200007a4a>\u001b[0m in \u001b[0;36m<module>\u001b[0;34m\u001b[0m\n\u001b[0;32m----> 1\u001b[0;31m \u001b[0mmodel\u001b[0m\u001b[0;34m(\u001b[0m\u001b[0mx\u001b[0m\u001b[0;34m)\u001b[0m\u001b[0;34m\u001b[0m\u001b[0;34m\u001b[0m\u001b[0m\n\u001b[0m",
      "\u001b[0;32m/usr/local/lib/python3.8/dist-packages/torch/nn/modules/module.py\u001b[0m in \u001b[0;36m_call_impl\u001b[0;34m(self, *input, **kwargs)\u001b[0m\n\u001b[1;32m   1188\u001b[0m         if not (self._backward_hooks or self._forward_hooks or self._forward_pre_hooks or _global_backward_hooks\n\u001b[1;32m   1189\u001b[0m                 or _global_forward_hooks or _global_forward_pre_hooks):\n\u001b[0;32m-> 1190\u001b[0;31m             \u001b[0;32mreturn\u001b[0m \u001b[0mforward_call\u001b[0m\u001b[0;34m(\u001b[0m\u001b[0;34m*\u001b[0m\u001b[0minput\u001b[0m\u001b[0;34m,\u001b[0m \u001b[0;34m**\u001b[0m\u001b[0mkwargs\u001b[0m\u001b[0;34m)\u001b[0m\u001b[0;34m\u001b[0m\u001b[0;34m\u001b[0m\u001b[0m\n\u001b[0m\u001b[1;32m   1191\u001b[0m         \u001b[0;31m# Do not call functions when jit is used\u001b[0m\u001b[0;34m\u001b[0m\u001b[0;34m\u001b[0m\u001b[0;34m\u001b[0m\u001b[0m\n\u001b[1;32m   1192\u001b[0m         \u001b[0mfull_backward_hooks\u001b[0m\u001b[0;34m,\u001b[0m \u001b[0mnon_full_backward_hooks\u001b[0m \u001b[0;34m=\u001b[0m \u001b[0;34m[\u001b[0m\u001b[0;34m]\u001b[0m\u001b[0;34m,\u001b[0m \u001b[0;34m[\u001b[0m\u001b[0;34m]\u001b[0m\u001b[0;34m\u001b[0m\u001b[0;34m\u001b[0m\u001b[0m\n",
      "\u001b[0;32m<ipython-input-27-0b4f7f9b3eb5>\u001b[0m in \u001b[0;36mforward\u001b[0;34m(self, x)\u001b[0m\n\u001b[1;32m     57\u001b[0m     \u001b[0mz_mean\u001b[0m\u001b[0;34m,\u001b[0m\u001b[0mz_log_var\u001b[0m \u001b[0;34m=\u001b[0m \u001b[0mself\u001b[0m\u001b[0;34m.\u001b[0m\u001b[0mz_mean\u001b[0m\u001b[0;34m(\u001b[0m\u001b[0mx\u001b[0m\u001b[0;34m)\u001b[0m\u001b[0;34m,\u001b[0m\u001b[0mself\u001b[0m\u001b[0;34m.\u001b[0m\u001b[0mz_log_var\u001b[0m\u001b[0;34m(\u001b[0m\u001b[0mx\u001b[0m\u001b[0;34m)\u001b[0m\u001b[0;34m\u001b[0m\u001b[0;34m\u001b[0m\u001b[0m\n\u001b[1;32m     58\u001b[0m     \u001b[0mencoded\u001b[0m \u001b[0;34m=\u001b[0m \u001b[0mself\u001b[0m\u001b[0;34m.\u001b[0m\u001b[0mreparametrize\u001b[0m\u001b[0;34m(\u001b[0m\u001b[0mz_mean\u001b[0m\u001b[0;34m,\u001b[0m\u001b[0mz_log_var\u001b[0m\u001b[0;34m)\u001b[0m\u001b[0;34m\u001b[0m\u001b[0;34m\u001b[0m\u001b[0m\n\u001b[0;32m---> 59\u001b[0;31m     \u001b[0mdecoded\u001b[0m \u001b[0;34m=\u001b[0m \u001b[0mself\u001b[0m\u001b[0;34m.\u001b[0m\u001b[0mdecoder\u001b[0m\u001b[0;34m(\u001b[0m\u001b[0mencoded\u001b[0m\u001b[0;34m)\u001b[0m\u001b[0;34m\u001b[0m\u001b[0;34m\u001b[0m\u001b[0m\n\u001b[0m\u001b[1;32m     60\u001b[0m     \u001b[0;32mreturn\u001b[0m \u001b[0mencoded\u001b[0m\u001b[0;34m,\u001b[0m \u001b[0mz_mean\u001b[0m\u001b[0;34m,\u001b[0m \u001b[0mz_log_var\u001b[0m\u001b[0;34m,\u001b[0m \u001b[0mdecoded\u001b[0m\u001b[0;34m\u001b[0m\u001b[0;34m\u001b[0m\u001b[0m\n\u001b[1;32m     61\u001b[0m \u001b[0;34m\u001b[0m\u001b[0m\n",
      "\u001b[0;32m/usr/local/lib/python3.8/dist-packages/torch/nn/modules/module.py\u001b[0m in \u001b[0;36m_call_impl\u001b[0;34m(self, *input, **kwargs)\u001b[0m\n\u001b[1;32m   1188\u001b[0m         if not (self._backward_hooks or self._forward_hooks or self._forward_pre_hooks or _global_backward_hooks\n\u001b[1;32m   1189\u001b[0m                 or _global_forward_hooks or _global_forward_pre_hooks):\n\u001b[0;32m-> 1190\u001b[0;31m             \u001b[0;32mreturn\u001b[0m \u001b[0mforward_call\u001b[0m\u001b[0;34m(\u001b[0m\u001b[0;34m*\u001b[0m\u001b[0minput\u001b[0m\u001b[0;34m,\u001b[0m \u001b[0;34m**\u001b[0m\u001b[0mkwargs\u001b[0m\u001b[0;34m)\u001b[0m\u001b[0;34m\u001b[0m\u001b[0;34m\u001b[0m\u001b[0m\n\u001b[0m\u001b[1;32m   1191\u001b[0m         \u001b[0;31m# Do not call functions when jit is used\u001b[0m\u001b[0;34m\u001b[0m\u001b[0;34m\u001b[0m\u001b[0;34m\u001b[0m\u001b[0m\n\u001b[1;32m   1192\u001b[0m         \u001b[0mfull_backward_hooks\u001b[0m\u001b[0;34m,\u001b[0m \u001b[0mnon_full_backward_hooks\u001b[0m \u001b[0;34m=\u001b[0m \u001b[0;34m[\u001b[0m\u001b[0;34m]\u001b[0m\u001b[0;34m,\u001b[0m \u001b[0;34m[\u001b[0m\u001b[0;34m]\u001b[0m\u001b[0;34m\u001b[0m\u001b[0;34m\u001b[0m\u001b[0m\n",
      "\u001b[0;32m/usr/local/lib/python3.8/dist-packages/torch/nn/modules/container.py\u001b[0m in \u001b[0;36mforward\u001b[0;34m(self, input)\u001b[0m\n\u001b[1;32m    202\u001b[0m     \u001b[0;32mdef\u001b[0m \u001b[0mforward\u001b[0m\u001b[0;34m(\u001b[0m\u001b[0mself\u001b[0m\u001b[0;34m,\u001b[0m \u001b[0minput\u001b[0m\u001b[0;34m)\u001b[0m\u001b[0;34m:\u001b[0m\u001b[0;34m\u001b[0m\u001b[0;34m\u001b[0m\u001b[0m\n\u001b[1;32m    203\u001b[0m         \u001b[0;32mfor\u001b[0m \u001b[0mmodule\u001b[0m \u001b[0;32min\u001b[0m \u001b[0mself\u001b[0m\u001b[0;34m:\u001b[0m\u001b[0;34m\u001b[0m\u001b[0;34m\u001b[0m\u001b[0m\n\u001b[0;32m--> 204\u001b[0;31m             \u001b[0minput\u001b[0m \u001b[0;34m=\u001b[0m \u001b[0mmodule\u001b[0m\u001b[0;34m(\u001b[0m\u001b[0minput\u001b[0m\u001b[0;34m)\u001b[0m\u001b[0;34m\u001b[0m\u001b[0;34m\u001b[0m\u001b[0m\n\u001b[0m\u001b[1;32m    205\u001b[0m         \u001b[0;32mreturn\u001b[0m \u001b[0minput\u001b[0m\u001b[0;34m\u001b[0m\u001b[0;34m\u001b[0m\u001b[0m\n\u001b[1;32m    206\u001b[0m \u001b[0;34m\u001b[0m\u001b[0m\n",
      "\u001b[0;32m/usr/local/lib/python3.8/dist-packages/torch/nn/modules/module.py\u001b[0m in \u001b[0;36m_call_impl\u001b[0;34m(self, *input, **kwargs)\u001b[0m\n\u001b[1;32m   1188\u001b[0m         if not (self._backward_hooks or self._forward_hooks or self._forward_pre_hooks or _global_backward_hooks\n\u001b[1;32m   1189\u001b[0m                 or _global_forward_hooks or _global_forward_pre_hooks):\n\u001b[0;32m-> 1190\u001b[0;31m             \u001b[0;32mreturn\u001b[0m \u001b[0mforward_call\u001b[0m\u001b[0;34m(\u001b[0m\u001b[0;34m*\u001b[0m\u001b[0minput\u001b[0m\u001b[0;34m,\u001b[0m \u001b[0;34m**\u001b[0m\u001b[0mkwargs\u001b[0m\u001b[0;34m)\u001b[0m\u001b[0;34m\u001b[0m\u001b[0;34m\u001b[0m\u001b[0m\n\u001b[0m\u001b[1;32m   1191\u001b[0m         \u001b[0;31m# Do not call functions when jit is used\u001b[0m\u001b[0;34m\u001b[0m\u001b[0;34m\u001b[0m\u001b[0;34m\u001b[0m\u001b[0m\n\u001b[1;32m   1192\u001b[0m         \u001b[0mfull_backward_hooks\u001b[0m\u001b[0;34m,\u001b[0m \u001b[0mnon_full_backward_hooks\u001b[0m \u001b[0;34m=\u001b[0m \u001b[0;34m[\u001b[0m\u001b[0;34m]\u001b[0m\u001b[0;34m,\u001b[0m \u001b[0;34m[\u001b[0m\u001b[0;34m]\u001b[0m\u001b[0;34m\u001b[0m\u001b[0;34m\u001b[0m\u001b[0m\n",
      "\u001b[0;32m<ipython-input-27-0b4f7f9b3eb5>\u001b[0m in \u001b[0;36mforward\u001b[0;34m(self, x)\u001b[0m\n\u001b[1;32m      5\u001b[0m \u001b[0;34m\u001b[0m\u001b[0m\n\u001b[1;32m      6\u001b[0m   \u001b[0;32mdef\u001b[0m \u001b[0mforward\u001b[0m\u001b[0;34m(\u001b[0m\u001b[0mself\u001b[0m\u001b[0;34m,\u001b[0m\u001b[0mx\u001b[0m\u001b[0;34m)\u001b[0m\u001b[0;34m:\u001b[0m\u001b[0;34m\u001b[0m\u001b[0;34m\u001b[0m\u001b[0m\n\u001b[0;32m----> 7\u001b[0;31m     \u001b[0;32mreturn\u001b[0m \u001b[0mx\u001b[0m\u001b[0;34m.\u001b[0m\u001b[0mview\u001b[0m\u001b[0;34m(\u001b[0m\u001b[0mself\u001b[0m\u001b[0;34m.\u001b[0m\u001b[0mshape\u001b[0m\u001b[0;34m)\u001b[0m\u001b[0;34m\u001b[0m\u001b[0;34m\u001b[0m\u001b[0m\n\u001b[0m\u001b[1;32m      8\u001b[0m \u001b[0;34m\u001b[0m\u001b[0m\n\u001b[1;32m      9\u001b[0m \u001b[0;34m\u001b[0m\u001b[0m\n",
      "\u001b[0;31mRuntimeError\u001b[0m: shape '[-1, 64, 7, 7]' is invalid for input of size 800256"
     ]
    }
   ],
   "source": [
    "model(x)"
   ]
  },
  {
   "cell_type": "code",
   "execution_count": 46,
   "metadata": {
    "id": "kyVNaQm9ufvP"
   },
   "outputs": [],
   "source": [
    "inp1 =  nn.Conv2d(1,32,stride=(1,1),kernel_size=(3,3),padding=1)(x)\n",
    "inp1 = nn.LeakyReLU(0.01)(inp1)\n",
    "inp1 = nn.Conv2d(32,64,stride=(2,2),kernel_size=(3,3),padding=1)(inp1)\n",
    "inp1 = nn.LeakyReLU(0.01)(inp1)\n",
    "inp1 = nn.Conv2d(64,64,stride=(2,2),kernel_size=(3,3),padding=1)(inp1)\n",
    "inp1 = nn.LeakyReLU(0.01)(inp1)\n",
    "inp1 = nn.Conv2d(64,64,stride=(1,1),kernel_size=(3,3),padding=1)(inp1)\n",
    "inp1 = nn.Flatten()(inp1)\n"
   ]
  },
  {
   "cell_type": "code",
   "execution_count": 47,
   "metadata": {
    "colab": {
     "base_uri": "https://localhost:8080/"
    },
    "id": "XyuKB1Nhuf2G",
    "outputId": "4e8f912e-132b-4ff4-a242-a88dca828316"
   },
   "outputs": [
    {
     "data": {
      "text/plain": [
       "torch.Size([256, 3136])"
      ]
     },
     "execution_count": 47,
     "metadata": {},
     "output_type": "execute_result"
    }
   ],
   "source": [
    "inp1.shape"
   ]
  },
  {
   "cell_type": "code",
   "execution_count": 54,
   "metadata": {
    "id": "SxpCOmhyvPo_"
   },
   "outputs": [],
   "source": [
    "z_mean = nn.Linear(3136,2)(inp1)\n",
    "z_log_var = nn.Linear(3136,2)(inp1)"
   ]
  },
  {
   "cell_type": "code",
   "execution_count": 55,
   "metadata": {
    "colab": {
     "base_uri": "https://localhost:8080/"
    },
    "id": "5MnkQPs5wgHd",
    "outputId": "f4ebeea4-b7d4-4263-ff65-4a7bf9598038"
   },
   "outputs": [
    {
     "data": {
      "text/plain": [
       "torch.Size([256, 2])"
      ]
     },
     "execution_count": 55,
     "metadata": {},
     "output_type": "execute_result"
    }
   ],
   "source": [
    "z_mean.shape"
   ]
  },
  {
   "cell_type": "code",
   "execution_count": 56,
   "metadata": {
    "colab": {
     "base_uri": "https://localhost:8080/"
    },
    "id": "6tPRXH8owgK4",
    "outputId": "178f7af1-6b73-4bbb-eb5d-908f59691657"
   },
   "outputs": [
    {
     "data": {
      "text/plain": [
       "torch.Size([256, 2])"
      ]
     },
     "execution_count": 56,
     "metadata": {},
     "output_type": "execute_result"
    }
   ],
   "source": [
    "z_log_var.shape"
   ]
  },
  {
   "cell_type": "code",
   "execution_count": null,
   "metadata": {
    "id": "6mUAYliywmjt"
   },
   "outputs": [],
   "source": []
  },
  {
   "cell_type": "code",
   "execution_count": 57,
   "metadata": {
    "id": "-CR9uecFwmm8"
   },
   "outputs": [],
   "source": [
    "def reparametrize(z_mu,z_log_var):\n",
    "  eps = torch.randn(z_mu.size(0),z_mu.size(1)).to(z_mu)\n",
    "  z = z_mu + eps * torch.exp(z_log_var/2.)\n",
    "  return z"
   ]
  },
  {
   "cell_type": "code",
   "execution_count": 59,
   "metadata": {
    "id": "41iHy8zSwmqS"
   },
   "outputs": [],
   "source": [
    "enc = reparametrize(z_mean, z_log_var)"
   ]
  },
  {
   "cell_type": "code",
   "execution_count": 60,
   "metadata": {
    "colab": {
     "base_uri": "https://localhost:8080/"
    },
    "id": "X_RdaJv1vPsW",
    "outputId": "e8c178ff-ade5-45d0-8666-13a7d151bc8c"
   },
   "outputs": [
    {
     "data": {
      "text/plain": [
       "torch.Size([256, 2])"
      ]
     },
     "execution_count": 60,
     "metadata": {},
     "output_type": "execute_result"
    }
   ],
   "source": [
    " enc.shape"
   ]
  },
  {
   "cell_type": "code",
   "execution_count": 61,
   "metadata": {
    "id": "MBwTWbqrw8t-"
   },
   "outputs": [],
   "source": [
    "dec1 = nn.Linear(2, 3136)(enc)"
   ]
  },
  {
   "cell_type": "code",
   "execution_count": 62,
   "metadata": {
    "colab": {
     "base_uri": "https://localhost:8080/"
    },
    "id": "QI4HqldJw8wy",
    "outputId": "f65a6762-a94e-49e0-ed59-2b0a90105eaf"
   },
   "outputs": [
    {
     "data": {
      "text/plain": [
       "torch.Size([256, 3136])"
      ]
     },
     "execution_count": 62,
     "metadata": {},
     "output_type": "execute_result"
    }
   ],
   "source": [
    "dec1.shape"
   ]
  },
  {
   "cell_type": "code",
   "execution_count": 63,
   "metadata": {
    "id": "s21rVabiw80B"
   },
   "outputs": [],
   "source": [
    "shape = [-1, 64, 7, 7]"
   ]
  },
  {
   "cell_type": "code",
   "execution_count": 65,
   "metadata": {
    "colab": {
     "base_uri": "https://localhost:8080/"
    },
    "id": "_OpjmJM5xHGI",
    "outputId": "a63a0851-f644-494a-8759-4324415027b7"
   },
   "outputs": [
    {
     "data": {
      "text/plain": [
       "tensor([[[[-6.6561e-01, -9.2277e-01, -1.0816e-01,  ..., -5.7430e-01,\n",
       "            7.4526e-01,  6.3361e-01],\n",
       "          [-1.8902e-01, -2.7559e-01,  5.2629e-01,  ...,  7.0483e-01,\n",
       "           -1.0327e-01,  9.0930e-01],\n",
       "          [-7.0909e-02, -6.0653e-01,  1.5071e+00,  ..., -5.1390e-01,\n",
       "           -1.9364e-01,  4.7171e-01],\n",
       "          ...,\n",
       "          [ 2.3707e-01,  7.3098e-01, -2.8795e-01,  ..., -1.1339e+00,\n",
       "           -1.3055e-01,  1.7468e-01],\n",
       "          [ 7.8601e-02, -3.8716e-01, -7.6305e-01,  ...,  5.7785e-03,\n",
       "            4.4899e-01,  6.4762e-01],\n",
       "          [-9.0008e-01, -4.2228e-01, -4.9194e-01,  ..., -1.2204e+00,\n",
       "           -5.3831e-01,  1.0589e+00]],\n",
       "\n",
       "         [[ 1.4257e-01, -9.5441e-02,  1.2768e+00,  ..., -2.3836e-01,\n",
       "            8.3524e-02, -6.7302e-01],\n",
       "          [ 9.8404e-01,  4.8722e-01, -4.9471e-01,  ..., -1.1588e+00,\n",
       "           -4.3309e-01, -4.6097e-01],\n",
       "          [-5.4155e-01,  9.5949e-01, -6.4274e-01,  ...,  1.3701e+00,\n",
       "           -3.5711e-01,  1.1010e+00],\n",
       "          ...,\n",
       "          [ 1.5293e-01, -4.1211e-01,  7.8583e-01,  ...,  2.2594e-01,\n",
       "           -2.6802e-01,  6.3252e-01],\n",
       "          [-1.8623e-01,  1.7450e-01,  4.0526e-01,  ..., -1.9268e-01,\n",
       "            6.1472e-01,  6.6914e-01],\n",
       "          [-3.2245e-01, -1.3972e+00,  3.7796e-01,  ...,  6.7300e-01,\n",
       "            2.2101e-01, -1.3759e+00]],\n",
       "\n",
       "         [[ 3.1743e-01, -7.0522e-01,  4.3900e-01,  ...,  3.8651e-01,\n",
       "            4.3470e-01,  8.7297e-01],\n",
       "          [ 6.2160e-01,  2.4652e-01, -8.6054e-01,  ...,  1.7391e-01,\n",
       "           -5.7016e-02, -1.1230e-01],\n",
       "          [ 9.2226e-02,  7.9391e-01, -2.5236e-01,  ...,  1.0433e-01,\n",
       "            2.3434e-01,  1.0470e+00],\n",
       "          ...,\n",
       "          [ 6.0477e-01, -3.1522e-01, -3.0771e-01,  ..., -3.2431e-01,\n",
       "            1.3356e-01,  2.4328e-01],\n",
       "          [ 3.4401e-01, -5.0401e-01,  1.4413e+00,  ..., -1.8438e-01,\n",
       "           -8.5377e-01, -1.5099e-01],\n",
       "          [ 3.9361e-01, -2.0324e-01,  3.6471e-01,  ...,  7.1030e-01,\n",
       "            1.1404e+00, -5.3699e-01]],\n",
       "\n",
       "         ...,\n",
       "\n",
       "         [[ 1.7879e-01, -1.8464e-01,  5.0708e-01,  ..., -6.6539e-01,\n",
       "           -7.8378e-01,  1.9331e-01],\n",
       "          [ 6.5574e-01,  2.0016e-01,  7.7679e-03,  ..., -8.3972e-01,\n",
       "           -3.8067e-01, -2.3977e-01],\n",
       "          [-3.6710e-01,  2.7354e-02,  3.3188e-01,  ...,  2.1533e-01,\n",
       "           -9.2687e-01, -1.4700e+00],\n",
       "          ...,\n",
       "          [ 8.4264e-02, -3.6789e-01,  6.3408e-01,  ..., -1.2743e+00,\n",
       "            1.2208e+00,  4.7958e-01],\n",
       "          [ 1.0196e+00,  3.0738e-01,  6.1026e-02,  ...,  5.1947e-01,\n",
       "            5.0579e-01, -2.5516e-01],\n",
       "          [-3.7557e-01,  4.4693e-01, -2.7954e-01,  ..., -5.6173e-01,\n",
       "           -7.6138e-01, -9.4336e-01]],\n",
       "\n",
       "         [[-1.3057e-02, -5.5760e-01,  1.2047e-01,  ...,  4.8698e-01,\n",
       "           -1.4250e-01,  3.1833e-01],\n",
       "          [-2.1893e-01,  5.1689e-02, -3.7181e-01,  ..., -2.1498e-01,\n",
       "           -1.3042e+00,  1.1665e-01],\n",
       "          [ 2.0129e-01, -3.8976e-01, -7.1154e-02,  ..., -3.0713e-01,\n",
       "            4.6769e-01, -2.4513e-01],\n",
       "          ...,\n",
       "          [ 1.0749e+00,  7.3830e-02,  6.1644e-01,  ..., -4.7309e-01,\n",
       "           -5.3851e-01,  1.3917e+00],\n",
       "          [-3.9181e-01,  9.4035e-02,  1.8852e-01,  ..., -5.8973e-01,\n",
       "            5.6193e-01,  7.0895e-01],\n",
       "          [-1.1427e+00, -6.7375e-01,  9.4462e-01,  ...,  5.0304e-01,\n",
       "            6.8557e-01,  4.1979e-01]],\n",
       "\n",
       "         [[-1.0696e+00,  2.6491e-01, -2.1253e-01,  ..., -4.5251e-01,\n",
       "            8.0816e-01, -3.2542e-01],\n",
       "          [-7.6685e-01, -1.3165e+00, -1.4918e-01,  ...,  9.9554e-02,\n",
       "            4.4211e-01, -3.9902e-01],\n",
       "          [-1.1247e+00, -4.2369e-01,  6.6096e-01,  ...,  9.7829e-01,\n",
       "           -2.5751e-01, -4.3704e-01],\n",
       "          ...,\n",
       "          [-3.2721e-01,  5.0119e-01, -5.7930e-01,  ..., -8.3309e-01,\n",
       "            1.0283e+00,  1.0267e+00],\n",
       "          [-1.1181e+00,  5.5257e-01,  3.4689e-01,  ..., -1.5442e+00,\n",
       "            1.4493e-01,  7.4605e-01],\n",
       "          [ 1.2709e-01,  1.2090e+00, -8.4226e-01,  ..., -1.5788e-01,\n",
       "            2.9094e-01,  3.8753e-02]]],\n",
       "\n",
       "\n",
       "        [[[-8.6240e-01,  8.0360e-01,  1.5921e-01,  ..., -2.4008e-01,\n",
       "           -1.2678e+00,  4.8564e-01],\n",
       "          [ 1.3776e+00, -3.5537e-01, -2.0683e-01,  ...,  7.2734e-01,\n",
       "           -5.1370e-01, -1.5210e+00],\n",
       "          [ 2.9902e-01,  6.5413e-01, -7.4897e-01,  ...,  1.5153e+00,\n",
       "           -1.5489e+00, -8.0346e-02],\n",
       "          ...,\n",
       "          [-1.5309e+00, -2.2580e-01,  9.4347e-01,  ...,  2.1101e-01,\n",
       "            1.3003e+00,  5.9310e-01],\n",
       "          [ 1.6145e-01,  1.8373e-01, -1.3199e-01,  ..., -3.5708e-01,\n",
       "            1.5511e-01,  7.6450e-01],\n",
       "          [-5.6514e-01, -3.1436e-01, -2.2209e-01,  ...,  6.4819e-01,\n",
       "            4.7647e-01, -7.0277e-01]],\n",
       "\n",
       "         [[-1.6905e-01, -2.8943e-01, -8.1799e-01,  ..., -1.1358e+00,\n",
       "            7.0907e-02,  4.1813e-01],\n",
       "          [-9.2061e-01, -1.8241e-01, -2.2681e-01,  ..., -1.5015e-01,\n",
       "           -6.5826e-01, -4.8240e-01],\n",
       "          [-2.9213e-01, -3.2106e-01, -3.7463e-01,  ..., -8.0705e-01,\n",
       "           -6.9382e-01, -2.1285e-01],\n",
       "          ...,\n",
       "          [-8.9347e-01, -1.1841e+00, -5.2361e-01,  ...,  1.1411e+00,\n",
       "            1.7354e+00, -6.6379e-01],\n",
       "          [ 1.0530e-02,  4.7253e-01, -2.8428e-01,  ...,  1.8804e+00,\n",
       "            5.9991e-01, -3.0143e-01],\n",
       "          [-1.0976e+00,  5.3757e-01,  7.2499e-01,  ...,  1.6517e-01,\n",
       "           -5.2102e-01,  5.5899e-01]],\n",
       "\n",
       "         [[-1.4835e+00,  1.2690e-01,  6.3895e-01,  ..., -9.2917e-01,\n",
       "            1.5307e+00, -7.7689e-01],\n",
       "          [ 5.3816e-01,  4.3450e-01,  5.4921e-01,  ..., -1.6891e+00,\n",
       "           -6.7767e-01, -8.3844e-03],\n",
       "          [-1.5407e+00, -8.9739e-01, -6.4548e-01,  ..., -2.0974e+00,\n",
       "           -1.2973e+00, -5.9598e-01],\n",
       "          ...,\n",
       "          [-7.7369e-01,  2.1965e+00,  1.7176e+00,  ..., -1.3011e+00,\n",
       "           -9.8051e-01, -3.8652e-01],\n",
       "          [ 6.4572e-02,  9.2213e-01, -5.8275e-01,  ...,  2.2204e-01,\n",
       "           -3.9381e-01, -3.6110e-01],\n",
       "          [ 3.6736e-01,  1.0924e+00, -5.4880e-03,  ..., -1.2484e+00,\n",
       "           -5.7033e-01, -6.1031e-01]],\n",
       "\n",
       "         ...,\n",
       "\n",
       "         [[ 1.1845e-02, -6.5483e-01,  1.4011e-01,  ...,  6.5016e-01,\n",
       "            2.0631e+00, -1.5862e+00],\n",
       "          [ 1.0006e-02,  1.0465e+00,  1.3680e+00,  ...,  9.2091e-01,\n",
       "            1.4198e+00,  4.8619e-01],\n",
       "          [ 1.1847e+00, -1.5402e+00, -1.8885e+00,  ..., -7.4226e-02,\n",
       "            1.5229e+00,  6.5339e-01],\n",
       "          ...,\n",
       "          [-1.4262e+00, -5.0466e-01,  7.6357e-01,  ...,  8.7311e-01,\n",
       "           -8.8044e-01, -5.2223e-01],\n",
       "          [-1.1241e+00, -3.2994e-01,  7.4816e-02,  ...,  3.1845e-01,\n",
       "            1.0526e+00,  8.6988e-01],\n",
       "          [ 6.4137e-01, -9.2626e-03,  1.2661e+00,  ..., -1.7742e-01,\n",
       "           -3.2032e-01, -3.8077e-01]],\n",
       "\n",
       "         [[-9.2089e-01, -3.6975e-02,  7.1193e-01,  ...,  3.3107e-01,\n",
       "           -1.1760e+00,  7.0802e-01],\n",
       "          [-2.5166e-01, -1.0347e+00, -5.2076e-01,  ..., -7.5277e-02,\n",
       "            5.2756e-01, -1.0184e+00],\n",
       "          [-4.7953e-02,  1.3343e+00, -1.1582e+00,  ...,  8.0818e-01,\n",
       "            4.8095e-01,  4.8073e-01],\n",
       "          ...,\n",
       "          [-1.7676e+00, -4.6690e-01, -7.8274e-01,  ..., -4.9106e-01,\n",
       "            4.0189e-01, -1.7204e-01],\n",
       "          [ 1.1788e+00, -1.4571e+00, -2.2741e-01,  ...,  1.6976e-01,\n",
       "           -1.4542e-01, -2.1335e-01],\n",
       "          [-2.0064e-01, -7.9359e-01, -1.4264e+00,  ..., -3.8608e-01,\n",
       "           -3.0752e-02,  2.5515e-01]],\n",
       "\n",
       "         [[-6.1513e-01, -1.2167e-01,  1.2394e+00,  ..., -1.5566e+00,\n",
       "            3.8282e-01,  1.0261e+00],\n",
       "          [-3.0038e-01,  5.3134e-01,  1.1640e+00,  ..., -8.3385e-02,\n",
       "            1.0209e+00,  6.7828e-01],\n",
       "          [ 1.1461e+00, -3.5885e-01,  3.1518e-02,  ..., -4.3051e-01,\n",
       "            1.7159e+00,  1.6675e+00],\n",
       "          ...,\n",
       "          [ 9.8790e-01, -3.2976e-01, -2.2350e-01,  ...,  1.1445e-01,\n",
       "           -1.1482e+00, -3.9316e-01],\n",
       "          [ 7.0382e-01,  1.1162e+00,  1.0972e+00,  ...,  8.0256e-01,\n",
       "            6.7651e-01, -8.7119e-02],\n",
       "          [ 4.6240e-01, -1.8593e-01,  7.2879e-01,  ...,  6.4284e-01,\n",
       "           -6.7540e-02,  1.0984e+00]]],\n",
       "\n",
       "\n",
       "        [[[-9.0139e-01, -5.9338e-01,  2.5676e-01,  ..., -9.7108e-02,\n",
       "            2.6171e-01,  7.1312e-01],\n",
       "          [ 4.1494e-01, -6.8766e-01,  1.7967e-01,  ...,  8.3337e-01,\n",
       "            1.7656e-01,  2.9686e-01],\n",
       "          [ 3.6673e-02,  9.7430e-02,  9.1585e-01,  ...,  2.6668e-01,\n",
       "           -8.0380e-01,  3.7289e-01],\n",
       "          ...,\n",
       "          [-7.1861e-02,  4.8424e-01,  2.9046e-01,  ..., -9.5615e-01,\n",
       "            2.6118e-01, -8.2586e-02],\n",
       "          [-2.1631e-01, -6.6939e-02, -5.6786e-01,  ...,  2.1336e-01,\n",
       "            1.0439e-01,  1.0747e+00],\n",
       "          [-1.0032e+00, -6.8950e-01, -3.1369e-01,  ..., -7.2031e-01,\n",
       "           -2.8594e-01,  4.3031e-01]],\n",
       "\n",
       "         [[-3.5936e-02,  2.3257e-01,  7.1866e-01,  ..., -4.3361e-01,\n",
       "            4.4710e-01, -3.2356e-01],\n",
       "          [ 5.4358e-01, -1.9299e-01, -6.4959e-01,  ..., -1.1014e+00,\n",
       "           -2.4149e-01, -9.1860e-01],\n",
       "          [-5.9730e-01,  7.8204e-01, -7.0027e-01,  ...,  6.2466e-01,\n",
       "           -7.3165e-01,  4.7751e-01],\n",
       "          ...,\n",
       "          [ 3.4827e-02, -7.4430e-01,  6.0605e-01,  ...,  9.0357e-01,\n",
       "            1.7569e-01, -2.2576e-02],\n",
       "          [ 2.7579e-01,  2.7890e-01, -1.2919e-01,  ...,  4.6620e-01,\n",
       "            9.9475e-01,  9.0013e-02],\n",
       "          [-7.7934e-01, -8.9947e-01,  5.5824e-01,  ...,  5.3690e-01,\n",
       "           -1.2052e-01, -9.3625e-01]],\n",
       "\n",
       "         [[-2.3505e-01, -1.1060e-01,  1.4302e-01,  ...,  3.1656e-02,\n",
       "            1.1518e+00,  4.2277e-01],\n",
       "          [ 5.8647e-01, -1.5969e-01, -7.1297e-01,  ..., -4.8365e-01,\n",
       "            1.5915e-01,  7.8962e-02],\n",
       "          [-5.2955e-01,  2.1133e-01, -2.9913e-02,  ..., -6.5733e-01,\n",
       "           -3.6040e-01,  5.6292e-01],\n",
       "          ...,\n",
       "          [ 5.4827e-03,  3.4441e-01,  2.3064e-01,  ..., -6.1809e-01,\n",
       "            4.5523e-03,  2.5790e-02],\n",
       "          [ 5.8495e-02,  1.6276e-01,  8.9652e-01,  ...,  4.3311e-01,\n",
       "           -9.3918e-01, -4.8654e-01],\n",
       "          [ 1.4750e-01,  6.4314e-02, -7.7814e-02,  ...,  1.4929e-01,\n",
       "            7.5547e-01, -3.9522e-01]],\n",
       "\n",
       "         ...,\n",
       "\n",
       "         [[ 5.3001e-01, -8.2026e-01,  1.9054e-01,  ..., -4.7787e-01,\n",
       "            4.8530e-02, -1.3685e-01],\n",
       "          [ 2.7234e-01,  1.0350e-01,  6.0222e-01,  ..., -3.2709e-01,\n",
       "            3.9418e-01,  1.6797e-02],\n",
       "          [ 1.6236e-01, -3.2391e-01, -1.8335e-01,  ..., -2.7170e-01,\n",
       "           -3.4357e-01, -7.4450e-01],\n",
       "          ...,\n",
       "          [-1.4152e-01, -3.8942e-01,  7.6070e-01,  ..., -7.2733e-01,\n",
       "            6.4332e-01, -1.1734e-01],\n",
       "          [ 4.0289e-01, -1.9087e-01,  4.5699e-02,  ...,  7.6320e-01,\n",
       "            6.9088e-01, -2.0900e-01],\n",
       "          [ 2.5376e-01, -2.3914e-01,  3.9725e-01,  ..., -6.0871e-01,\n",
       "           -8.8667e-01, -9.6000e-01]],\n",
       "\n",
       "         [[-3.7257e-01, -2.5225e-01,  5.5975e-01,  ...,  5.7096e-01,\n",
       "           -8.2001e-01,  9.0307e-01],\n",
       "          [-6.8348e-01, -6.6293e-01, -8.6960e-01,  ..., -1.7265e-01,\n",
       "           -6.4508e-01, -3.1446e-01],\n",
       "          [-1.1858e-01, -6.4881e-02, -4.0865e-01,  ..., -1.3173e-02,\n",
       "            3.7383e-01,  6.2585e-02],\n",
       "          ...,\n",
       "          [ 2.4240e-01, -2.6975e-01,  1.7691e-01,  ..., -8.4447e-01,\n",
       "           -6.2573e-01,  1.1899e+00],\n",
       "          [-1.4713e-03, -4.0275e-01, -3.6866e-01,  ..., -5.7393e-01,\n",
       "            4.5361e-01,  4.4254e-01],\n",
       "          [-1.1493e+00, -7.8497e-01,  1.6751e-01,  ...,  2.7607e-02,\n",
       "            7.9365e-01,  7.3090e-01]],\n",
       "\n",
       "         [[-1.3571e+00, -4.3568e-02,  3.9198e-03,  ..., -1.1836e+00,\n",
       "            1.0760e+00,  3.9496e-01],\n",
       "          [-9.3919e-01, -7.0156e-01,  1.0991e-01,  ...,  1.0433e-01,\n",
       "            9.0548e-01,  2.0143e-01],\n",
       "          [-4.7439e-01, -8.6591e-01,  3.1427e-01,  ...,  7.0672e-01,\n",
       "            1.3762e-01,  2.3804e-01],\n",
       "          ...,\n",
       "          [ 2.5802e-01, -1.1927e-03, -4.7434e-02,  ..., -7.2889e-01,\n",
       "            4.7709e-01,  3.3782e-01],\n",
       "          [-6.5152e-01,  1.0812e+00,  6.6922e-01,  ..., -8.8003e-01,\n",
       "            6.1860e-01,  3.3784e-01],\n",
       "          [ 7.5077e-01,  9.9767e-01, -1.4040e-01,  ...,  1.9126e-01,\n",
       "            4.3566e-01,  5.4764e-01]]],\n",
       "\n",
       "\n",
       "        ...,\n",
       "\n",
       "\n",
       "        [[[-1.0879e+00, -4.3800e-01,  5.4818e-01,  ...,  2.8510e-01,\n",
       "           -4.1923e-03,  7.9157e-01],\n",
       "          [ 8.1576e-01, -1.0329e+00, -6.2404e-02,  ...,  9.4123e-01,\n",
       "            4.4465e-01, -4.8567e-02],\n",
       "          [ 1.0148e-01,  6.0561e-01,  5.7580e-01,  ...,  7.8439e-01,\n",
       "           -1.2252e+00,  3.2874e-01],\n",
       "          ...,\n",
       "          [-2.0681e-01,  3.4346e-01,  6.9382e-01,  ..., -9.0226e-01,\n",
       "            4.9108e-01, -3.3205e-01],\n",
       "          [-4.7351e-01,  1.6441e-01, -4.4736e-01,  ...,  4.1647e-01,\n",
       "           -1.6780e-01,  1.4300e+00],\n",
       "          [-1.1154e+00, -9.2493e-01, -1.8144e-01,  ..., -4.2982e-01,\n",
       "           -1.4456e-01,  2.2668e-02]],\n",
       "\n",
       "         [[-1.6538e-01,  5.2600e-01,  3.9512e-01,  ..., -5.3484e-01,\n",
       "            7.5768e-01, -1.0503e-01],\n",
       "          [ 3.0652e-01, -7.2380e-01, -8.0093e-01,  ..., -1.1257e+00,\n",
       "           -6.1970e-02, -1.3068e+00],\n",
       "          [-6.6287e-01,  7.2375e-01, -7.6871e-01,  ...,  1.4760e-01,\n",
       "           -1.0262e+00,  4.1689e-02],\n",
       "          ...,\n",
       "          [ 1.0101e-02, -9.7125e-01,  5.4788e-01,  ...,  1.4144e+00,\n",
       "            4.0836e-01, -4.8655e-01],\n",
       "          [ 6.5504e-01,  3.4621e-01, -5.3440e-01,  ...,  8.7709e-01,\n",
       "            1.3195e+00, -3.3287e-01],\n",
       "          [-1.1123e+00, -6.1584e-01,  6.8662e-01,  ...,  4.5780e-01,\n",
       "           -3.5760e-01, -7.0210e-01]],\n",
       "\n",
       "         [[-5.7504e-01,  3.3552e-01, -1.2358e-01,  ..., -1.7519e-01,\n",
       "            1.6831e+00,  1.5894e-01],\n",
       "          [ 5.6260e-01, -5.1930e-01, -6.8950e-01,  ..., -9.0863e-01,\n",
       "            3.8825e-01,  2.3433e-01],\n",
       "          [-9.4074e-01, -1.6224e-01,  1.8805e-01,  ..., -1.1464e+00,\n",
       "           -7.5591e-01,  2.6971e-01],\n",
       "          ...,\n",
       "          [-4.0500e-01,  7.2412e-01,  5.4233e-01,  ..., -7.9748e-01,\n",
       "           -2.4552e-02, -1.1379e-01],\n",
       "          [-1.6443e-01,  6.2727e-01,  5.7925e-01,  ...,  9.2958e-01,\n",
       "           -1.0453e+00, -7.5710e-01],\n",
       "          [-6.0218e-02,  1.9826e-01, -4.2788e-01,  ..., -1.8652e-01,\n",
       "            5.5169e-01, -2.6915e-01]],\n",
       "\n",
       "         ...,\n",
       "\n",
       "         [[ 8.4127e-01, -1.3276e+00, -5.2465e-02,  ..., -4.1354e-01,\n",
       "            5.5102e-01, -2.8905e-01],\n",
       "          [-7.3858e-03, -4.0201e-02,  1.0099e+00,  ..., -1.8116e-02,\n",
       "            9.2360e-01,  1.8269e-01],\n",
       "          [ 5.0081e-01, -5.0944e-01, -4.6120e-01,  ..., -6.6551e-01,\n",
       "           -2.4378e-02, -2.8054e-01],\n",
       "          ...,\n",
       "          [-2.2432e-01, -3.9785e-01,  8.5916e-01,  ..., -4.1719e-01,\n",
       "            3.0382e-01, -5.5311e-01],\n",
       "          [ 3.3010e-02, -5.6903e-01,  3.1645e-02,  ...,  9.8536e-01,\n",
       "            8.0889e-01, -2.5125e-01],\n",
       "          [ 7.1605e-01, -7.9042e-01,  8.6163e-01,  ..., -6.7659e-01,\n",
       "           -1.0254e+00, -1.0150e+00]],\n",
       "\n",
       "         [[-6.1296e-01, -2.9913e-02,  8.9102e-01,  ...,  6.5379e-01,\n",
       "           -1.3221e+00,  1.3729e+00],\n",
       "          [-1.0768e+00, -1.1928e+00, -1.2828e+00,  ..., -1.4672e-01,\n",
       "           -2.1650e-01, -5.9936e-01],\n",
       "          [-3.7294e-01,  8.6823e-02, -6.1730e-01,  ...,  1.5634e-01,\n",
       "            2.9293e-01,  2.7204e-01],\n",
       "          ...,\n",
       "          [-2.6056e-01, -5.2319e-01, -9.6000e-02,  ..., -1.1595e+00,\n",
       "           -7.6819e-01,  1.1313e+00],\n",
       "          [ 2.1711e-01, -7.1341e-01, -8.1306e-01,  ..., -6.1555e-01,\n",
       "            4.1263e-01,  2.8250e-01],\n",
       "          [-1.2233e+00, -8.7101e-01, -3.2247e-01,  ..., -3.1286e-01,\n",
       "            9.3765e-01,  1.0078e+00]],\n",
       "\n",
       "         [[-1.6350e+00, -2.7828e-01,  8.3011e-02,  ..., -1.7262e+00,\n",
       "            1.3349e+00,  9.1055e-01],\n",
       "          [-1.1198e+00, -3.1180e-01,  2.3537e-01,  ...,  1.2166e-01,\n",
       "            1.2582e+00,  6.3473e-01],\n",
       "          [-8.5141e-02, -1.2473e+00,  6.4625e-02,  ...,  5.7756e-01,\n",
       "            3.3108e-01,  6.6044e-01],\n",
       "          ...,\n",
       "          [ 6.6113e-01, -3.6884e-01,  3.7977e-01,  ..., -7.0885e-01,\n",
       "            1.6539e-01, -1.4600e-01],\n",
       "          [-3.8622e-01,  1.4905e+00,  8.8935e-01,  ..., -4.8448e-01,\n",
       "            9.8349e-01,  5.0561e-02],\n",
       "          [ 1.2577e+00,  9.1878e-01,  3.4348e-01,  ...,  4.3058e-01,\n",
       "            5.8491e-01,  9.0424e-01]]],\n",
       "\n",
       "\n",
       "        [[[-8.9001e-01, -9.6420e-01,  2.4823e-01,  ..., -1.0449e-01,\n",
       "            6.7860e-01,  7.6169e-01],\n",
       "          [ 1.2596e-01, -7.3235e-01,  3.0493e-01,  ...,  8.4790e-01,\n",
       "            3.2052e-01,  7.9570e-01],\n",
       "          [-3.7022e-02, -1.0115e-01,  1.3754e+00,  ..., -1.0790e-01,\n",
       "           -5.6747e-01,  4.9248e-01],\n",
       "          ...,\n",
       "          [ 3.1230e-01,  6.7975e-01,  7.9466e-02,  ..., -1.2573e+00,\n",
       "           -2.7665e-02, -2.2498e-01],\n",
       "          [-2.8252e-01, -1.5664e-01, -6.9176e-01,  ...,  3.3443e-01,\n",
       "            1.2257e-01,  1.1127e+00],\n",
       "          [-1.1012e+00, -7.5752e-01, -3.5191e-01,  ..., -1.0993e+00,\n",
       "           -4.9475e-01,  7.6314e-01]],\n",
       "\n",
       "         [[ 1.2451e-02,  3.3110e-01,  1.1439e+00,  ..., -2.4459e-01,\n",
       "            5.0683e-01, -5.3593e-01],\n",
       "          [ 9.4068e-01, -1.3523e-01, -7.3923e-01,  ..., -1.3391e+00,\n",
       "           -1.5658e-01, -9.8466e-01],\n",
       "          [-6.6698e-01,  1.0675e+00, -7.7479e-01,  ...,  1.0409e+00,\n",
       "           -7.0767e-01,  7.0163e-01],\n",
       "          ...,\n",
       "          [ 2.7229e-01, -6.0728e-01,  8.9823e-01,  ...,  7.8536e-01,\n",
       "           -2.4507e-01,  1.9234e-01],\n",
       "          [ 2.9966e-01,  2.2229e-01, -4.3847e-02,  ...,  6.1958e-02,\n",
       "            1.0576e+00,  2.3711e-01],\n",
       "          [-6.6098e-01, -1.2950e+00,  5.0147e-01,  ...,  6.3987e-01,\n",
       "            7.7150e-03, -1.3409e+00]],\n",
       "\n",
       "         [[ 1.1925e-01, -2.2143e-01,  4.8010e-02,  ...,  2.9808e-01,\n",
       "            9.9551e-01,  7.5605e-01],\n",
       "          [ 6.0140e-01, -2.6894e-01, -1.0347e+00,  ..., -1.3054e-01,\n",
       "            3.4459e-01,  8.3351e-02],\n",
       "          [-2.2714e-01,  5.3413e-01,  1.0087e-01,  ..., -2.3762e-01,\n",
       "           -7.8541e-02,  8.8924e-01],\n",
       "          ...,\n",
       "          [ 2.4918e-01, -1.6699e-01, -1.8072e-01,  ..., -4.2500e-01,\n",
       "            2.5687e-01,  1.4590e-01],\n",
       "          [ 8.2341e-02, -8.2078e-02,  1.3066e+00,  ...,  4.2994e-01,\n",
       "           -1.0650e+00, -4.8744e-01],\n",
       "          [ 1.1557e-01, -2.1081e-01, -5.6236e-02,  ...,  5.4084e-01,\n",
       "            1.1138e+00, -3.5520e-01]],\n",
       "\n",
       "         ...,\n",
       "\n",
       "         [[ 6.2555e-01, -8.0432e-01,  2.3095e-01,  ..., -7.7033e-01,\n",
       "           -5.1792e-01,  2.4684e-01],\n",
       "          [ 3.7051e-01, -1.1851e-01,  3.6224e-01,  ..., -6.7773e-01,\n",
       "            7.4656e-02, -1.2074e-01],\n",
       "          [-1.3459e-01,  4.6550e-03,  2.7930e-01,  ..., -2.7677e-01,\n",
       "           -8.5170e-01, -1.1507e+00],\n",
       "          ...,\n",
       "          [ 1.9263e-01, -3.5934e-01,  7.4876e-01,  ..., -1.1672e+00,\n",
       "            1.0671e+00,  3.4629e-02],\n",
       "          [ 8.3099e-01, -1.1266e-01,  3.9939e-02,  ...,  8.5032e-01,\n",
       "            5.8603e-01, -4.7690e-01],\n",
       "          [ 1.0315e-01, -2.3448e-01,  1.2476e-01,  ..., -7.1000e-01,\n",
       "           -1.0140e+00, -1.1002e+00]],\n",
       "\n",
       "         [[-2.0660e-01, -3.3198e-01,  4.8357e-01,  ...,  6.2217e-01,\n",
       "           -6.7286e-01,  8.9889e-01],\n",
       "          [-7.4785e-01, -5.0863e-01, -9.1073e-01,  ..., -2.0021e-01,\n",
       "           -9.9029e-01, -1.0409e-01],\n",
       "          [-1.0746e-01, -4.3583e-01, -1.9543e-01,  ..., -2.4009e-01,\n",
       "            3.5597e-01, -6.6960e-02],\n",
       "          ...,\n",
       "          [ 8.0775e-01, -1.9106e-01,  4.5056e-01,  ..., -8.9793e-01,\n",
       "           -8.6926e-01,  1.5408e+00],\n",
       "          [-3.2471e-01, -1.0086e-01, -3.5376e-01,  ..., -7.5719e-01,\n",
       "            6.0969e-01,  6.2655e-01],\n",
       "          [-1.3807e+00, -7.7299e-01,  6.2620e-01,  ...,  1.7094e-01,\n",
       "            9.8565e-01,  8.1963e-01]],\n",
       "\n",
       "         [[-1.5131e+00,  2.8998e-03, -3.1737e-01,  ..., -1.0275e+00,\n",
       "            1.2217e+00,  1.7673e-01],\n",
       "          [-1.0801e+00, -1.0576e+00, -1.7083e-01,  ...,  1.4981e-01,\n",
       "            8.3615e-01,  3.1553e-02],\n",
       "          [-9.2834e-01, -9.5066e-01,  4.1417e-01,  ...,  1.0089e+00,\n",
       "           -2.8337e-01, -1.7138e-01],\n",
       "          ...,\n",
       "          [ 2.7631e-02,  1.2372e-01, -5.1570e-02,  ..., -9.4435e-01,\n",
       "            9.2340e-01,  5.7768e-01],\n",
       "          [-1.0243e+00,  1.0257e+00,  5.3598e-01,  ..., -1.3504e+00,\n",
       "            5.6241e-01,  4.7797e-01],\n",
       "          [ 7.6595e-01,  1.3058e+00, -4.1521e-01,  ...,  4.9862e-02,\n",
       "            5.4586e-01,  3.6781e-01]]],\n",
       "\n",
       "\n",
       "        [[[-5.6133e-01,  3.6684e-01, -3.0632e-01,  ..., -8.4869e-01,\n",
       "           -6.3241e-01,  3.8651e-01],\n",
       "          [ 5.9457e-01,  1.6786e-01,  2.4071e-01,  ...,  5.6415e-01,\n",
       "           -8.6382e-01, -7.1758e-01],\n",
       "          [ 1.5853e-01, -2.5225e-01,  2.5692e-02,  ...,  5.0327e-01,\n",
       "           -7.6037e-01,  5.1078e-02],\n",
       "          ...,\n",
       "          [-1.1196e+00,  9.7622e-02,  1.9657e-01,  ..., -2.9299e-02,\n",
       "            7.8783e-01,  9.1455e-01],\n",
       "          [ 5.3435e-01, -2.2854e-01, -3.8645e-01,  ..., -6.1616e-01,\n",
       "            5.9519e-01,  2.2181e-01],\n",
       "          [-4.3810e-01,  2.3160e-02, -4.5104e-01,  ..., -6.5941e-03,\n",
       "            1.4526e-01,  1.1363e-01]],\n",
       "\n",
       "         [[ 6.0684e-02, -7.0304e-01, -8.7090e-02,  ..., -8.7826e-01,\n",
       "           -3.8981e-01, -3.7001e-02],\n",
       "          [-3.4107e-01,  6.8728e-01, -3.3470e-02,  ..., -2.3414e-01,\n",
       "           -8.9862e-01,  9.7919e-02],\n",
       "          [-2.2424e-01, -8.1854e-02, -3.0470e-01,  ...,  1.6212e-01,\n",
       "           -2.1531e-01,  5.9217e-01],\n",
       "          ...,\n",
       "          [-7.3209e-01, -7.5446e-01, -2.8114e-01,  ...,  2.7198e-01,\n",
       "            1.1507e+00,  1.8105e-01],\n",
       "          [-5.7731e-01,  3.3687e-01,  4.0086e-01,  ...,  1.0221e+00,\n",
       "            1.1835e-01,  4.4348e-01],\n",
       "          [-5.0984e-01, -1.1487e-01,  4.9261e-01,  ...,  3.4334e-01,\n",
       "           -7.9846e-02, -1.9823e-02]],\n",
       "\n",
       "         [[-7.6315e-01, -6.3610e-01,  1.0119e+00,  ..., -4.6471e-01,\n",
       "            6.0952e-01, -1.8783e-01],\n",
       "          [ 5.8362e-01,  9.4730e-01,  3.4645e-01,  ..., -8.3485e-01,\n",
       "           -9.4475e-01, -2.5198e-01],\n",
       "          [-7.3431e-01, -1.4007e-01, -9.2306e-01,  ..., -1.1074e+00,\n",
       "           -5.2636e-01,  3.5992e-02],\n",
       "          ...,\n",
       "          [ 1.3162e-03,  1.3324e+00,  1.0127e+00,  ..., -9.1786e-01,\n",
       "           -8.0457e-01, -1.0382e-01],\n",
       "          [ 4.2960e-01,  6.1044e-02,  1.3039e-01,  ..., -5.6522e-01,\n",
       "           -2.9068e-01,  6.6572e-02],\n",
       "          [ 6.7962e-01,  7.3881e-01,  5.5958e-01,  ..., -5.1548e-01,\n",
       "           -6.3402e-02, -7.8921e-01]],\n",
       "\n",
       "         ...,\n",
       "\n",
       "         [[-4.3150e-01,  1.5611e-01,  5.4544e-01,  ...,  3.9780e-01,\n",
       "            9.7638e-01, -1.1479e+00],\n",
       "          [ 5.0319e-01,  1.1596e+00,  5.9931e-01,  ...,  2.5149e-01,\n",
       "            4.1753e-01,  1.5287e-01],\n",
       "          [ 4.9627e-01, -1.0774e+00, -1.2106e+00,  ...,  5.4634e-01,\n",
       "            7.5618e-01, -2.8988e-01],\n",
       "          ...,\n",
       "          [-1.1231e+00, -4.7584e-01,  6.0163e-01,  ...,  1.5590e-01,\n",
       "           -1.2502e-01,  2.4558e-01],\n",
       "          [-3.1841e-01,  3.0872e-01,  9.4090e-02,  ...,  1.1749e-02,\n",
       "            8.1184e-01,  7.9883e-01],\n",
       "          [-1.6769e-01,  8.6548e-01,  3.9096e-01,  ..., -1.2215e-01,\n",
       "           -1.6642e-01, -3.6594e-01]],\n",
       "\n",
       "         [[-4.5505e-01, -4.2984e-01,  1.4851e-01,  ...,  2.2635e-01,\n",
       "           -3.0565e-01, -3.7525e-02],\n",
       "          [ 3.3755e-01, -1.1672e-01,  1.1187e-01,  ..., -1.3049e-01,\n",
       "           -3.2834e-01, -4.5925e-01],\n",
       "          [ 3.6028e-01,  9.0329e-01, -7.1828e-01,  ...,  4.2313e-01,\n",
       "            5.9977e-01,  8.2585e-02],\n",
       "          ...,\n",
       "          [-6.8066e-01, -2.5359e-02, -2.1001e-01,  ..., -2.0111e-02,\n",
       "            5.0196e-01,  1.0128e-01],\n",
       "          [ 6.6652e-01, -8.1010e-01,  4.8349e-01,  ...,  1.4127e-01,\n",
       "           -2.2793e-04,  1.3462e-01],\n",
       "          [-2.0275e-01, -6.5127e-01, -4.1491e-01,  ...,  2.2647e-01,\n",
       "           -1.5977e-01, -1.3737e-01]],\n",
       "\n",
       "         [[-2.5573e-01,  2.7366e-01,  9.4881e-01,  ..., -6.1755e-01,\n",
       "            4.8079e-02,  9.7858e-02],\n",
       "          [-8.7131e-02, -2.6870e-01,  8.2096e-01,  ..., -8.7399e-02,\n",
       "            4.2709e-01, -9.4839e-02],\n",
       "          [ 2.9647e-01,  2.0098e-01,  4.7799e-01,  ..., -7.0570e-02,\n",
       "            1.1931e+00,  7.8831e-01],\n",
       "          ...,\n",
       "          [ 2.3142e-01,  3.1631e-01, -9.0165e-01,  ..., -2.8194e-02,\n",
       "           -4.2517e-01,  4.9591e-01],\n",
       "          [ 9.2083e-02,  4.3988e-01,  6.8024e-01,  ..., -6.5503e-02,\n",
       "            7.0177e-02,  4.3961e-01],\n",
       "          [-3.3190e-01,  9.7544e-02, -1.7838e-01,  ...,  1.9135e-01,\n",
       "           -2.4698e-01,  4.4155e-01]]]], grad_fn=<ViewBackward0>)"
      ]
     },
     "execution_count": 65,
     "metadata": {},
     "output_type": "execute_result"
    }
   ],
   "source": [
    "dec1.view(shape)"
   ]
  },
  {
   "cell_type": "code",
   "execution_count": null,
   "metadata": {
    "id": "Cy_Ot4PSw83d"
   },
   "outputs": [],
   "source": []
  }
 ],
 "metadata": {
  "accelerator": "GPU",
  "colab": {
   "provenance": []
  },
  "gpuClass": "standard",
  "kernelspec": {
   "display_name": "Python 3 (ipykernel)",
   "language": "python",
   "name": "python3"
  },
  "language_info": {
   "codemirror_mode": {
    "name": "ipython",
    "version": 3
   },
   "file_extension": ".py",
   "mimetype": "text/x-python",
   "name": "python",
   "nbconvert_exporter": "python",
   "pygments_lexer": "ipython3",
   "version": "3.9.12"
  },
  "widgets": {
   "application/vnd.jupyter.widget-state+json": {
    "014e594742cf4021bb383e76d2a37ac9": {
     "model_module": "@jupyter-widgets/base",
     "model_module_version": "1.2.0",
     "model_name": "LayoutModel",
     "state": {
      "_model_module": "@jupyter-widgets/base",
      "_model_module_version": "1.2.0",
      "_model_name": "LayoutModel",
      "_view_count": null,
      "_view_module": "@jupyter-widgets/base",
      "_view_module_version": "1.2.0",
      "_view_name": "LayoutView",
      "align_content": null,
      "align_items": null,
      "align_self": null,
      "border": null,
      "bottom": null,
      "display": null,
      "flex": null,
      "flex_flow": null,
      "grid_area": null,
      "grid_auto_columns": null,
      "grid_auto_flow": null,
      "grid_auto_rows": null,
      "grid_column": null,
      "grid_gap": null,
      "grid_row": null,
      "grid_template_areas": null,
      "grid_template_columns": null,
      "grid_template_rows": null,
      "height": null,
      "justify_content": null,
      "justify_items": null,
      "left": null,
      "margin": null,
      "max_height": null,
      "max_width": null,
      "min_height": null,
      "min_width": null,
      "object_fit": null,
      "object_position": null,
      "order": null,
      "overflow": null,
      "overflow_x": null,
      "overflow_y": null,
      "padding": null,
      "right": null,
      "top": null,
      "visibility": null,
      "width": null
     }
    },
    "05a9efd4816a45c5b1b637ecb07611cc": {
     "model_module": "@jupyter-widgets/base",
     "model_module_version": "1.2.0",
     "model_name": "LayoutModel",
     "state": {
      "_model_module": "@jupyter-widgets/base",
      "_model_module_version": "1.2.0",
      "_model_name": "LayoutModel",
      "_view_count": null,
      "_view_module": "@jupyter-widgets/base",
      "_view_module_version": "1.2.0",
      "_view_name": "LayoutView",
      "align_content": null,
      "align_items": null,
      "align_self": null,
      "border": null,
      "bottom": null,
      "display": null,
      "flex": null,
      "flex_flow": null,
      "grid_area": null,
      "grid_auto_columns": null,
      "grid_auto_flow": null,
      "grid_auto_rows": null,
      "grid_column": null,
      "grid_gap": null,
      "grid_row": null,
      "grid_template_areas": null,
      "grid_template_columns": null,
      "grid_template_rows": null,
      "height": null,
      "justify_content": null,
      "justify_items": null,
      "left": null,
      "margin": null,
      "max_height": null,
      "max_width": null,
      "min_height": null,
      "min_width": null,
      "object_fit": null,
      "object_position": null,
      "order": null,
      "overflow": null,
      "overflow_x": null,
      "overflow_y": null,
      "padding": null,
      "right": null,
      "top": null,
      "visibility": null,
      "width": null
     }
    },
    "0e98dbd5f5424540bbc8b3e763b14963": {
     "model_module": "@jupyter-widgets/controls",
     "model_module_version": "1.5.0",
     "model_name": "ProgressStyleModel",
     "state": {
      "_model_module": "@jupyter-widgets/controls",
      "_model_module_version": "1.5.0",
      "_model_name": "ProgressStyleModel",
      "_view_count": null,
      "_view_module": "@jupyter-widgets/base",
      "_view_module_version": "1.2.0",
      "_view_name": "StyleView",
      "bar_color": null,
      "description_width": ""
     }
    },
    "138621cf97df4baaae644efae8d38e8f": {
     "model_module": "@jupyter-widgets/controls",
     "model_module_version": "1.5.0",
     "model_name": "FloatProgressModel",
     "state": {
      "_dom_classes": [],
      "_model_module": "@jupyter-widgets/controls",
      "_model_module_version": "1.5.0",
      "_model_name": "FloatProgressModel",
      "_view_count": null,
      "_view_module": "@jupyter-widgets/controls",
      "_view_module_version": "1.5.0",
      "_view_name": "ProgressView",
      "bar_style": "success",
      "description": "",
      "description_tooltip": null,
      "layout": "IPY_MODEL_bf0270662cab4b9d8a4b79579a27a133",
      "max": 1648877,
      "min": 0,
      "orientation": "horizontal",
      "style": "IPY_MODEL_4cffcc5b808c45c4989e0d3c5a46a0b5",
      "value": 1648877
     }
    },
    "158606d5323e463d81f2edaad2ff476c": {
     "model_module": "@jupyter-widgets/controls",
     "model_module_version": "1.5.0",
     "model_name": "FloatProgressModel",
     "state": {
      "_dom_classes": [],
      "_model_module": "@jupyter-widgets/controls",
      "_model_module_version": "1.5.0",
      "_model_name": "FloatProgressModel",
      "_view_count": null,
      "_view_module": "@jupyter-widgets/controls",
      "_view_module_version": "1.5.0",
      "_view_name": "ProgressView",
      "bar_style": "success",
      "description": "",
      "description_tooltip": null,
      "layout": "IPY_MODEL_6750a93dabc947e080027319c4d39800",
      "max": 28881,
      "min": 0,
      "orientation": "horizontal",
      "style": "IPY_MODEL_d128d195e2094597ba5e1f7d1899d234",
      "value": 28881
     }
    },
    "18bcb2c4234a4887b99f3f7dc7f2b823": {
     "model_module": "@jupyter-widgets/controls",
     "model_module_version": "1.5.0",
     "model_name": "DescriptionStyleModel",
     "state": {
      "_model_module": "@jupyter-widgets/controls",
      "_model_module_version": "1.5.0",
      "_model_name": "DescriptionStyleModel",
      "_view_count": null,
      "_view_module": "@jupyter-widgets/base",
      "_view_module_version": "1.2.0",
      "_view_name": "StyleView",
      "description_width": ""
     }
    },
    "21bcd759ddaf43d9a6ae6097e1d24ca9": {
     "model_module": "@jupyter-widgets/controls",
     "model_module_version": "1.5.0",
     "model_name": "HBoxModel",
     "state": {
      "_dom_classes": [],
      "_model_module": "@jupyter-widgets/controls",
      "_model_module_version": "1.5.0",
      "_model_name": "HBoxModel",
      "_view_count": null,
      "_view_module": "@jupyter-widgets/controls",
      "_view_module_version": "1.5.0",
      "_view_name": "HBoxView",
      "box_style": "",
      "children": [
       "IPY_MODEL_72aa4261b5654468a31cba2d92504fed",
       "IPY_MODEL_59ce90b63d364a9fbca603fbca325a87",
       "IPY_MODEL_d051ab546e284672860960292835f9c7"
      ],
      "layout": "IPY_MODEL_05a9efd4816a45c5b1b637ecb07611cc"
     }
    },
    "27e40b04241c4a2fa3f9a77406f4c89f": {
     "model_module": "@jupyter-widgets/base",
     "model_module_version": "1.2.0",
     "model_name": "LayoutModel",
     "state": {
      "_model_module": "@jupyter-widgets/base",
      "_model_module_version": "1.2.0",
      "_model_name": "LayoutModel",
      "_view_count": null,
      "_view_module": "@jupyter-widgets/base",
      "_view_module_version": "1.2.0",
      "_view_name": "LayoutView",
      "align_content": null,
      "align_items": null,
      "align_self": null,
      "border": null,
      "bottom": null,
      "display": null,
      "flex": null,
      "flex_flow": null,
      "grid_area": null,
      "grid_auto_columns": null,
      "grid_auto_flow": null,
      "grid_auto_rows": null,
      "grid_column": null,
      "grid_gap": null,
      "grid_row": null,
      "grid_template_areas": null,
      "grid_template_columns": null,
      "grid_template_rows": null,
      "height": null,
      "justify_content": null,
      "justify_items": null,
      "left": null,
      "margin": null,
      "max_height": null,
      "max_width": null,
      "min_height": null,
      "min_width": null,
      "object_fit": null,
      "object_position": null,
      "order": null,
      "overflow": null,
      "overflow_x": null,
      "overflow_y": null,
      "padding": null,
      "right": null,
      "top": null,
      "visibility": null,
      "width": null
     }
    },
    "3457bb399bbb490b817d8c29cd03a817": {
     "model_module": "@jupyter-widgets/controls",
     "model_module_version": "1.5.0",
     "model_name": "HBoxModel",
     "state": {
      "_dom_classes": [],
      "_model_module": "@jupyter-widgets/controls",
      "_model_module_version": "1.5.0",
      "_model_name": "HBoxModel",
      "_view_count": null,
      "_view_module": "@jupyter-widgets/controls",
      "_view_module_version": "1.5.0",
      "_view_name": "HBoxView",
      "box_style": "",
      "children": [
       "IPY_MODEL_90f1f8f49b634016a03a8e77b17784aa",
       "IPY_MODEL_158606d5323e463d81f2edaad2ff476c",
       "IPY_MODEL_b18e2c394c6341deaf96e29df9554980"
      ],
      "layout": "IPY_MODEL_7c50a76868c14024845b645f3140ae8a"
     }
    },
    "34da56323a3f47a1938b8673fd00eaf9": {
     "model_module": "@jupyter-widgets/controls",
     "model_module_version": "1.5.0",
     "model_name": "HBoxModel",
     "state": {
      "_dom_classes": [],
      "_model_module": "@jupyter-widgets/controls",
      "_model_module_version": "1.5.0",
      "_model_name": "HBoxModel",
      "_view_count": null,
      "_view_module": "@jupyter-widgets/controls",
      "_view_module_version": "1.5.0",
      "_view_name": "HBoxView",
      "box_style": "",
      "children": [
       "IPY_MODEL_a7d16e9b6aa148dea8a54f64d360cd66",
       "IPY_MODEL_138621cf97df4baaae644efae8d38e8f",
       "IPY_MODEL_777b513b7d3b4f828e7b35f79a6bda54"
      ],
      "layout": "IPY_MODEL_014e594742cf4021bb383e76d2a37ac9"
     }
    },
    "3a8671f8ad124be38cb9d027c5e2c877": {
     "model_module": "@jupyter-widgets/controls",
     "model_module_version": "1.5.0",
     "model_name": "ProgressStyleModel",
     "state": {
      "_model_module": "@jupyter-widgets/controls",
      "_model_module_version": "1.5.0",
      "_model_name": "ProgressStyleModel",
      "_view_count": null,
      "_view_module": "@jupyter-widgets/base",
      "_view_module_version": "1.2.0",
      "_view_name": "StyleView",
      "bar_color": null,
      "description_width": ""
     }
    },
    "4cffcc5b808c45c4989e0d3c5a46a0b5": {
     "model_module": "@jupyter-widgets/controls",
     "model_module_version": "1.5.0",
     "model_name": "ProgressStyleModel",
     "state": {
      "_model_module": "@jupyter-widgets/controls",
      "_model_module_version": "1.5.0",
      "_model_name": "ProgressStyleModel",
      "_view_count": null,
      "_view_module": "@jupyter-widgets/base",
      "_view_module_version": "1.2.0",
      "_view_name": "StyleView",
      "bar_color": null,
      "description_width": ""
     }
    },
    "4ebb8690032c406790d1a14f2e1b8af9": {
     "model_module": "@jupyter-widgets/controls",
     "model_module_version": "1.5.0",
     "model_name": "HBoxModel",
     "state": {
      "_dom_classes": [],
      "_model_module": "@jupyter-widgets/controls",
      "_model_module_version": "1.5.0",
      "_model_name": "HBoxModel",
      "_view_count": null,
      "_view_module": "@jupyter-widgets/controls",
      "_view_module_version": "1.5.0",
      "_view_name": "HBoxView",
      "box_style": "",
      "children": [
       "IPY_MODEL_babe65360e44423b9c94e4c59a568e96",
       "IPY_MODEL_989b2eee4adf42faa1c03ab509b77f45",
       "IPY_MODEL_ec3df6b9f96f4ec3a569db1c441d241d"
      ],
      "layout": "IPY_MODEL_d0f4f46c426f48bba0dee6fb49b1c9ad"
     }
    },
    "59afb1c8d9e74d12a906942483a1400d": {
     "model_module": "@jupyter-widgets/base",
     "model_module_version": "1.2.0",
     "model_name": "LayoutModel",
     "state": {
      "_model_module": "@jupyter-widgets/base",
      "_model_module_version": "1.2.0",
      "_model_name": "LayoutModel",
      "_view_count": null,
      "_view_module": "@jupyter-widgets/base",
      "_view_module_version": "1.2.0",
      "_view_name": "LayoutView",
      "align_content": null,
      "align_items": null,
      "align_self": null,
      "border": null,
      "bottom": null,
      "display": null,
      "flex": null,
      "flex_flow": null,
      "grid_area": null,
      "grid_auto_columns": null,
      "grid_auto_flow": null,
      "grid_auto_rows": null,
      "grid_column": null,
      "grid_gap": null,
      "grid_row": null,
      "grid_template_areas": null,
      "grid_template_columns": null,
      "grid_template_rows": null,
      "height": null,
      "justify_content": null,
      "justify_items": null,
      "left": null,
      "margin": null,
      "max_height": null,
      "max_width": null,
      "min_height": null,
      "min_width": null,
      "object_fit": null,
      "object_position": null,
      "order": null,
      "overflow": null,
      "overflow_x": null,
      "overflow_y": null,
      "padding": null,
      "right": null,
      "top": null,
      "visibility": null,
      "width": null
     }
    },
    "59ce90b63d364a9fbca603fbca325a87": {
     "model_module": "@jupyter-widgets/controls",
     "model_module_version": "1.5.0",
     "model_name": "FloatProgressModel",
     "state": {
      "_dom_classes": [],
      "_model_module": "@jupyter-widgets/controls",
      "_model_module_version": "1.5.0",
      "_model_name": "FloatProgressModel",
      "_view_count": null,
      "_view_module": "@jupyter-widgets/controls",
      "_view_module_version": "1.5.0",
      "_view_name": "ProgressView",
      "bar_style": "success",
      "description": "",
      "description_tooltip": null,
      "layout": "IPY_MODEL_59afb1c8d9e74d12a906942483a1400d",
      "max": 4542,
      "min": 0,
      "orientation": "horizontal",
      "style": "IPY_MODEL_0e98dbd5f5424540bbc8b3e763b14963",
      "value": 4542
     }
    },
    "60cc1ef91ed8478389af68ae6a634427": {
     "model_module": "@jupyter-widgets/base",
     "model_module_version": "1.2.0",
     "model_name": "LayoutModel",
     "state": {
      "_model_module": "@jupyter-widgets/base",
      "_model_module_version": "1.2.0",
      "_model_name": "LayoutModel",
      "_view_count": null,
      "_view_module": "@jupyter-widgets/base",
      "_view_module_version": "1.2.0",
      "_view_name": "LayoutView",
      "align_content": null,
      "align_items": null,
      "align_self": null,
      "border": null,
      "bottom": null,
      "display": null,
      "flex": null,
      "flex_flow": null,
      "grid_area": null,
      "grid_auto_columns": null,
      "grid_auto_flow": null,
      "grid_auto_rows": null,
      "grid_column": null,
      "grid_gap": null,
      "grid_row": null,
      "grid_template_areas": null,
      "grid_template_columns": null,
      "grid_template_rows": null,
      "height": null,
      "justify_content": null,
      "justify_items": null,
      "left": null,
      "margin": null,
      "max_height": null,
      "max_width": null,
      "min_height": null,
      "min_width": null,
      "object_fit": null,
      "object_position": null,
      "order": null,
      "overflow": null,
      "overflow_x": null,
      "overflow_y": null,
      "padding": null,
      "right": null,
      "top": null,
      "visibility": null,
      "width": null
     }
    },
    "65959cd133c741f7a039711c22402cbc": {
     "model_module": "@jupyter-widgets/base",
     "model_module_version": "1.2.0",
     "model_name": "LayoutModel",
     "state": {
      "_model_module": "@jupyter-widgets/base",
      "_model_module_version": "1.2.0",
      "_model_name": "LayoutModel",
      "_view_count": null,
      "_view_module": "@jupyter-widgets/base",
      "_view_module_version": "1.2.0",
      "_view_name": "LayoutView",
      "align_content": null,
      "align_items": null,
      "align_self": null,
      "border": null,
      "bottom": null,
      "display": null,
      "flex": null,
      "flex_flow": null,
      "grid_area": null,
      "grid_auto_columns": null,
      "grid_auto_flow": null,
      "grid_auto_rows": null,
      "grid_column": null,
      "grid_gap": null,
      "grid_row": null,
      "grid_template_areas": null,
      "grid_template_columns": null,
      "grid_template_rows": null,
      "height": null,
      "justify_content": null,
      "justify_items": null,
      "left": null,
      "margin": null,
      "max_height": null,
      "max_width": null,
      "min_height": null,
      "min_width": null,
      "object_fit": null,
      "object_position": null,
      "order": null,
      "overflow": null,
      "overflow_x": null,
      "overflow_y": null,
      "padding": null,
      "right": null,
      "top": null,
      "visibility": null,
      "width": null
     }
    },
    "6750a93dabc947e080027319c4d39800": {
     "model_module": "@jupyter-widgets/base",
     "model_module_version": "1.2.0",
     "model_name": "LayoutModel",
     "state": {
      "_model_module": "@jupyter-widgets/base",
      "_model_module_version": "1.2.0",
      "_model_name": "LayoutModel",
      "_view_count": null,
      "_view_module": "@jupyter-widgets/base",
      "_view_module_version": "1.2.0",
      "_view_name": "LayoutView",
      "align_content": null,
      "align_items": null,
      "align_self": null,
      "border": null,
      "bottom": null,
      "display": null,
      "flex": null,
      "flex_flow": null,
      "grid_area": null,
      "grid_auto_columns": null,
      "grid_auto_flow": null,
      "grid_auto_rows": null,
      "grid_column": null,
      "grid_gap": null,
      "grid_row": null,
      "grid_template_areas": null,
      "grid_template_columns": null,
      "grid_template_rows": null,
      "height": null,
      "justify_content": null,
      "justify_items": null,
      "left": null,
      "margin": null,
      "max_height": null,
      "max_width": null,
      "min_height": null,
      "min_width": null,
      "object_fit": null,
      "object_position": null,
      "order": null,
      "overflow": null,
      "overflow_x": null,
      "overflow_y": null,
      "padding": null,
      "right": null,
      "top": null,
      "visibility": null,
      "width": null
     }
    },
    "6ab8890bdda34c9db8a037c909e83e23": {
     "model_module": "@jupyter-widgets/base",
     "model_module_version": "1.2.0",
     "model_name": "LayoutModel",
     "state": {
      "_model_module": "@jupyter-widgets/base",
      "_model_module_version": "1.2.0",
      "_model_name": "LayoutModel",
      "_view_count": null,
      "_view_module": "@jupyter-widgets/base",
      "_view_module_version": "1.2.0",
      "_view_name": "LayoutView",
      "align_content": null,
      "align_items": null,
      "align_self": null,
      "border": null,
      "bottom": null,
      "display": null,
      "flex": null,
      "flex_flow": null,
      "grid_area": null,
      "grid_auto_columns": null,
      "grid_auto_flow": null,
      "grid_auto_rows": null,
      "grid_column": null,
      "grid_gap": null,
      "grid_row": null,
      "grid_template_areas": null,
      "grid_template_columns": null,
      "grid_template_rows": null,
      "height": null,
      "justify_content": null,
      "justify_items": null,
      "left": null,
      "margin": null,
      "max_height": null,
      "max_width": null,
      "min_height": null,
      "min_width": null,
      "object_fit": null,
      "object_position": null,
      "order": null,
      "overflow": null,
      "overflow_x": null,
      "overflow_y": null,
      "padding": null,
      "right": null,
      "top": null,
      "visibility": null,
      "width": null
     }
    },
    "6e3b2b550dcf4d298f64c8cca5b6adb7": {
     "model_module": "@jupyter-widgets/controls",
     "model_module_version": "1.5.0",
     "model_name": "DescriptionStyleModel",
     "state": {
      "_model_module": "@jupyter-widgets/controls",
      "_model_module_version": "1.5.0",
      "_model_name": "DescriptionStyleModel",
      "_view_count": null,
      "_view_module": "@jupyter-widgets/base",
      "_view_module_version": "1.2.0",
      "_view_name": "StyleView",
      "description_width": ""
     }
    },
    "72aa4261b5654468a31cba2d92504fed": {
     "model_module": "@jupyter-widgets/controls",
     "model_module_version": "1.5.0",
     "model_name": "HTMLModel",
     "state": {
      "_dom_classes": [],
      "_model_module": "@jupyter-widgets/controls",
      "_model_module_version": "1.5.0",
      "_model_name": "HTMLModel",
      "_view_count": null,
      "_view_module": "@jupyter-widgets/controls",
      "_view_module_version": "1.5.0",
      "_view_name": "HTMLView",
      "description": "",
      "description_tooltip": null,
      "layout": "IPY_MODEL_a8fd2546c80b4982947413149bd72bd9",
      "placeholder": "​",
      "style": "IPY_MODEL_be8f11e587ec4cb19dcd5136c4f33db7",
      "value": "100%"
     }
    },
    "777b513b7d3b4f828e7b35f79a6bda54": {
     "model_module": "@jupyter-widgets/controls",
     "model_module_version": "1.5.0",
     "model_name": "HTMLModel",
     "state": {
      "_dom_classes": [],
      "_model_module": "@jupyter-widgets/controls",
      "_model_module_version": "1.5.0",
      "_model_name": "HTMLModel",
      "_view_count": null,
      "_view_module": "@jupyter-widgets/controls",
      "_view_module_version": "1.5.0",
      "_view_name": "HTMLView",
      "description": "",
      "description_tooltip": null,
      "layout": "IPY_MODEL_7c288a06f7df49f7a7404c5c81f475de",
      "placeholder": "​",
      "style": "IPY_MODEL_f6779dc374e345d0b64ffaa31c4262e5",
      "value": " 1648877/1648877 [00:00&lt;00:00, 62094430.60it/s]"
     }
    },
    "7c288a06f7df49f7a7404c5c81f475de": {
     "model_module": "@jupyter-widgets/base",
     "model_module_version": "1.2.0",
     "model_name": "LayoutModel",
     "state": {
      "_model_module": "@jupyter-widgets/base",
      "_model_module_version": "1.2.0",
      "_model_name": "LayoutModel",
      "_view_count": null,
      "_view_module": "@jupyter-widgets/base",
      "_view_module_version": "1.2.0",
      "_view_name": "LayoutView",
      "align_content": null,
      "align_items": null,
      "align_self": null,
      "border": null,
      "bottom": null,
      "display": null,
      "flex": null,
      "flex_flow": null,
      "grid_area": null,
      "grid_auto_columns": null,
      "grid_auto_flow": null,
      "grid_auto_rows": null,
      "grid_column": null,
      "grid_gap": null,
      "grid_row": null,
      "grid_template_areas": null,
      "grid_template_columns": null,
      "grid_template_rows": null,
      "height": null,
      "justify_content": null,
      "justify_items": null,
      "left": null,
      "margin": null,
      "max_height": null,
      "max_width": null,
      "min_height": null,
      "min_width": null,
      "object_fit": null,
      "object_position": null,
      "order": null,
      "overflow": null,
      "overflow_x": null,
      "overflow_y": null,
      "padding": null,
      "right": null,
      "top": null,
      "visibility": null,
      "width": null
     }
    },
    "7c50a76868c14024845b645f3140ae8a": {
     "model_module": "@jupyter-widgets/base",
     "model_module_version": "1.2.0",
     "model_name": "LayoutModel",
     "state": {
      "_model_module": "@jupyter-widgets/base",
      "_model_module_version": "1.2.0",
      "_model_name": "LayoutModel",
      "_view_count": null,
      "_view_module": "@jupyter-widgets/base",
      "_view_module_version": "1.2.0",
      "_view_name": "LayoutView",
      "align_content": null,
      "align_items": null,
      "align_self": null,
      "border": null,
      "bottom": null,
      "display": null,
      "flex": null,
      "flex_flow": null,
      "grid_area": null,
      "grid_auto_columns": null,
      "grid_auto_flow": null,
      "grid_auto_rows": null,
      "grid_column": null,
      "grid_gap": null,
      "grid_row": null,
      "grid_template_areas": null,
      "grid_template_columns": null,
      "grid_template_rows": null,
      "height": null,
      "justify_content": null,
      "justify_items": null,
      "left": null,
      "margin": null,
      "max_height": null,
      "max_width": null,
      "min_height": null,
      "min_width": null,
      "object_fit": null,
      "object_position": null,
      "order": null,
      "overflow": null,
      "overflow_x": null,
      "overflow_y": null,
      "padding": null,
      "right": null,
      "top": null,
      "visibility": null,
      "width": null
     }
    },
    "8866734c6dfe4471b2542cd680370801": {
     "model_module": "@jupyter-widgets/controls",
     "model_module_version": "1.5.0",
     "model_name": "DescriptionStyleModel",
     "state": {
      "_model_module": "@jupyter-widgets/controls",
      "_model_module_version": "1.5.0",
      "_model_name": "DescriptionStyleModel",
      "_view_count": null,
      "_view_module": "@jupyter-widgets/base",
      "_view_module_version": "1.2.0",
      "_view_name": "StyleView",
      "description_width": ""
     }
    },
    "90f1f8f49b634016a03a8e77b17784aa": {
     "model_module": "@jupyter-widgets/controls",
     "model_module_version": "1.5.0",
     "model_name": "HTMLModel",
     "state": {
      "_dom_classes": [],
      "_model_module": "@jupyter-widgets/controls",
      "_model_module_version": "1.5.0",
      "_model_name": "HTMLModel",
      "_view_count": null,
      "_view_module": "@jupyter-widgets/controls",
      "_view_module_version": "1.5.0",
      "_view_name": "HTMLView",
      "description": "",
      "description_tooltip": null,
      "layout": "IPY_MODEL_27e40b04241c4a2fa3f9a77406f4c89f",
      "placeholder": "​",
      "style": "IPY_MODEL_935402c87cf04d74a34a98576a51ac63",
      "value": "100%"
     }
    },
    "935402c87cf04d74a34a98576a51ac63": {
     "model_module": "@jupyter-widgets/controls",
     "model_module_version": "1.5.0",
     "model_name": "DescriptionStyleModel",
     "state": {
      "_model_module": "@jupyter-widgets/controls",
      "_model_module_version": "1.5.0",
      "_model_name": "DescriptionStyleModel",
      "_view_count": null,
      "_view_module": "@jupyter-widgets/base",
      "_view_module_version": "1.2.0",
      "_view_name": "StyleView",
      "description_width": ""
     }
    },
    "989b2eee4adf42faa1c03ab509b77f45": {
     "model_module": "@jupyter-widgets/controls",
     "model_module_version": "1.5.0",
     "model_name": "FloatProgressModel",
     "state": {
      "_dom_classes": [],
      "_model_module": "@jupyter-widgets/controls",
      "_model_module_version": "1.5.0",
      "_model_name": "FloatProgressModel",
      "_view_count": null,
      "_view_module": "@jupyter-widgets/controls",
      "_view_module_version": "1.5.0",
      "_view_name": "ProgressView",
      "bar_style": "success",
      "description": "",
      "description_tooltip": null,
      "layout": "IPY_MODEL_60cc1ef91ed8478389af68ae6a634427",
      "max": 9912422,
      "min": 0,
      "orientation": "horizontal",
      "style": "IPY_MODEL_3a8671f8ad124be38cb9d027c5e2c877",
      "value": 9912422
     }
    },
    "9fd6b9ecb1b7438b9843bfe107b7a3e4": {
     "model_module": "@jupyter-widgets/controls",
     "model_module_version": "1.5.0",
     "model_name": "DescriptionStyleModel",
     "state": {
      "_model_module": "@jupyter-widgets/controls",
      "_model_module_version": "1.5.0",
      "_model_name": "DescriptionStyleModel",
      "_view_count": null,
      "_view_module": "@jupyter-widgets/base",
      "_view_module_version": "1.2.0",
      "_view_name": "StyleView",
      "description_width": ""
     }
    },
    "a7d16e9b6aa148dea8a54f64d360cd66": {
     "model_module": "@jupyter-widgets/controls",
     "model_module_version": "1.5.0",
     "model_name": "HTMLModel",
     "state": {
      "_dom_classes": [],
      "_model_module": "@jupyter-widgets/controls",
      "_model_module_version": "1.5.0",
      "_model_name": "HTMLModel",
      "_view_count": null,
      "_view_module": "@jupyter-widgets/controls",
      "_view_module_version": "1.5.0",
      "_view_name": "HTMLView",
      "description": "",
      "description_tooltip": null,
      "layout": "IPY_MODEL_65959cd133c741f7a039711c22402cbc",
      "placeholder": "​",
      "style": "IPY_MODEL_9fd6b9ecb1b7438b9843bfe107b7a3e4",
      "value": "100%"
     }
    },
    "a8fd2546c80b4982947413149bd72bd9": {
     "model_module": "@jupyter-widgets/base",
     "model_module_version": "1.2.0",
     "model_name": "LayoutModel",
     "state": {
      "_model_module": "@jupyter-widgets/base",
      "_model_module_version": "1.2.0",
      "_model_name": "LayoutModel",
      "_view_count": null,
      "_view_module": "@jupyter-widgets/base",
      "_view_module_version": "1.2.0",
      "_view_name": "LayoutView",
      "align_content": null,
      "align_items": null,
      "align_self": null,
      "border": null,
      "bottom": null,
      "display": null,
      "flex": null,
      "flex_flow": null,
      "grid_area": null,
      "grid_auto_columns": null,
      "grid_auto_flow": null,
      "grid_auto_rows": null,
      "grid_column": null,
      "grid_gap": null,
      "grid_row": null,
      "grid_template_areas": null,
      "grid_template_columns": null,
      "grid_template_rows": null,
      "height": null,
      "justify_content": null,
      "justify_items": null,
      "left": null,
      "margin": null,
      "max_height": null,
      "max_width": null,
      "min_height": null,
      "min_width": null,
      "object_fit": null,
      "object_position": null,
      "order": null,
      "overflow": null,
      "overflow_x": null,
      "overflow_y": null,
      "padding": null,
      "right": null,
      "top": null,
      "visibility": null,
      "width": null
     }
    },
    "b18e2c394c6341deaf96e29df9554980": {
     "model_module": "@jupyter-widgets/controls",
     "model_module_version": "1.5.0",
     "model_name": "HTMLModel",
     "state": {
      "_dom_classes": [],
      "_model_module": "@jupyter-widgets/controls",
      "_model_module_version": "1.5.0",
      "_model_name": "HTMLModel",
      "_view_count": null,
      "_view_module": "@jupyter-widgets/controls",
      "_view_module_version": "1.5.0",
      "_view_name": "HTMLView",
      "description": "",
      "description_tooltip": null,
      "layout": "IPY_MODEL_6ab8890bdda34c9db8a037c909e83e23",
      "placeholder": "​",
      "style": "IPY_MODEL_edea475c03c640e0b5d581c38d0f3011",
      "value": " 28881/28881 [00:00&lt;00:00, 1612455.16it/s]"
     }
    },
    "babe65360e44423b9c94e4c59a568e96": {
     "model_module": "@jupyter-widgets/controls",
     "model_module_version": "1.5.0",
     "model_name": "HTMLModel",
     "state": {
      "_dom_classes": [],
      "_model_module": "@jupyter-widgets/controls",
      "_model_module_version": "1.5.0",
      "_model_name": "HTMLModel",
      "_view_count": null,
      "_view_module": "@jupyter-widgets/controls",
      "_view_module_version": "1.5.0",
      "_view_name": "HTMLView",
      "description": "",
      "description_tooltip": null,
      "layout": "IPY_MODEL_bb5ad0c649924113b9d42999cd8256e5",
      "placeholder": "​",
      "style": "IPY_MODEL_18bcb2c4234a4887b99f3f7dc7f2b823",
      "value": "100%"
     }
    },
    "bb5ad0c649924113b9d42999cd8256e5": {
     "model_module": "@jupyter-widgets/base",
     "model_module_version": "1.2.0",
     "model_name": "LayoutModel",
     "state": {
      "_model_module": "@jupyter-widgets/base",
      "_model_module_version": "1.2.0",
      "_model_name": "LayoutModel",
      "_view_count": null,
      "_view_module": "@jupyter-widgets/base",
      "_view_module_version": "1.2.0",
      "_view_name": "LayoutView",
      "align_content": null,
      "align_items": null,
      "align_self": null,
      "border": null,
      "bottom": null,
      "display": null,
      "flex": null,
      "flex_flow": null,
      "grid_area": null,
      "grid_auto_columns": null,
      "grid_auto_flow": null,
      "grid_auto_rows": null,
      "grid_column": null,
      "grid_gap": null,
      "grid_row": null,
      "grid_template_areas": null,
      "grid_template_columns": null,
      "grid_template_rows": null,
      "height": null,
      "justify_content": null,
      "justify_items": null,
      "left": null,
      "margin": null,
      "max_height": null,
      "max_width": null,
      "min_height": null,
      "min_width": null,
      "object_fit": null,
      "object_position": null,
      "order": null,
      "overflow": null,
      "overflow_x": null,
      "overflow_y": null,
      "padding": null,
      "right": null,
      "top": null,
      "visibility": null,
      "width": null
     }
    },
    "be8f11e587ec4cb19dcd5136c4f33db7": {
     "model_module": "@jupyter-widgets/controls",
     "model_module_version": "1.5.0",
     "model_name": "DescriptionStyleModel",
     "state": {
      "_model_module": "@jupyter-widgets/controls",
      "_model_module_version": "1.5.0",
      "_model_name": "DescriptionStyleModel",
      "_view_count": null,
      "_view_module": "@jupyter-widgets/base",
      "_view_module_version": "1.2.0",
      "_view_name": "StyleView",
      "description_width": ""
     }
    },
    "bf0270662cab4b9d8a4b79579a27a133": {
     "model_module": "@jupyter-widgets/base",
     "model_module_version": "1.2.0",
     "model_name": "LayoutModel",
     "state": {
      "_model_module": "@jupyter-widgets/base",
      "_model_module_version": "1.2.0",
      "_model_name": "LayoutModel",
      "_view_count": null,
      "_view_module": "@jupyter-widgets/base",
      "_view_module_version": "1.2.0",
      "_view_name": "LayoutView",
      "align_content": null,
      "align_items": null,
      "align_self": null,
      "border": null,
      "bottom": null,
      "display": null,
      "flex": null,
      "flex_flow": null,
      "grid_area": null,
      "grid_auto_columns": null,
      "grid_auto_flow": null,
      "grid_auto_rows": null,
      "grid_column": null,
      "grid_gap": null,
      "grid_row": null,
      "grid_template_areas": null,
      "grid_template_columns": null,
      "grid_template_rows": null,
      "height": null,
      "justify_content": null,
      "justify_items": null,
      "left": null,
      "margin": null,
      "max_height": null,
      "max_width": null,
      "min_height": null,
      "min_width": null,
      "object_fit": null,
      "object_position": null,
      "order": null,
      "overflow": null,
      "overflow_x": null,
      "overflow_y": null,
      "padding": null,
      "right": null,
      "top": null,
      "visibility": null,
      "width": null
     }
    },
    "c10d2e7ae23e4daa94bb2c74eb3a8fc4": {
     "model_module": "@jupyter-widgets/base",
     "model_module_version": "1.2.0",
     "model_name": "LayoutModel",
     "state": {
      "_model_module": "@jupyter-widgets/base",
      "_model_module_version": "1.2.0",
      "_model_name": "LayoutModel",
      "_view_count": null,
      "_view_module": "@jupyter-widgets/base",
      "_view_module_version": "1.2.0",
      "_view_name": "LayoutView",
      "align_content": null,
      "align_items": null,
      "align_self": null,
      "border": null,
      "bottom": null,
      "display": null,
      "flex": null,
      "flex_flow": null,
      "grid_area": null,
      "grid_auto_columns": null,
      "grid_auto_flow": null,
      "grid_auto_rows": null,
      "grid_column": null,
      "grid_gap": null,
      "grid_row": null,
      "grid_template_areas": null,
      "grid_template_columns": null,
      "grid_template_rows": null,
      "height": null,
      "justify_content": null,
      "justify_items": null,
      "left": null,
      "margin": null,
      "max_height": null,
      "max_width": null,
      "min_height": null,
      "min_width": null,
      "object_fit": null,
      "object_position": null,
      "order": null,
      "overflow": null,
      "overflow_x": null,
      "overflow_y": null,
      "padding": null,
      "right": null,
      "top": null,
      "visibility": null,
      "width": null
     }
    },
    "d051ab546e284672860960292835f9c7": {
     "model_module": "@jupyter-widgets/controls",
     "model_module_version": "1.5.0",
     "model_name": "HTMLModel",
     "state": {
      "_dom_classes": [],
      "_model_module": "@jupyter-widgets/controls",
      "_model_module_version": "1.5.0",
      "_model_name": "HTMLModel",
      "_view_count": null,
      "_view_module": "@jupyter-widgets/controls",
      "_view_module_version": "1.5.0",
      "_view_name": "HTMLView",
      "description": "",
      "description_tooltip": null,
      "layout": "IPY_MODEL_f13708992cd74a838e5146eedbfb845e",
      "placeholder": "​",
      "style": "IPY_MODEL_8866734c6dfe4471b2542cd680370801",
      "value": " 4542/4542 [00:00&lt;00:00, 267353.33it/s]"
     }
    },
    "d0f4f46c426f48bba0dee6fb49b1c9ad": {
     "model_module": "@jupyter-widgets/base",
     "model_module_version": "1.2.0",
     "model_name": "LayoutModel",
     "state": {
      "_model_module": "@jupyter-widgets/base",
      "_model_module_version": "1.2.0",
      "_model_name": "LayoutModel",
      "_view_count": null,
      "_view_module": "@jupyter-widgets/base",
      "_view_module_version": "1.2.0",
      "_view_name": "LayoutView",
      "align_content": null,
      "align_items": null,
      "align_self": null,
      "border": null,
      "bottom": null,
      "display": null,
      "flex": null,
      "flex_flow": null,
      "grid_area": null,
      "grid_auto_columns": null,
      "grid_auto_flow": null,
      "grid_auto_rows": null,
      "grid_column": null,
      "grid_gap": null,
      "grid_row": null,
      "grid_template_areas": null,
      "grid_template_columns": null,
      "grid_template_rows": null,
      "height": null,
      "justify_content": null,
      "justify_items": null,
      "left": null,
      "margin": null,
      "max_height": null,
      "max_width": null,
      "min_height": null,
      "min_width": null,
      "object_fit": null,
      "object_position": null,
      "order": null,
      "overflow": null,
      "overflow_x": null,
      "overflow_y": null,
      "padding": null,
      "right": null,
      "top": null,
      "visibility": null,
      "width": null
     }
    },
    "d128d195e2094597ba5e1f7d1899d234": {
     "model_module": "@jupyter-widgets/controls",
     "model_module_version": "1.5.0",
     "model_name": "ProgressStyleModel",
     "state": {
      "_model_module": "@jupyter-widgets/controls",
      "_model_module_version": "1.5.0",
      "_model_name": "ProgressStyleModel",
      "_view_count": null,
      "_view_module": "@jupyter-widgets/base",
      "_view_module_version": "1.2.0",
      "_view_name": "StyleView",
      "bar_color": null,
      "description_width": ""
     }
    },
    "ec3df6b9f96f4ec3a569db1c441d241d": {
     "model_module": "@jupyter-widgets/controls",
     "model_module_version": "1.5.0",
     "model_name": "HTMLModel",
     "state": {
      "_dom_classes": [],
      "_model_module": "@jupyter-widgets/controls",
      "_model_module_version": "1.5.0",
      "_model_name": "HTMLModel",
      "_view_count": null,
      "_view_module": "@jupyter-widgets/controls",
      "_view_module_version": "1.5.0",
      "_view_name": "HTMLView",
      "description": "",
      "description_tooltip": null,
      "layout": "IPY_MODEL_c10d2e7ae23e4daa94bb2c74eb3a8fc4",
      "placeholder": "​",
      "style": "IPY_MODEL_6e3b2b550dcf4d298f64c8cca5b6adb7",
      "value": " 9912422/9912422 [00:00&lt;00:00, 53326833.47it/s]"
     }
    },
    "edea475c03c640e0b5d581c38d0f3011": {
     "model_module": "@jupyter-widgets/controls",
     "model_module_version": "1.5.0",
     "model_name": "DescriptionStyleModel",
     "state": {
      "_model_module": "@jupyter-widgets/controls",
      "_model_module_version": "1.5.0",
      "_model_name": "DescriptionStyleModel",
      "_view_count": null,
      "_view_module": "@jupyter-widgets/base",
      "_view_module_version": "1.2.0",
      "_view_name": "StyleView",
      "description_width": ""
     }
    },
    "f13708992cd74a838e5146eedbfb845e": {
     "model_module": "@jupyter-widgets/base",
     "model_module_version": "1.2.0",
     "model_name": "LayoutModel",
     "state": {
      "_model_module": "@jupyter-widgets/base",
      "_model_module_version": "1.2.0",
      "_model_name": "LayoutModel",
      "_view_count": null,
      "_view_module": "@jupyter-widgets/base",
      "_view_module_version": "1.2.0",
      "_view_name": "LayoutView",
      "align_content": null,
      "align_items": null,
      "align_self": null,
      "border": null,
      "bottom": null,
      "display": null,
      "flex": null,
      "flex_flow": null,
      "grid_area": null,
      "grid_auto_columns": null,
      "grid_auto_flow": null,
      "grid_auto_rows": null,
      "grid_column": null,
      "grid_gap": null,
      "grid_row": null,
      "grid_template_areas": null,
      "grid_template_columns": null,
      "grid_template_rows": null,
      "height": null,
      "justify_content": null,
      "justify_items": null,
      "left": null,
      "margin": null,
      "max_height": null,
      "max_width": null,
      "min_height": null,
      "min_width": null,
      "object_fit": null,
      "object_position": null,
      "order": null,
      "overflow": null,
      "overflow_x": null,
      "overflow_y": null,
      "padding": null,
      "right": null,
      "top": null,
      "visibility": null,
      "width": null
     }
    },
    "f6779dc374e345d0b64ffaa31c4262e5": {
     "model_module": "@jupyter-widgets/controls",
     "model_module_version": "1.5.0",
     "model_name": "DescriptionStyleModel",
     "state": {
      "_model_module": "@jupyter-widgets/controls",
      "_model_module_version": "1.5.0",
      "_model_name": "DescriptionStyleModel",
      "_view_count": null,
      "_view_module": "@jupyter-widgets/base",
      "_view_module_version": "1.2.0",
      "_view_name": "StyleView",
      "description_width": ""
     }
    }
   }
  }
 },
 "nbformat": 4,
 "nbformat_minor": 1
}
